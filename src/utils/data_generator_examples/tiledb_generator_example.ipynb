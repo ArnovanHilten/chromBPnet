{
 "cells": [
  {
   "cell_type": "markdown",
   "metadata": {},
   "source": [
    "### Example to use tiledb generator"
   ]
  },
  {
   "cell_type": "code",
   "execution_count": null,
   "metadata": {},
   "outputs": [
    {
     "name": "stdout",
     "output_type": "stream",
     "text": [
      "The autoreload extension is already loaded. To reload it, use:\n",
      "  %reload_ext autoreload\n",
      "opening:/oak/stanford/groups/akundaje/anusri/bpnet_data/gm12878_dnase/db for reading...\n",
      "success!\n",
      "got indices for used chroms\n",
      "identified input dataset indices:[[]]\n",
      "identified output dataset indices:[[0], [0]]\n",
      "identified upsampling dataset indices:[0]\n",
      "num_threads:24\n",
      "starting getting indices to upsample in range:1674883629-1808681051\n"
     ]
    }
   ],
   "source": [
    "%load_ext autoreload\n",
    "%autoreload 2\n",
    "import sys\n",
    "sys.path.append(\"../../src/training\")\n",
    "from generators.tiledb_generator import *\n",
    "import tiledb \n",
    "\n",
    "gen=TiledbGenerator(batch_size=50,\n",
    "                    ref_fasta=\"/mnt/data/GRCh38_no_alt_analysis_set_GCA_000001405.15.fasta\", # reference sequence file\n",
    "                    tdb_array=\"/oak/stanford/groups/akundaje/anusri/bpnet_data/gm12878_dnase/db\", # database generated\n",
    "                    chroms=['chr10'],\n",
    "                    num_inputs=1,\n",
    "                    num_outputs=2,\n",
    "                    tdb_input_datasets=['seq'],\n",
    "                    tdb_output_datasets=['ENCSR000EMT', 'ENCSR000EMT'],\n",
    "                    tdb_input_source_attribute=['seq'],\n",
    "                    tdb_output_source_attribute=['count_bigwig_unstranded_5p', 'count_bigwig_unstranded_5p'],\n",
    "                    tdb_input_flank=['1057'],\n",
    "                    tdb_output_flank=['500', '500'],\n",
    "                    tdb_input_min=['None'], \n",
    "                    tdb_output_min=['None', 'None'],\n",
    "                    tdb_input_max=['None'],\n",
    "                    tdb_output_max=['None', 'None'],\n",
    "                    tdb_input_aggregation=['None'],\n",
    "                    tdb_input_transformation=['None'],\n",
    "                    tdb_output_aggregation=['None','sum'],\n",
    "                    tdb_output_transformation=['None','log'],\n",
    "                    tdb_partition_attribute_for_upsample='overlap_peak',\n",
    "                    tdb_partition_thresh_for_upsample=1,\n",
    "                    tdb_partition_datasets_for_upsample=['ENCSR000EMT'],\n",
    "                    upsample_ratio=1.0,\n",
    "                    shuffle_epoch_start=True,\n",
    "                    shuffle_epoch_end=True,\n",
    "                    return_coords=True,\n",
    "                    tdb_config=get_default_config(),\n",
    "                    tdb_ctx=tiledb.Ctx(config=get_default_config()),\n",
    "                    num_threads=24,\n",
    "                    pseudocount=1)\n",
    "                   "
   ]
  },
  {
   "cell_type": "code",
   "execution_count": null,
   "metadata": {},
   "outputs": [],
   "source": []
  },
  {
   "cell_type": "code",
   "execution_count": null,
   "metadata": {},
   "outputs": [],
   "source": [
    "gen.num_indices"
   ]
  },
  {
   "cell_type": "code",
   "execution_count": null,
   "metadata": {},
   "outputs": [],
   "source": [
    "(X,y,coords)=gen[0]"
   ]
  },
  {
   "cell_type": "code",
   "execution_count": null,
   "metadata": {},
   "outputs": [],
   "source": [
    "print(X.shape)"
   ]
  },
  {
   "cell_type": "code",
   "execution_count": 11,
   "metadata": {},
   "outputs": [
    {
     "data": {
      "text/plain": [
       "(50, 1000, 1)"
      ]
     },
     "execution_count": 11,
     "metadata": {},
     "output_type": "execute_result"
    }
   ],
   "source": [
    "y[0].shape"
   ]
  },
  {
   "cell_type": "code",
   "execution_count": 13,
   "metadata": {},
   "outputs": [
    {
     "data": {
      "text/plain": [
       "(50, 1)"
      ]
     },
     "execution_count": 13,
     "metadata": {},
     "output_type": "execute_result"
    }
   ],
   "source": [
    "y[1].shape"
   ]
  },
  {
   "cell_type": "code",
   "execution_count": 14,
   "metadata": {},
   "outputs": [
    {
     "name": "stdout",
     "output_type": "stream",
     "text": [
      "[[5.7589016]\n",
      " [4.8598123]\n",
      " [4.762174 ]\n",
      " [5.209486 ]\n",
      " [5.4510384]\n",
      " [5.1416636]\n",
      " [7.7506146]\n",
      " [7.2283883]\n",
      " [5.0172796]\n",
      " [5.8021183]\n",
      " [7.293698 ]\n",
      " [5.1059456]\n",
      " [4.634729 ]\n",
      " [6.349139 ]\n",
      " [4.6151204]\n",
      " [7.1507015]\n",
      " [4.9767337]\n",
      " [5.7838254]\n",
      " [7.2348986]\n",
      " [4.94876  ]\n",
      " [4.75359  ]\n",
      " [5.9558372]\n",
      " [5.0039463]\n",
      " [5.1059456]\n",
      " [3.7612002]\n",
      " [4.5325994]\n",
      " [4.94876  ]\n",
      " [5.4510384]\n",
      " [5.609472 ]\n",
      " [5.572154 ]\n",
      " [7.215975 ]\n",
      " [6.070738 ]\n",
      " [6.340359 ]\n",
      " [7.010312 ]\n",
      " [6.4216223]\n",
      " [4.1108737]\n",
      " [4.919981 ]\n",
      " [4.4426513]\n",
      " [5.5093884]\n",
      " [5.6937323]\n",
      " [7.6024013]\n",
      " [7.3421316]\n",
      " [4.3438053]\n",
      " [5.587249 ]\n",
      " [7.784057 ]\n",
      " [5.081404 ]\n",
      " [5.602119 ]\n",
      " [5.602119 ]\n",
      " [7.080868 ]\n",
      " [6.289716 ]]\n"
     ]
    }
   ],
   "source": [
    "print(y[1])"
   ]
  },
  {
   "cell_type": "code",
   "execution_count": 15,
   "metadata": {},
   "outputs": [],
   "source": [
    "import matplotlib \n",
    "import matplotlib.pyplot as plt "
   ]
  },
  {
   "cell_type": "code",
   "execution_count": 19,
   "metadata": {},
   "outputs": [
    {
     "data": {
      "text/plain": [
       "[<matplotlib.lines.Line2D at 0x7f87a21e2090>]"
      ]
     },
     "execution_count": 19,
     "metadata": {},
     "output_type": "execute_result"
    },
    {
     "data": {
      "image/png": "[encoded data removed]",
      "text/plain": [
       "<Figure size 432x288 with 1 Axes>"
      ]
     },
     "metadata": {
      "needs_background": "light"
     },
     "output_type": "display_data"
    }
   ],
   "source": [
    "plt.plot(y[0][3,:,0])"
   ]
  }
 ],
 "metadata": {
  "kernelspec": {
   "display_name": "Python 3",
   "language": "python",
   "name": "python3"
  },
  "language_info": {
   "codemirror_mode": {
    "name": "ipython",
    "version": 3
   },
   "file_extension": ".py",
   "mimetype": "text/x-python",
   "name": "python",
   "nbconvert_exporter": "python",
   "pygments_lexer": "ipython3",
   "version": "3.7.6"
  }
 },
 "nbformat": 4,
 "nbformat_minor": 4
}
