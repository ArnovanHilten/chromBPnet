{
 "cells": [
  {
   "cell_type": "code",
   "execution_count": 1,
   "metadata": {},
   "outputs": [
    {
     "name": "stderr",
     "output_type": "stream",
     "text": [
      "Using TensorFlow backend.\n"
     ]
    }
   ],
   "source": [
    "import keras\n",
    "import tensorflow as tf\n",
    "import pyfaidx\n",
    "import math\n",
    "import pandas as pd\n",
    "import tqdm\n",
    "import numpy as np\n",
    "import pyBigWig\n",
    "import scipy\n",
    "import sys\n",
    "import os\n",
    "from keras.utils import CustomObjectScope\n",
    "from modisco.visualization import viz_sequence\n",
    "import keras.backend as K\n",
    "import matplotlib.pyplot as plt"
   ]
  },
  {
   "cell_type": "code",
   "execution_count": 2,
   "metadata": {},
   "outputs": [
    {
     "name": "stdout",
     "output_type": "stream",
     "text": [
      "(189914, 10)\n"
     ]
    },
    {
     "data": {
      "text/html": [
       "<div>\n",
       "<style scoped>\n",
       "    .dataframe tbody tr th:only-of-type {\n",
       "        vertical-align: middle;\n",
       "    }\n",
       "\n",
       "    .dataframe tbody tr th {\n",
       "        vertical-align: top;\n",
       "    }\n",
       "\n",
       "    .dataframe thead th {\n",
       "        text-align: right;\n",
       "    }\n",
       "</style>\n",
       "<table border=\"1\" class=\"dataframe\">\n",
       "  <thead>\n",
       "    <tr style=\"text-align: right;\">\n",
       "      <th></th>\n",
       "      <th>chr</th>\n",
       "      <th>start</th>\n",
       "      <th>end</th>\n",
       "      <th>1</th>\n",
       "      <th>2</th>\n",
       "      <th>3</th>\n",
       "      <th>4</th>\n",
       "      <th>5</th>\n",
       "      <th>6</th>\n",
       "      <th>summit</th>\n",
       "    </tr>\n",
       "  </thead>\n",
       "  <tbody>\n",
       "    <tr>\n",
       "      <th>0</th>\n",
       "      <td>chr1</td>\n",
       "      <td>76592500</td>\n",
       "      <td>76594614</td>\n",
       "      <td>0.38</td>\n",
       "      <td>NaN</td>\n",
       "      <td>NaN</td>\n",
       "      <td>NaN</td>\n",
       "      <td>NaN</td>\n",
       "      <td>NaN</td>\n",
       "      <td>76593557</td>\n",
       "    </tr>\n",
       "    <tr>\n",
       "      <th>1</th>\n",
       "      <td>chr1</td>\n",
       "      <td>162533550</td>\n",
       "      <td>162535664</td>\n",
       "      <td>0.46</td>\n",
       "      <td>NaN</td>\n",
       "      <td>NaN</td>\n",
       "      <td>NaN</td>\n",
       "      <td>NaN</td>\n",
       "      <td>NaN</td>\n",
       "      <td>162534607</td>\n",
       "    </tr>\n",
       "    <tr>\n",
       "      <th>2</th>\n",
       "      <td>chr1</td>\n",
       "      <td>175032450</td>\n",
       "      <td>175034564</td>\n",
       "      <td>0.45</td>\n",
       "      <td>NaN</td>\n",
       "      <td>NaN</td>\n",
       "      <td>NaN</td>\n",
       "      <td>NaN</td>\n",
       "      <td>NaN</td>\n",
       "      <td>175033507</td>\n",
       "    </tr>\n",
       "    <tr>\n",
       "      <th>3</th>\n",
       "      <td>chr1</td>\n",
       "      <td>151808900</td>\n",
       "      <td>151811014</td>\n",
       "      <td>0.46</td>\n",
       "      <td>NaN</td>\n",
       "      <td>NaN</td>\n",
       "      <td>NaN</td>\n",
       "      <td>NaN</td>\n",
       "      <td>NaN</td>\n",
       "      <td>151809957</td>\n",
       "    </tr>\n",
       "    <tr>\n",
       "      <th>4</th>\n",
       "      <td>chr1</td>\n",
       "      <td>167826000</td>\n",
       "      <td>167828114</td>\n",
       "      <td>0.45</td>\n",
       "      <td>NaN</td>\n",
       "      <td>NaN</td>\n",
       "      <td>NaN</td>\n",
       "      <td>NaN</td>\n",
       "      <td>NaN</td>\n",
       "      <td>167827057</td>\n",
       "    </tr>\n",
       "  </tbody>\n",
       "</table>\n",
       "</div>"
      ],
      "text/plain": [
       "    chr      start        end     1   2   3   4   5   6     summit\n",
       "0  chr1   76592500   76594614  0.38 NaN NaN NaN NaN NaN   76593557\n",
       "1  chr1  162533550  162535664  0.46 NaN NaN NaN NaN NaN  162534607\n",
       "2  chr1  175032450  175034564  0.45 NaN NaN NaN NaN NaN  175033507\n",
       "3  chr1  151808900  151811014  0.46 NaN NaN NaN NaN NaN  151809957\n",
       "4  chr1  167826000  167828114  0.45 NaN NaN NaN NaN NaN  167827057"
      ]
     },
     "execution_count": 2,
     "metadata": {},
     "output_type": "execute_result"
    }
   ],
   "source": [
    "hg38 = pyfaidx.Fasta('/mnt/data/GRCh38_no_alt_analysis_set_GCA_000001405.15.fasta')\n",
    "bw = pyBigWig.open(\"/srv/scratch/anusri/chrombpnet_paper/results/chrombpnet/ATAC_PE/GM12878/data/shifted.sorted.bam.chrombpnet.unstranded.bw\") # +4/-5 shifted\n",
    "gc_neg_peaks =  pd.read_csv(\"/srv/scratch/anusri/chrombpnet_paper/results/chrombpnet/ATAC_PE/GM12878/negatives_data/negatives.bed\", # these are non-peaks for fibroblast scATAC pseudo-bulk\n",
    "                           sep='\\t',\n",
    "                           names=[\"chr\", \"start\", \"end\", \"1\", \"2\", \"3\", \"4\", \"5\", \"6\", \"summit\"])\n",
    "print(gc_neg_peaks.shape)\n",
    "gc_neg_peaks[\"summit\"] = (gc_neg_peaks[\"start\"] + gc_neg_peaks[\"end\"]) // 2\n",
    "gc_neg_peaks.head()"
   ]
  },
  {
   "cell_type": "code",
   "execution_count": 3,
   "metadata": {},
   "outputs": [],
   "source": [
    "#sys.path.append(\"/srv/scratch/anusri/chrombpnet_paper/src/training/utils/\") \n",
    "#from importlib import reload\n",
    "#import one_hot"
   ]
  },
  {
   "cell_type": "code",
   "execution_count": 4,
   "metadata": {},
   "outputs": [],
   "source": [
    "peaks = gc_neg_peaks[(gc_neg_peaks[\"chr\"]==\"chr20\")]"
   ]
  },
  {
   "cell_type": "code",
   "execution_count": 5,
   "metadata": {},
   "outputs": [
    {
     "data": {
      "text/plain": [
       "3884"
      ]
     },
     "execution_count": 5,
     "metadata": {},
     "output_type": "execute_result"
    }
   ],
   "source": [
    "peaks.shape[0]"
   ]
  },
  {
   "cell_type": "code",
   "execution_count": 6,
   "metadata": {},
   "outputs": [],
   "source": [
    "def get_seq(genome, peaks_df, width=2000):\n",
    "    vals = []\n",
    "    for i, r in peaks_df.iterrows():\n",
    "        seq = str(genome[r['chr']][(r['start'] + r['summit']) - width//2:(r['start'] + r['summit']) + width//2])\n",
    "        if len(seq) == 2000:\n",
    "            vals.append(seq)\n",
    "        else:\n",
    "            #print(len(seq))\n",
    "            #print((r['start'] + r['summit'])- width//2, (r['start'] + r['summit']) + width//2)\n",
    "            pass\n",
    "        \n",
    "    return one_hot.dna_to_one_hot(vals)"
   ]
  },
  {
   "cell_type": "code",
   "execution_count": 7,
   "metadata": {},
   "outputs": [],
   "source": [
    "def get_cts(bw, peaks_df, width=2000):\n",
    "    vals = []\n",
    "    for i, r in peaks_df.iterrows():\n",
    "        try:\n",
    "            vals.append(np.nan_to_num(bw.values(r['chr'], \n",
    "                                                (r['start'] + r['summit'])- width//2,\n",
    "                                                (r['start'] + r['summit']) + width//2)))\n",
    "        except:\n",
    "            #print(i)\n",
    "            #print((r['start'] + r['summit'])- width//2, (r['start'] + r['summit']) + width//2)\n",
    "            pass\n",
    "        \n",
    "    return np.array(vals)"
   ]
  },
  {
   "cell_type": "code",
   "execution_count": 8,
   "metadata": {},
   "outputs": [
    {
     "ename": "NameError",
     "evalue": "name 'one_hot' is not defined",
     "output_type": "error",
     "traceback": [
      "\u001b[0;31m---------------------------------------------------------------------------\u001b[0m",
      "\u001b[0;31mNameError\u001b[0m                                 Traceback (most recent call last)",
      "\u001b[0;32m<ipython-input-8-a14b7d19fc8f>\u001b[0m in \u001b[0;36m<module>\u001b[0;34m\u001b[0m\n\u001b[0;32m----> 1\u001b[0;31m \u001b[0mseqs\u001b[0m \u001b[0;34m=\u001b[0m \u001b[0mget_seq\u001b[0m\u001b[0;34m(\u001b[0m\u001b[0mhg38\u001b[0m\u001b[0;34m,\u001b[0m \u001b[0mpeaks\u001b[0m\u001b[0;34m)\u001b[0m\u001b[0;34m\u001b[0m\u001b[0;34m\u001b[0m\u001b[0m\n\u001b[0m\u001b[1;32m      2\u001b[0m \u001b[0mcnts\u001b[0m \u001b[0;34m=\u001b[0m \u001b[0mget_cts\u001b[0m\u001b[0;34m(\u001b[0m\u001b[0mbw\u001b[0m\u001b[0;34m,\u001b[0m \u001b[0mpeaks\u001b[0m\u001b[0;34m)\u001b[0m\u001b[0;34m\u001b[0m\u001b[0;34m\u001b[0m\u001b[0m\n",
      "\u001b[0;32m<ipython-input-6-9ff8ab560272>\u001b[0m in \u001b[0;36mget_seq\u001b[0;34m(genome, peaks_df, width)\u001b[0m\n\u001b[1;32m     10\u001b[0m             \u001b[0;32mpass\u001b[0m\u001b[0;34m\u001b[0m\u001b[0;34m\u001b[0m\u001b[0m\n\u001b[1;32m     11\u001b[0m \u001b[0;34m\u001b[0m\u001b[0m\n\u001b[0;32m---> 12\u001b[0;31m     \u001b[0;32mreturn\u001b[0m \u001b[0mone_hot\u001b[0m\u001b[0;34m.\u001b[0m\u001b[0mdna_to_one_hot\u001b[0m\u001b[0;34m(\u001b[0m\u001b[0mvals\u001b[0m\u001b[0;34m)\u001b[0m\u001b[0;34m\u001b[0m\u001b[0;34m\u001b[0m\u001b[0m\n\u001b[0m",
      "\u001b[0;31mNameError\u001b[0m: name 'one_hot' is not defined"
     ]
    }
   ],
   "source": [
    "seqs = get_seq(hg38, peaks)\n",
    "cnts = get_cts(bw, peaks)"
   ]
  },
  {
   "cell_type": "code",
   "execution_count": null,
   "metadata": {},
   "outputs": [],
   "source": [
    "print(seqs.shape) \n",
    "print(cnts.shape)"
   ]
  },
  {
   "cell_type": "code",
   "execution_count": null,
   "metadata": {},
   "outputs": [],
   "source": [
    "def get_pwm_bg(seqs, cnts):\n",
    "    new_seqs = []\n",
    "    for i in range(cnts.shape[0]):\n",
    "        for j in range(13,cnts.shape[1]-13):\n",
    "            if cnts[i,j] > 0:\n",
    "                new_seqs.append(seqs[i,j-12:j+12,:]* cnts[i,j])\n",
    "    print(np.array(new_seqs).shape)\n",
    "    motif = np.sum(new_seqs, axis=0)\n",
    "    motif = motif/np.sum(motif, axis=-1, keepdims=True)\n",
    "    bg = np.sum(np.sum(new_seqs, axis=0), axis=0)\n",
    "    bg = bg/sum(bg)\n",
    "    return motif, bg"
   ]
  },
  {
   "cell_type": "code",
   "execution_count": null,
   "metadata": {},
   "outputs": [],
   "source": [
    "motif, bg = get_pwm_bg(seqs, cnts)"
   ]
  },
  {
   "cell_type": "code",
   "execution_count": null,
   "metadata": {},
   "outputs": [],
   "source": [
    "viz_sequence.plot_weights(viz_sequence.ic_scale(motif, background=bg))"
   ]
  }
 ],
 "metadata": {
  "kernelspec": {
   "display_name": "Python 3",
   "language": "python",
   "name": "python3"
  },
  "language_info": {
   "codemirror_mode": {
    "name": "ipython",
    "version": 3
   },
   "file_extension": ".py",
   "mimetype": "text/x-python",
   "name": "python",
   "nbconvert_exporter": "python",
   "pygments_lexer": "ipython3",
   "version": "3.7.6"
  }
 },
 "nbformat": 4,
 "nbformat_minor": 4
}
