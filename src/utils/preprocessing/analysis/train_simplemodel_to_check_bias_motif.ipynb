{
 "cells": [
  {
   "cell_type": "markdown",
   "metadata": {},
   "source": [
    "## Train a conv layer on negative regions of the bigwig to see if it learns the bias motif"
   ]
  },
  {
   "cell_type": "code",
   "execution_count": 1,
   "metadata": {},
   "outputs": [
    {
     "name": "stderr",
     "output_type": "stream",
     "text": [
      "Using TensorFlow backend.\n"
     ]
    }
   ],
   "source": [
    "import keras\n",
    "import tensorflow as tf\n",
    "import pyfaidx\n",
    "import math\n",
    "import pandas as pd\n",
    "import tqdm\n",
    "import numpy as np\n",
    "import pyBigWig\n",
    "import scipy\n",
    "import sys\n",
    "import os\n",
    "from keras.utils import CustomObjectScope\n",
    "from modisco.visualization import viz_sequence\n",
    "import keras.backend as K\n",
    "import matplotlib.pyplot as plt"
   ]
  },
  {
   "cell_type": "markdown",
   "metadata": {},
   "source": [
    "Edit the below cell to inputs of interest and run the notebook"
   ]
  },
  {
   "cell_type": "code",
   "execution_count": 20,
   "metadata": {},
   "outputs": [
    {
     "name": "stdout",
     "output_type": "stream",
     "text": [
      "(189914, 10)\n"
     ]
    },
    {
     "data": {
      "text/html": [
       "<div>\n",
       "<style scoped>\n",
       "    .dataframe tbody tr th:only-of-type {\n",
       "        vertical-align: middle;\n",
       "    }\n",
       "\n",
       "    .dataframe tbody tr th {\n",
       "        vertical-align: top;\n",
       "    }\n",
       "\n",
       "    .dataframe thead th {\n",
       "        text-align: right;\n",
       "    }\n",
       "</style>\n",
       "<table border=\"1\" class=\"dataframe\">\n",
       "  <thead>\n",
       "    <tr style=\"text-align: right;\">\n",
       "      <th></th>\n",
       "      <th>chr</th>\n",
       "      <th>start</th>\n",
       "      <th>end</th>\n",
       "      <th>1</th>\n",
       "      <th>2</th>\n",
       "      <th>3</th>\n",
       "      <th>4</th>\n",
       "      <th>5</th>\n",
       "      <th>6</th>\n",
       "      <th>summit</th>\n",
       "    </tr>\n",
       "  </thead>\n",
       "  <tbody>\n",
       "    <tr>\n",
       "      <th>0</th>\n",
       "      <td>chr1</td>\n",
       "      <td>76592500</td>\n",
       "      <td>76594614</td>\n",
       "      <td>0.38</td>\n",
       "      <td>NaN</td>\n",
       "      <td>NaN</td>\n",
       "      <td>NaN</td>\n",
       "      <td>NaN</td>\n",
       "      <td>NaN</td>\n",
       "      <td>76593557</td>\n",
       "    </tr>\n",
       "    <tr>\n",
       "      <th>1</th>\n",
       "      <td>chr1</td>\n",
       "      <td>162533550</td>\n",
       "      <td>162535664</td>\n",
       "      <td>0.46</td>\n",
       "      <td>NaN</td>\n",
       "      <td>NaN</td>\n",
       "      <td>NaN</td>\n",
       "      <td>NaN</td>\n",
       "      <td>NaN</td>\n",
       "      <td>162534607</td>\n",
       "    </tr>\n",
       "    <tr>\n",
       "      <th>2</th>\n",
       "      <td>chr1</td>\n",
       "      <td>175032450</td>\n",
       "      <td>175034564</td>\n",
       "      <td>0.45</td>\n",
       "      <td>NaN</td>\n",
       "      <td>NaN</td>\n",
       "      <td>NaN</td>\n",
       "      <td>NaN</td>\n",
       "      <td>NaN</td>\n",
       "      <td>175033507</td>\n",
       "    </tr>\n",
       "    <tr>\n",
       "      <th>3</th>\n",
       "      <td>chr1</td>\n",
       "      <td>151808900</td>\n",
       "      <td>151811014</td>\n",
       "      <td>0.46</td>\n",
       "      <td>NaN</td>\n",
       "      <td>NaN</td>\n",
       "      <td>NaN</td>\n",
       "      <td>NaN</td>\n",
       "      <td>NaN</td>\n",
       "      <td>151809957</td>\n",
       "    </tr>\n",
       "    <tr>\n",
       "      <th>4</th>\n",
       "      <td>chr1</td>\n",
       "      <td>167826000</td>\n",
       "      <td>167828114</td>\n",
       "      <td>0.45</td>\n",
       "      <td>NaN</td>\n",
       "      <td>NaN</td>\n",
       "      <td>NaN</td>\n",
       "      <td>NaN</td>\n",
       "      <td>NaN</td>\n",
       "      <td>167827057</td>\n",
       "    </tr>\n",
       "  </tbody>\n",
       "</table>\n",
       "</div>"
      ],
      "text/plain": [
       "    chr      start        end     1   2   3   4   5   6     summit\n",
       "0  chr1   76592500   76594614  0.38 NaN NaN NaN NaN NaN   76593557\n",
       "1  chr1  162533550  162535664  0.46 NaN NaN NaN NaN NaN  162534607\n",
       "2  chr1  175032450  175034564  0.45 NaN NaN NaN NaN NaN  175033507\n",
       "3  chr1  151808900  151811014  0.46 NaN NaN NaN NaN NaN  151809957\n",
       "4  chr1  167826000  167828114  0.45 NaN NaN NaN NaN NaN  167827057"
      ]
     },
     "execution_count": 20,
     "metadata": {},
     "output_type": "execute_result"
    }
   ],
   "source": [
    "sys.path.append(\"/srv/scratch/anusri/chrombpnet_paper/src/training/utils/\") \n",
    "from losses import MultichannelMultinomialNLL, multinomial_nll\n",
    "os.environ[\"CUDA_VISIBLE_DEVICES\"]=\"0\"\n",
    "hg38 = pyfaidx.Fasta('/mnt/data/GRCh38_no_alt_analysis_set_GCA_000001405.15.fasta')\n",
    "bw = pyBigWig.open(\"/srv/scratch/anusri/chrombpnet_paper/results/chrombpnet/ATAC_PE/GM12878/data/shifted.sorted.bam.chrombpnet.unstranded.bw\") # +4/-5 shifted\n",
    "gc_neg_peaks =  pd.read_csv(\"/srv/scratch/anusri/chrombpnet_paper/results/chrombpnet/ATAC_PE/GM12878/negatives_data/negatives.bed\", # these are non-peaks for fibroblast scATAC pseudo-bulk\n",
    "                           sep='\\t',\n",
    "                           names=[\"chr\", \"start\", \"end\", \"1\", \"2\", \"3\", \"4\", \"5\", \"6\", \"summit\"])\n",
    "print(gc_neg_peaks.shape)\n",
    "gc_neg_peaks[\"summit\"] = (gc_neg_peaks[\"start\"] + gc_neg_peaks[\"end\"]) // 2\n",
    "gc_neg_peaks.head()"
   ]
  },
  {
   "cell_type": "code",
   "execution_count": 21,
   "metadata": {},
   "outputs": [],
   "source": [
    "from importlib import reload\n",
    "import one_hot"
   ]
  },
  {
   "cell_type": "code",
   "execution_count": 22,
   "metadata": {},
   "outputs": [
    {
     "name": "stdout",
     "output_type": "stream",
     "text": [
      "(25000, 10)\n"
     ]
    }
   ],
   "source": [
    "gc_neg_peaks = gc_neg_peaks.sample(n=25000, replace=True, random_state=1)\n",
    "print(gc_neg_peaks.shape)"
   ]
  },
  {
   "cell_type": "code",
   "execution_count": 23,
   "metadata": {},
   "outputs": [],
   "source": [
    "train_peaks = gc_neg_peaks[(gc_neg_peaks[\"chr\"]!=\"chr1\")&(gc_neg_peaks[\"chr\"]!=\"chr2\")]\n",
    "val_peaks = gc_neg_peaks[(gc_neg_peaks[\"chr\"]==\"chr2\")]\n",
    "test_peaks = gc_neg_peaks[(gc_neg_peaks[\"chr\"]==\"chr1\")]"
   ]
  },
  {
   "cell_type": "code",
   "execution_count": 24,
   "metadata": {},
   "outputs": [
    {
     "data": {
      "text/plain": [
       "25000"
      ]
     },
     "execution_count": 24,
     "metadata": {},
     "output_type": "execute_result"
    }
   ],
   "source": [
    "train_peaks.shape[0] + val_peaks.shape[0] + test_peaks.shape[0]"
   ]
  },
  {
   "cell_type": "code",
   "execution_count": 25,
   "metadata": {},
   "outputs": [],
   "source": [
    "def get_cts(bw, peaks_df, width=2000):\n",
    "    vals = []\n",
    "    for i, r in peaks_df.iterrows():\n",
    "        try:\n",
    "            vals.append(np.nan_to_num(bw.values(r['chr'], \n",
    "                                                (r['start'] + r['summit'])- width//2,\n",
    "                                                (r['start'] + r['summit']) + width//2)))\n",
    "        except:\n",
    "            #print(i)\n",
    "            #print((r['start'] + r['summit'])- width//2, (r['start'] + r['summit']) + width//2)\n",
    "            pass\n",
    "        \n",
    "    return np.array(vals)"
   ]
  },
  {
   "cell_type": "code",
   "execution_count": 27,
   "metadata": {},
   "outputs": [],
   "source": [
    "def get_seq(genome, peaks_df, width=2000):\n",
    "    vals = []\n",
    "    for i, r in peaks_df.iterrows():\n",
    "        seq = str(genome[r['chr']][(r['start'] + r['summit']) - width//2:(r['start'] + r['summit']) + width//2])\n",
    "        if len(seq) == 2000:\n",
    "            vals.append(seq)\n",
    "        else:\n",
    "            #print(len(seq))\n",
    "            #print((r['start'] + r['summit'])- width//2, (r['start'] + r['summit']) + width//2)\n",
    "            pass\n",
    "        \n",
    "    return one_hot.dna_to_one_hot(vals)"
   ]
  },
  {
   "cell_type": "code",
   "execution_count": 28,
   "metadata": {},
   "outputs": [],
   "source": [
    "def softmax(x, temp=1):\n",
    "    norm_x = x - np.mean(x,axis=1, keepdims=True)\n",
    "    return np.exp(temp*norm_x)/np.sum(np.exp(temp*norm_x), axis=1, keepdims=True)"
   ]
  },
  {
   "cell_type": "code",
   "execution_count": 29,
   "metadata": {},
   "outputs": [],
   "source": [
    "train_cts = get_cts(bw, train_peaks)\n",
    "val_cts = get_cts(bw, val_peaks)\n",
    "test_cts = get_cts(bw, test_peaks)"
   ]
  },
  {
   "cell_type": "code",
   "execution_count": 30,
   "metadata": {},
   "outputs": [],
   "source": [
    "train_seqs = get_seq(hg38, train_peaks)\n",
    "val_seqs = get_seq(hg38, val_peaks)\n",
    "test_seqs = get_seq(hg38, test_peaks)"
   ]
  },
  {
   "cell_type": "code",
   "execution_count": 31,
   "metadata": {},
   "outputs": [
    {
     "data": {
      "text/plain": [
       "(9500, 2000, 4)"
      ]
     },
     "execution_count": 31,
     "metadata": {},
     "output_type": "execute_result"
    }
   ],
   "source": [
    "train_seqs.shape\n"
   ]
  },
  {
   "cell_type": "code",
   "execution_count": 32,
   "metadata": {},
   "outputs": [],
   "source": [
    "def simple_model():\n",
    "    inp = tf.keras.Input((2000,4))\n",
    "    x = tf.keras.layers.Conv1D(1, 50, padding='same')(inp)\n",
    "    x = tf.keras.layers.Flatten()(x)\n",
    "    \n",
    "    return tf.keras.Model(inputs=inp, outputs=x)"
   ]
  },
  {
   "cell_type": "code",
   "execution_count": 33,
   "metadata": {},
   "outputs": [],
   "source": [
    "def get_jsd(preds, cts, min_sum=10):\n",
    "    return np.array([scipy.spatial.distance.jensenshannon(x,y) for x,y in zip(preds, cts) \\\n",
    "                     if y.sum()>min_sum])"
   ]
  },
  {
   "cell_type": "code",
   "execution_count": 34,
   "metadata": {},
   "outputs": [],
   "source": [
    "model = simple_model()"
   ]
  },
  {
   "cell_type": "code",
   "execution_count": 35,
   "metadata": {},
   "outputs": [],
   "source": [
    "model.compile(\n",
    "    optimizer=\"adam\",\n",
    "    loss=multinomial_nll,\n",
    ")"
   ]
  },
  {
   "cell_type": "code",
   "execution_count": 36,
   "metadata": {},
   "outputs": [
    {
     "name": "stdout",
     "output_type": "stream",
     "text": [
      "Epoch 1/50\n",
      "10/10 [==============================] - 0s 27ms/step - loss: 424.2755 - val_loss: 450.2711\n",
      "Epoch 2/50\n",
      "10/10 [==============================] - 0s 20ms/step - loss: 417.5846 - val_loss: 443.4513\n",
      "Epoch 3/50\n",
      "10/10 [==============================] - 0s 20ms/step - loss: 411.5047 - val_loss: 437.2333\n",
      "Epoch 4/50\n",
      "10/10 [==============================] - 0s 19ms/step - loss: 405.9665 - val_loss: 431.5862\n",
      "Epoch 5/50\n",
      "10/10 [==============================] - 0s 21ms/step - loss: 400.9624 - val_loss: 426.4713\n",
      "Epoch 6/50\n",
      "10/10 [==============================] - 0s 17ms/step - loss: 396.4172 - val_loss: 421.8385\n",
      "Epoch 7/50\n",
      "10/10 [==============================] - 0s 17ms/step - loss: 392.3050 - val_loss: 417.5984\n",
      "Epoch 8/50\n",
      "10/10 [==============================] - 0s 16ms/step - loss: 388.5117 - val_loss: 413.7063\n",
      "Epoch 9/50\n",
      "10/10 [==============================] - 0s 19ms/step - loss: 385.0462 - val_loss: 410.1127\n",
      "Epoch 10/50\n",
      "10/10 [==============================] - 0s 18ms/step - loss: 381.8423 - val_loss: 406.8163\n",
      "Epoch 11/50\n",
      "10/10 [==============================] - 0s 19ms/step - loss: 378.8894 - val_loss: 403.7796\n",
      "Epoch 12/50\n",
      "10/10 [==============================] - 0s 19ms/step - loss: 376.1578 - val_loss: 400.9566\n",
      "Epoch 13/50\n",
      "10/10 [==============================] - 0s 16ms/step - loss: 373.6336 - val_loss: 398.3420\n",
      "Epoch 14/50\n",
      "10/10 [==============================] - 0s 19ms/step - loss: 371.2809 - val_loss: 395.9157\n",
      "Epoch 15/50\n",
      "10/10 [==============================] - 0s 16ms/step - loss: 369.1169 - val_loss: 393.6482\n",
      "Epoch 16/50\n",
      "10/10 [==============================] - 0s 18ms/step - loss: 367.0681 - val_loss: 391.5626\n",
      "Epoch 17/50\n",
      "10/10 [==============================] - 0s 18ms/step - loss: 365.2027 - val_loss: 389.6067\n",
      "Epoch 18/50\n",
      "10/10 [==============================] - 0s 18ms/step - loss: 363.4473 - val_loss: 387.7888\n",
      "Epoch 19/50\n",
      "10/10 [==============================] - 0s 19ms/step - loss: 361.8105 - val_loss: 386.1020\n",
      "Epoch 20/50\n",
      "10/10 [==============================] - 0s 20ms/step - loss: 360.2935 - val_loss: 384.5160\n",
      "Epoch 21/50\n",
      "10/10 [==============================] - 0s 19ms/step - loss: 358.8745 - val_loss: 383.0239\n",
      "Epoch 22/50\n",
      "10/10 [==============================] - 0s 24ms/step - loss: 357.5354 - val_loss: 381.6512\n",
      "Epoch 23/50\n",
      "10/10 [==============================] - 0s 24ms/step - loss: 356.2988 - val_loss: 380.3472\n",
      "Epoch 24/50\n",
      "10/10 [==============================] - 0s 26ms/step - loss: 355.1316 - val_loss: 379.1390\n",
      "Epoch 25/50\n",
      "10/10 [==============================] - 0s 31ms/step - loss: 354.0569 - val_loss: 378.0084\n",
      "Epoch 26/50\n",
      "10/10 [==============================] - 0s 26ms/step - loss: 353.0395 - val_loss: 376.9590\n",
      "Epoch 27/50\n",
      "10/10 [==============================] - 0s 21ms/step - loss: 352.0978 - val_loss: 375.9691\n",
      "Epoch 28/50\n",
      "10/10 [==============================] - 0s 28ms/step - loss: 351.2112 - val_loss: 375.0500\n",
      "Epoch 29/50\n",
      "10/10 [==============================] - 0s 23ms/step - loss: 350.3859 - val_loss: 374.1989\n",
      "Epoch 30/50\n",
      "10/10 [==============================] - 0s 21ms/step - loss: 349.6105 - val_loss: 373.3808\n",
      "Epoch 31/50\n",
      "10/10 [==============================] - 0s 24ms/step - loss: 348.8821 - val_loss: 372.6195\n",
      "Epoch 32/50\n",
      "10/10 [==============================] - 0s 19ms/step - loss: 348.2088 - val_loss: 371.9060\n",
      "Epoch 33/50\n",
      "10/10 [==============================] - 0s 22ms/step - loss: 347.5712 - val_loss: 371.2465\n",
      "Epoch 34/50\n",
      "10/10 [==============================] - 0s 21ms/step - loss: 346.9752 - val_loss: 370.6275\n",
      "Epoch 35/50\n",
      "10/10 [==============================] - 0s 19ms/step - loss: 346.4155 - val_loss: 370.0384\n",
      "Epoch 36/50\n",
      "10/10 [==============================] - 0s 20ms/step - loss: 345.8917 - val_loss: 369.4860\n",
      "Epoch 37/50\n",
      "10/10 [==============================] - 0s 20ms/step - loss: 345.4044 - val_loss: 368.9701\n",
      "Epoch 38/50\n",
      "10/10 [==============================] - 0s 20ms/step - loss: 344.9472 - val_loss: 368.4908\n",
      "Epoch 39/50\n",
      "10/10 [==============================] - 0s 18ms/step - loss: 344.5156 - val_loss: 368.0390\n",
      "Epoch 40/50\n",
      "10/10 [==============================] - 0s 16ms/step - loss: 344.1156 - val_loss: 367.6220\n",
      "Epoch 41/50\n",
      "10/10 [==============================] - 0s 19ms/step - loss: 343.7343 - val_loss: 367.2182\n",
      "Epoch 42/50\n",
      "10/10 [==============================] - 0s 19ms/step - loss: 343.3777 - val_loss: 366.8499\n",
      "Epoch 43/50\n",
      "10/10 [==============================] - 0s 17ms/step - loss: 343.0421 - val_loss: 366.4957\n",
      "Epoch 44/50\n",
      "10/10 [==============================] - 0s 17ms/step - loss: 342.7272 - val_loss: 366.1701\n",
      "Epoch 45/50\n",
      "10/10 [==============================] - 0s 23ms/step - loss: 342.4299 - val_loss: 365.8492\n",
      "Epoch 46/50\n",
      "10/10 [==============================] - 0s 23ms/step - loss: 342.1503 - val_loss: 365.5545\n",
      "Epoch 47/50\n",
      "10/10 [==============================] - 0s 37ms/step - loss: 341.8870 - val_loss: 365.2839\n",
      "Epoch 48/50\n",
      "10/10 [==============================] - 0s 32ms/step - loss: 341.6349 - val_loss: 365.0209\n",
      "Epoch 49/50\n",
      "10/10 [==============================] - 0s 31ms/step - loss: 341.4014 - val_loss: 364.7700\n",
      "Epoch 50/50\n",
      "10/10 [==============================] - 0s 35ms/step - loss: 341.1784 - val_loss: 364.5329\n"
     ]
    },
    {
     "data": {
      "text/plain": [
       "<tensorflow.python.keras.callbacks.History at 0x7fae3917b750>"
      ]
     },
     "execution_count": 36,
     "metadata": {},
     "output_type": "execute_result"
    }
   ],
   "source": [
    "model.fit(train_seqs,\n",
    "          train_cts,\n",
    "         batch_size=1024,\n",
    "         epochs=50,\n",
    "         validation_data=(val_seqs, val_cts),\n",
    "          shuffle=True)"
   ]
  },
  {
   "cell_type": "code",
   "execution_count": 37,
   "metadata": {},
   "outputs": [
    {
     "data": {
      "text/plain": [
       "0.7158948178956863"
      ]
     },
     "execution_count": 37,
     "metadata": {},
     "output_type": "execute_result"
    }
   ],
   "source": [
    "np.median(get_jsd(softmax(model.predict(test_seqs)), test_cts))"
   ]
  },
  {
   "cell_type": "code",
   "execution_count": 19,
   "metadata": {
    "scrolled": true
   },
   "outputs": [
    {
     "data": {
      "image/png": "[encoded data removed]",
      "text/plain": [
       "<Figure size 1440x144 with 1 Axes>"
      ]
     },
     "metadata": {
      "needs_background": "light"
     },
     "output_type": "display_data"
    }
   ],
   "source": [
    "viz_sequence.plot_weights(model.layers[1].get_weights()[0][:,:,0], subticks_frequency=20)\n"
   ]
  }
 ],
 "metadata": {
  "kernelspec": {
   "display_name": "Python 3",
   "language": "python",
   "name": "python3"
  },
  "language_info": {
   "codemirror_mode": {
    "name": "ipython",
    "version": 3
   },
   "file_extension": ".py",
   "mimetype": "text/x-python",
   "name": "python",
   "nbconvert_exporter": "python",
   "pygments_lexer": "ipython3",
   "version": "3.7.6"
  }
 },
 "nbformat": 4,
 "nbformat_minor": 4
}
