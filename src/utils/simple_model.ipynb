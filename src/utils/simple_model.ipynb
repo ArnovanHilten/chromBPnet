{
 "cells": [
  {
   "cell_type": "code",
   "execution_count": 1,
   "metadata": {},
   "outputs": [
    {
     "name": "stderr",
     "output_type": "stream",
     "text": [
      "Using TensorFlow backend.\n"
     ]
    }
   ],
   "source": [
    "import keras\n",
    "import tensorflow as tf\n",
    "import pyfaidx\n",
    "import math\n",
    "import pandas as pd\n",
    "import tqdm\n",
    "import numpy as np\n",
    "import pyBigWig\n",
    "import scipy\n",
    "\n",
    "from modisco.visualization import viz_sequence\n",
    "import keras.backend as K"
   ]
  },
  {
   "cell_type": "code",
   "execution_count": 2,
   "metadata": {},
   "outputs": [],
   "source": [
    "import sys\n",
    "\n",
    "from keras.utils import CustomObjectScope\n",
    "\n",
    "# mtbatchgen\n",
    "sys.path.append(\"/users/surag/kundajelab/mtbatchgen/example/\")\n",
    "from losses import MultichannelMultinomialNLL, multinomial_nll\n",
    "import matplotlib.pyplot as plt"
   ]
  },
  {
   "cell_type": "code",
   "execution_count": 3,
   "metadata": {},
   "outputs": [
    {
     "data": {
      "text/plain": [
       "<module 'one_hot' from '/srv/scratch/anusri/chrombpnet_paper/src/utils/one_hot.py'>"
      ]
     },
     "execution_count": 3,
     "metadata": {},
     "output_type": "execute_result"
    }
   ],
   "source": [
    "# local\n",
    "#sys.path.append(\"/users/surag/kundajelab/scATAC-reprog/src/analysis/20210322_BPNet_synthetic/\")\n",
    "from importlib import reload\n",
    "import one_hot\n",
    "reload(one_hot)"
   ]
  },
  {
   "cell_type": "code",
   "execution_count": 4,
   "metadata": {},
   "outputs": [],
   "source": [
    "hg38 = pyfaidx.Fasta('/users/surag/genomes/hg38/GRCh38_no_alt_analysis_set_GCA_000001405.15.fasta')\n"
   ]
  },
  {
   "cell_type": "code",
   "execution_count": 5,
   "metadata": {},
   "outputs": [
    {
     "name": "stdout",
     "output_type": "stream",
     "text": [
      "(270286, 10)\n"
     ]
    },
    {
     "data": {
      "text/html": [
       "<div>\n",
       "<style scoped>\n",
       "    .dataframe tbody tr th:only-of-type {\n",
       "        vertical-align: middle;\n",
       "    }\n",
       "\n",
       "    .dataframe tbody tr th {\n",
       "        vertical-align: top;\n",
       "    }\n",
       "\n",
       "    .dataframe thead th {\n",
       "        text-align: right;\n",
       "    }\n",
       "</style>\n",
       "<table border=\"1\" class=\"dataframe\">\n",
       "  <thead>\n",
       "    <tr style=\"text-align: right;\">\n",
       "      <th></th>\n",
       "      <th>chr</th>\n",
       "      <th>start</th>\n",
       "      <th>end</th>\n",
       "      <th>1</th>\n",
       "      <th>2</th>\n",
       "      <th>3</th>\n",
       "      <th>4</th>\n",
       "      <th>5</th>\n",
       "      <th>6</th>\n",
       "      <th>summit</th>\n",
       "    </tr>\n",
       "  </thead>\n",
       "  <tbody>\n",
       "    <tr>\n",
       "      <th>0</th>\n",
       "      <td>chr9</td>\n",
       "      <td>127108857</td>\n",
       "      <td>127108859</td>\n",
       "      <td>.</td>\n",
       "      <td>2</td>\n",
       "      <td>.</td>\n",
       "      <td>.</td>\n",
       "      <td>.</td>\n",
       "      <td>.</td>\n",
       "      <td>1</td>\n",
       "    </tr>\n",
       "    <tr>\n",
       "      <th>1</th>\n",
       "      <td>chr22</td>\n",
       "      <td>39431257</td>\n",
       "      <td>39431259</td>\n",
       "      <td>.</td>\n",
       "      <td>2</td>\n",
       "      <td>.</td>\n",
       "      <td>.</td>\n",
       "      <td>.</td>\n",
       "      <td>.</td>\n",
       "      <td>1</td>\n",
       "    </tr>\n",
       "    <tr>\n",
       "      <th>2</th>\n",
       "      <td>chr22</td>\n",
       "      <td>44272007</td>\n",
       "      <td>44272009</td>\n",
       "      <td>.</td>\n",
       "      <td>2</td>\n",
       "      <td>.</td>\n",
       "      <td>.</td>\n",
       "      <td>.</td>\n",
       "      <td>.</td>\n",
       "      <td>1</td>\n",
       "    </tr>\n",
       "    <tr>\n",
       "      <th>3</th>\n",
       "      <td>chr9</td>\n",
       "      <td>113089657</td>\n",
       "      <td>113089659</td>\n",
       "      <td>.</td>\n",
       "      <td>2</td>\n",
       "      <td>.</td>\n",
       "      <td>.</td>\n",
       "      <td>.</td>\n",
       "      <td>.</td>\n",
       "      <td>1</td>\n",
       "    </tr>\n",
       "    <tr>\n",
       "      <th>4</th>\n",
       "      <td>chr22</td>\n",
       "      <td>37343307</td>\n",
       "      <td>37343309</td>\n",
       "      <td>.</td>\n",
       "      <td>2</td>\n",
       "      <td>.</td>\n",
       "      <td>.</td>\n",
       "      <td>.</td>\n",
       "      <td>.</td>\n",
       "      <td>1</td>\n",
       "    </tr>\n",
       "  </tbody>\n",
       "</table>\n",
       "</div>"
      ],
      "text/plain": [
       "     chr      start        end  1  2  3  4  5  6  summit\n",
       "0   chr9  127108857  127108859  .  2  .  .  .  .       1\n",
       "1  chr22   39431257   39431259  .  2  .  .  .  .       1\n",
       "2  chr22   44272007   44272009  .  2  .  .  .  .       1\n",
       "3   chr9  113089657  113089659  .  2  .  .  .  .       1\n",
       "4  chr22   37343307   37343309  .  2  .  .  .  .       1"
      ]
     },
     "execution_count": 5,
     "metadata": {},
     "output_type": "execute_result"
    }
   ],
   "source": [
    "import os\n",
    "os.environ[\"CUDA_VISIBLE_DEVICES\"]=\"1\"\n",
    "gc_neg_peaks =  pd.read_csv(\"/srv/scratch/anusri/chrombpnet_paper/results/chrombpnet/ATAC/K562/negatives_data/bpnet.inputs.all.negatives.bed\", # these are non-peaks for fibroblast scATAC pseudo-bulk\n",
    "                           sep='\\t',\n",
    "                           names=[\"chr\", \"start\", \"end\", \"1\", \"2\", \"3\", \"4\", \"5\", \"6\", \"summit\"])\n",
    "print(gc_neg_peaks.shape)\n",
    "gc_neg_peaks.head()"
   ]
  },
  {
   "cell_type": "code",
   "execution_count": 6,
   "metadata": {},
   "outputs": [
    {
     "name": "stdout",
     "output_type": "stream",
     "text": [
      "(25000, 10)\n"
     ]
    }
   ],
   "source": [
    "gc_neg_peaks = gc_neg_peaks.sample(n=25000, replace=True, random_state=1)\n",
    "print(gc_neg_peaks.shape)\n",
    "\n",
    "\n"
   ]
  },
  {
   "cell_type": "code",
   "execution_count": 7,
   "metadata": {},
   "outputs": [],
   "source": [
    "train_peaks = gc_neg_peaks[(gc_neg_peaks[\"chr\"]!=\"chr1\")&(gc_neg_peaks[\"chr\"]!=\"chr2\")]\n",
    "val_peaks = gc_neg_peaks[(gc_neg_peaks[\"chr\"]==\"chr2\")]\n",
    "test_peaks = gc_neg_peaks[(gc_neg_peaks[\"chr\"]==\"chr1\")]\n",
    "\n",
    "\n",
    "\n",
    "\n"
   ]
  },
  {
   "cell_type": "code",
   "execution_count": 8,
   "metadata": {},
   "outputs": [
    {
     "data": {
      "text/plain": [
       "25000"
      ]
     },
     "execution_count": 8,
     "metadata": {},
     "output_type": "execute_result"
    }
   ],
   "source": [
    "train_peaks.shape[0] + val_peaks.shape[0] + test_peaks.shape[0]\n",
    "\n",
    "\n",
    "\n"
   ]
  },
  {
   "cell_type": "code",
   "execution_count": 9,
   "metadata": {},
   "outputs": [],
   "source": [
    "fibr_45_bw = pyBigWig.open(\"/oak/stanford/groups/akundaje/refs/backgrounds_accesibility/DNASE_background_hg38/ENCODE.DNASE.merged.bpnet.unstranded.bw\") # +4/-5 shifted\n",
    "fibr_44_bw = pyBigWig.open(\"/oak/stanford/groups/akundaje/projects/chrombpnet/model_inputs/ATAC/K562.filtered.merged.bam.unstranded.bw\") # +4/-4 shifted\n",
    "\n",
    "\n"
   ]
  },
  {
   "cell_type": "code",
   "execution_count": 10,
   "metadata": {},
   "outputs": [],
   "source": [
    "def get_cts(bw, peaks_df, width=2000):\n",
    "    vals = []\n",
    "    for i, r in peaks_df.iterrows():\n",
    "        try:\n",
    "            vals.append(np.nan_to_num(bw.values(r['chr'], \n",
    "                                                (r['start'] + r['summit'])- width//2,\n",
    "                                                (r['start'] + r['summit']) + width//2)))\n",
    "        except:\n",
    "            print((r['start'] + r['summit'])- width//2, (r['start'] + r['summit']) + width//2)\n",
    "        \n",
    "    return np.array(vals)"
   ]
  },
  {
   "cell_type": "code",
   "execution_count": 11,
   "metadata": {},
   "outputs": [],
   "source": [
    "def get_seq(genome, peaks_df, width=2000):\n",
    "    vals = []\n",
    "    for i, r in peaks_df.iterrows():\n",
    "        seq = str(genome[r['chr']][(r['start'] + r['summit']) - width//2:(r['start'] + r['summit']) + width//2])\n",
    "        if len(seq) == 2000:\n",
    "            vals.append(seq)\n",
    "        else:\n",
    "            print((r['start'] + r['summit'])- width//2, (r['start'] + r['summit']) + width//2)\n",
    "        \n",
    "    return one_hot.dna_to_one_hot(vals)"
   ]
  },
  {
   "cell_type": "code",
   "execution_count": 12,
   "metadata": {},
   "outputs": [],
   "source": [
    "def softmax(x, temp=1):\n",
    "    norm_x = x - np.mean(x,axis=1, keepdims=True)\n",
    "    return np.exp(temp*norm_x)/np.sum(np.exp(temp*norm_x), axis=1, keepdims=True)"
   ]
  },
  {
   "cell_type": "code",
   "execution_count": 13,
   "metadata": {},
   "outputs": [],
   "source": [
    "train_45_cts = get_cts(fibr_45_bw, train_peaks)\n",
    "val_45_cts = get_cts(fibr_45_bw, val_peaks)\n",
    "test_45_cts = get_cts(fibr_45_bw, test_peaks)\n",
    "\n",
    "train_44_cts = get_cts(fibr_44_bw, train_peaks)\n",
    "val_44_cts = get_cts(fibr_44_bw, val_peaks)\n",
    "test_44_cts = get_cts(fibr_44_bw, test_peaks)\n",
    "\n",
    "\n",
    "\n",
    "\n"
   ]
  },
  {
   "cell_type": "code",
   "execution_count": 14,
   "metadata": {},
   "outputs": [],
   "source": [
    "train_seqs = get_seq(hg38, train_peaks)\n",
    "val_seqs = get_seq(hg38, val_peaks)\n",
    "test_seqs = get_seq(hg38, test_peaks)\n",
    "\n",
    "\n",
    "\n"
   ]
  },
  {
   "cell_type": "code",
   "execution_count": 15,
   "metadata": {},
   "outputs": [
    {
     "data": {
      "text/plain": [
       "(20078, 2000, 4)"
      ]
     },
     "execution_count": 15,
     "metadata": {},
     "output_type": "execute_result"
    }
   ],
   "source": [
    "train_seqs.shape\n"
   ]
  },
  {
   "cell_type": "code",
   "execution_count": 16,
   "metadata": {},
   "outputs": [],
   "source": [
    "def simple_model():\n",
    "    inp = tf.keras.Input((2000,4))\n",
    "    x = tf.keras.layers.Conv1D(1, 100, padding='same')(inp)\n",
    "    x = tf.keras.layers.Flatten()(x)\n",
    "    \n",
    "    return tf.keras.Model(inputs=inp, outputs=x)\n",
    "\n",
    "\n",
    "\n"
   ]
  },
  {
   "cell_type": "code",
   "execution_count": 17,
   "metadata": {},
   "outputs": [],
   "source": [
    "def get_jsd(preds, cts, min_sum=10):\n",
    "    return np.array([scipy.spatial.distance.jensenshannon(x,y) for x,y in zip(preds, cts) \\\n",
    "                     if y.sum()>min_sum])\n",
    "\n",
    "\n",
    "\n",
    "\n"
   ]
  },
  {
   "cell_type": "code",
   "execution_count": 18,
   "metadata": {},
   "outputs": [],
   "source": [
    "model_45 = simple_model()\n",
    "#import os\n",
    "#os.environ[\"CUDA_VISIBLE_DEVICES\"]=\"1\"\n",
    "model_44 = simple_model()\n",
    "\n",
    "\n",
    "\n"
   ]
  },
  {
   "cell_type": "code",
   "execution_count": 19,
   "metadata": {},
   "outputs": [],
   "source": [
    "model_45.compile(\n",
    "    optimizer=\"adam\",\n",
    "    loss=multinomial_nll,\n",
    ")\n",
    "\n",
    "model_44.compile(\n",
    "    optimizer=\"adam\",\n",
    "    loss=multinomial_nll,\n",
    ")\n",
    "\n",
    "\n",
    "\n"
   ]
  },
  {
   "cell_type": "code",
   "execution_count": 20,
   "metadata": {},
   "outputs": [
    {
     "name": "stdout",
     "output_type": "stream",
     "text": [
      "Epoch 1/50\n",
      "20/20 [==============================] - 1s 48ms/step - loss: 31662.2168 - val_loss: 28974.3574\n",
      "Epoch 2/50\n",
      "20/20 [==============================] - 1s 26ms/step - loss: 28175.1289 - val_loss: 26345.6426\n",
      "Epoch 3/50\n",
      "20/20 [==============================] - 1s 30ms/step - loss: 25964.0840 - val_loss: 24694.1133\n",
      "Epoch 4/50\n",
      "20/20 [==============================] - 1s 27ms/step - loss: 24558.4355 - val_loss: 23607.2695\n",
      "Epoch 5/50\n",
      "20/20 [==============================] - 1s 27ms/step - loss: 23606.0820 - val_loss: 22834.6973\n",
      "Epoch 6/50\n",
      "20/20 [==============================] - 1s 26ms/step - loss: 22905.4688 - val_loss: 22244.5957\n",
      "Epoch 7/50\n",
      "20/20 [==============================] - 1s 28ms/step - loss: 22358.1816 - val_loss: 21765.1367\n",
      "Epoch 8/50\n",
      "20/20 [==============================] - 1s 29ms/step - loss: 21904.1582 - val_loss: 21363.0859\n",
      "Epoch 9/50\n",
      "20/20 [==============================] - 1s 26ms/step - loss: 21519.8926 - val_loss: 21017.0312\n",
      "Epoch 10/50\n",
      "20/20 [==============================] - 1s 26ms/step - loss: 21185.4082 - val_loss: 20712.2871\n",
      "Epoch 11/50\n",
      "20/20 [==============================] - 1s 28ms/step - loss: 20890.2949 - val_loss: 20443.6250\n",
      "Epoch 12/50\n",
      "20/20 [==============================] - 1s 28ms/step - loss: 20628.7617 - val_loss: 20200.1855\n",
      "Epoch 13/50\n",
      "20/20 [==============================] - 1s 27ms/step - loss: 20393.3633 - val_loss: 19983.5547\n",
      "Epoch 14/50\n",
      "20/20 [==============================] - 1s 26ms/step - loss: 20182.1699 - val_loss: 19791.0098\n",
      "Epoch 15/50\n",
      "20/20 [==============================] - 1s 28ms/step - loss: 19992.0703 - val_loss: 19614.2461\n",
      "Epoch 16/50\n",
      "20/20 [==============================] - 1s 30ms/step - loss: 19821.0137 - val_loss: 19454.5020\n",
      "Epoch 17/50\n",
      "20/20 [==============================] - 1s 31ms/step - loss: 19666.3496 - val_loss: 19309.9102\n",
      "Epoch 18/50\n",
      "20/20 [==============================] - 1s 28ms/step - loss: 19526.7988 - val_loss: 19184.7266\n",
      "Epoch 19/50\n",
      "20/20 [==============================] - 1s 41ms/step - loss: 19401.8984 - val_loss: 19064.7812\n",
      "Epoch 20/50\n",
      "20/20 [==============================] - 1s 54ms/step - loss: 19288.9062 - val_loss: 18959.1738\n",
      "Epoch 21/50\n",
      "20/20 [==============================] - 1s 73ms/step - loss: 19186.0566 - val_loss: 18866.5312\n",
      "Epoch 22/50\n",
      "20/20 [==============================] - 1s 54ms/step - loss: 19093.6836 - val_loss: 18777.5566\n",
      "Epoch 23/50\n",
      "20/20 [==============================] - 1s 49ms/step - loss: 19010.6582 - val_loss: 18702.4180\n",
      "Epoch 24/50\n",
      "20/20 [==============================] - 1s 30ms/step - loss: 18936.6777 - val_loss: 18633.2324\n",
      "Epoch 25/50\n",
      "20/20 [==============================] - 1s 32ms/step - loss: 18872.5898 - val_loss: 18577.9785\n",
      "Epoch 26/50\n",
      "20/20 [==============================] - 1s 26ms/step - loss: 18809.9707 - val_loss: 18512.5605\n",
      "Epoch 27/50\n",
      "20/20 [==============================] - 1s 30ms/step - loss: 18755.9941 - val_loss: 18462.2832\n",
      "Epoch 28/50\n",
      "20/20 [==============================] - 1s 34ms/step - loss: 18705.8457 - val_loss: 18418.7461\n",
      "Epoch 29/50\n",
      "20/20 [==============================] - 1s 29ms/step - loss: 18662.2832 - val_loss: 18375.9551\n",
      "Epoch 30/50\n",
      "20/20 [==============================] - 1s 31ms/step - loss: 18623.2598 - val_loss: 18339.0527\n",
      "Epoch 31/50\n",
      "20/20 [==============================] - 1s 48ms/step - loss: 18588.1250 - val_loss: 18304.2324\n",
      "Epoch 32/50\n",
      "20/20 [==============================] - 1s 56ms/step - loss: 18557.6992 - val_loss: 18277.4492\n",
      "Epoch 33/50\n",
      "20/20 [==============================] - 1s 53ms/step - loss: 18530.7461 - val_loss: 18250.2227\n",
      "Epoch 34/50\n",
      "20/20 [==============================] - 1s 36ms/step - loss: 18505.3086 - val_loss: 18227.6113\n",
      "Epoch 35/50\n",
      "20/20 [==============================] - 1s 37ms/step - loss: 18481.7422 - val_loss: 18204.9336\n",
      "Epoch 36/50\n",
      "20/20 [==============================] - 1s 53ms/step - loss: 18462.3477 - val_loss: 18186.4707\n",
      "Epoch 37/50\n",
      "20/20 [==============================] - 1s 60ms/step - loss: 18444.9141 - val_loss: 18171.2812\n",
      "Epoch 38/50\n",
      "20/20 [==============================] - 1s 56ms/step - loss: 18428.6406 - val_loss: 18155.3242\n",
      "Epoch 39/50\n",
      "20/20 [==============================] - 1s 37ms/step - loss: 18415.5273 - val_loss: 18144.0977\n",
      "Epoch 40/50\n",
      "20/20 [==============================] - 1s 30ms/step - loss: 18402.7207 - val_loss: 18129.0215\n",
      "Epoch 41/50\n",
      "20/20 [==============================] - 1s 32ms/step - loss: 18391.2207 - val_loss: 18120.1270\n",
      "Epoch 42/50\n",
      "20/20 [==============================] - 1s 26ms/step - loss: 18382.3535 - val_loss: 18111.3887\n",
      "Epoch 43/50\n",
      "20/20 [==============================] - 1s 29ms/step - loss: 18373.8398 - val_loss: 18101.6855\n",
      "Epoch 44/50\n",
      "20/20 [==============================] - 1s 25ms/step - loss: 18366.6406 - val_loss: 18094.8301\n",
      "Epoch 45/50\n",
      "20/20 [==============================] - 1s 32ms/step - loss: 18359.6641 - val_loss: 18086.2148\n",
      "Epoch 46/50\n",
      "20/20 [==============================] - 1s 37ms/step - loss: 18353.9922 - val_loss: 18082.7422\n",
      "Epoch 47/50\n",
      "20/20 [==============================] - 1s 44ms/step - loss: 18349.5215 - val_loss: 18078.4219\n",
      "Epoch 48/50\n",
      "20/20 [==============================] - 1s 47ms/step - loss: 18344.2207 - val_loss: 18073.6172\n",
      "Epoch 49/50\n",
      "20/20 [==============================] - 1s 36ms/step - loss: 18340.3340 - val_loss: 18068.0840\n",
      "Epoch 50/50\n",
      "20/20 [==============================] - 1s 36ms/step - loss: 18337.1074 - val_loss: 18065.0410\n"
     ]
    },
    {
     "data": {
      "text/plain": [
       "<tensorflow.python.keras.callbacks.History at 0x7f9e4ed3cc50>"
      ]
     },
     "execution_count": 20,
     "metadata": {},
     "output_type": "execute_result"
    }
   ],
   "source": [
    "model_45.fit(train_seqs,\n",
    "          train_45_cts,\n",
    "         batch_size=1024,\n",
    "         epochs=50,\n",
    "         validation_data=(val_seqs, val_45_cts),\n",
    "          shuffle=True)\n",
    "\n",
    "\n",
    "\n",
    "\n"
   ]
  },
  {
   "cell_type": "code",
   "execution_count": 21,
   "metadata": {},
   "outputs": [
    {
     "name": "stdout",
     "output_type": "stream",
     "text": [
      "Epoch 1/50\n",
      "20/20 [==============================] - 1s 42ms/step - loss: 862.8905 - val_loss: 776.7172\n",
      "Epoch 2/50\n",
      "20/20 [==============================] - 1s 29ms/step - loss: 824.1949 - val_loss: 746.8724\n",
      "Epoch 3/50\n",
      "20/20 [==============================] - 1s 27ms/step - loss: 794.5673 - val_loss: 723.6735\n",
      "Epoch 4/50\n",
      "20/20 [==============================] - 1s 29ms/step - loss: 771.1046 - val_loss: 705.0118\n",
      "Epoch 5/50\n",
      "20/20 [==============================] - 1s 33ms/step - loss: 752.0059 - val_loss: 689.3794\n",
      "Epoch 6/50\n",
      "20/20 [==============================] - 1s 31ms/step - loss: 735.7917 - val_loss: 676.1106\n",
      "Epoch 7/50\n",
      "20/20 [==============================] - 1s 29ms/step - loss: 721.9141 - val_loss: 664.6065\n",
      "Epoch 8/50\n",
      "20/20 [==============================] - 1s 29ms/step - loss: 709.8436 - val_loss: 654.5139\n",
      "Epoch 9/50\n",
      "20/20 [==============================] - 1s 28ms/step - loss: 699.2526 - val_loss: 645.6116\n",
      "Epoch 10/50\n",
      "20/20 [==============================] - 0s 25ms/step - loss: 689.9479 - val_loss: 637.7909\n",
      "Epoch 11/50\n",
      "20/20 [==============================] - 0s 24ms/step - loss: 681.7386 - val_loss: 630.9211\n",
      "Epoch 12/50\n",
      "20/20 [==============================] - 1s 28ms/step - loss: 674.5471 - val_loss: 624.8428\n",
      "Epoch 13/50\n",
      "20/20 [==============================] - 1s 27ms/step - loss: 668.1964 - val_loss: 619.4728\n",
      "Epoch 14/50\n",
      "20/20 [==============================] - 1s 27ms/step - loss: 662.5924 - val_loss: 614.7436\n",
      "Epoch 15/50\n",
      "20/20 [==============================] - 1s 30ms/step - loss: 657.6776 - val_loss: 610.5527\n",
      "Epoch 16/50\n",
      "20/20 [==============================] - 1s 40ms/step - loss: 653.3339 - val_loss: 606.8640\n",
      "Epoch 17/50\n",
      "20/20 [==============================] - 1s 42ms/step - loss: 649.5148 - val_loss: 603.6044\n",
      "Epoch 18/50\n",
      "20/20 [==============================] - 1s 49ms/step - loss: 646.1493 - val_loss: 600.7220\n",
      "Epoch 19/50\n",
      "20/20 [==============================] - 1s 39ms/step - loss: 643.1840 - val_loss: 598.1680\n",
      "Epoch 20/50\n",
      "20/20 [==============================] - 1s 42ms/step - loss: 640.5627 - val_loss: 595.9244\n",
      "Epoch 21/50\n",
      "20/20 [==============================] - 1s 29ms/step - loss: 638.2535 - val_loss: 593.9205\n",
      "Epoch 22/50\n",
      "20/20 [==============================] - 1s 32ms/step - loss: 636.2120 - val_loss: 592.1417\n",
      "Epoch 23/50\n",
      "20/20 [==============================] - 1s 34ms/step - loss: 634.4016 - val_loss: 590.5656\n",
      "Epoch 24/50\n",
      "20/20 [==============================] - 1s 37ms/step - loss: 632.7900 - val_loss: 589.1584\n",
      "Epoch 25/50\n",
      "20/20 [==============================] - 1s 32ms/step - loss: 631.3653 - val_loss: 587.9106\n",
      "Epoch 26/50\n",
      "20/20 [==============================] - 1s 26ms/step - loss: 630.0919 - val_loss: 586.7955\n",
      "Epoch 27/50\n",
      "20/20 [==============================] - 1s 43ms/step - loss: 628.9570 - val_loss: 585.7928\n",
      "Epoch 28/50\n",
      "20/20 [==============================] - 1s 38ms/step - loss: 627.9430 - val_loss: 584.8888\n",
      "Epoch 29/50\n",
      "20/20 [==============================] - 1s 39ms/step - loss: 627.0343 - val_loss: 584.0930\n",
      "Epoch 30/50\n",
      "20/20 [==============================] - 1s 30ms/step - loss: 626.2215 - val_loss: 583.3420\n",
      "Epoch 31/50\n",
      "20/20 [==============================] - 1s 27ms/step - loss: 625.4799 - val_loss: 582.6902\n",
      "Epoch 32/50\n",
      "20/20 [==============================] - 1s 33ms/step - loss: 624.8166 - val_loss: 582.0711\n",
      "Epoch 33/50\n",
      "20/20 [==============================] - 1s 43ms/step - loss: 624.2163 - val_loss: 581.5276\n",
      "Epoch 34/50\n",
      "20/20 [==============================] - 1s 32ms/step - loss: 623.6720 - val_loss: 581.0308\n",
      "Epoch 35/50\n",
      "20/20 [==============================] - 1s 41ms/step - loss: 623.1765 - val_loss: 580.5862\n",
      "Epoch 36/50\n",
      "20/20 [==============================] - 1s 35ms/step - loss: 622.7252 - val_loss: 580.1603\n",
      "Epoch 37/50\n",
      "20/20 [==============================] - 1s 28ms/step - loss: 622.3167 - val_loss: 579.7942\n",
      "Epoch 38/50\n",
      "20/20 [==============================] - 1s 29ms/step - loss: 621.9398 - val_loss: 579.4362\n",
      "Epoch 39/50\n",
      "20/20 [==============================] - 1s 27ms/step - loss: 621.5980 - val_loss: 579.1248\n",
      "Epoch 40/50\n",
      "20/20 [==============================] - 0s 25ms/step - loss: 621.2838 - val_loss: 578.8313\n",
      "Epoch 41/50\n",
      "20/20 [==============================] - 1s 29ms/step - loss: 620.9943 - val_loss: 578.5540\n",
      "Epoch 42/50\n",
      "20/20 [==============================] - 1s 27ms/step - loss: 620.7308 - val_loss: 578.3085\n",
      "Epoch 43/50\n",
      "20/20 [==============================] - 1s 27ms/step - loss: 620.4868 - val_loss: 578.0794\n",
      "Epoch 44/50\n",
      "20/20 [==============================] - 1s 30ms/step - loss: 620.2639 - val_loss: 577.8715\n",
      "Epoch 45/50\n",
      "20/20 [==============================] - 1s 32ms/step - loss: 620.0605 - val_loss: 577.6460\n",
      "Epoch 46/50\n",
      "20/20 [==============================] - 1s 32ms/step - loss: 619.8728 - val_loss: 577.5067\n",
      "Epoch 47/50\n",
      "20/20 [==============================] - 1s 41ms/step - loss: 619.6968 - val_loss: 577.3142\n",
      "Epoch 48/50\n",
      "20/20 [==============================] - 1s 40ms/step - loss: 619.5393 - val_loss: 577.1543\n",
      "Epoch 49/50\n",
      "20/20 [==============================] - 1s 33ms/step - loss: 619.3913 - val_loss: 577.0170\n",
      "Epoch 50/50\n",
      "20/20 [==============================] - 1s 39ms/step - loss: 619.2549 - val_loss: 576.8892\n"
     ]
    },
    {
     "data": {
      "text/plain": [
       "<tensorflow.python.keras.callbacks.History at 0x7f9e4cd23550>"
      ]
     },
     "execution_count": 21,
     "metadata": {},
     "output_type": "execute_result"
    }
   ],
   "source": [
    "\n",
    "model_44.fit(train_seqs,\n",
    "          train_44_cts,\n",
    "         batch_size=1024,\n",
    "         epochs=50,\n",
    "         validation_data=(val_seqs, val_44_cts),\n",
    "          shuffle=True)\n",
    "\n",
    "\n"
   ]
  },
  {
   "cell_type": "code",
   "execution_count": 22,
   "metadata": {},
   "outputs": [
    {
     "data": {
      "text/plain": [
       "0.25865416490655435"
      ]
     },
     "execution_count": 22,
     "metadata": {},
     "output_type": "execute_result"
    }
   ],
   "source": [
    "np.median(get_jsd(softmax(model_45.predict(test_seqs)), test_45_cts))\n"
   ]
  },
  {
   "cell_type": "code",
   "execution_count": 23,
   "metadata": {},
   "outputs": [
    {
     "data": {
      "text/plain": [
       "0.6037614636452868"
      ]
     },
     "execution_count": 23,
     "metadata": {},
     "output_type": "execute_result"
    }
   ],
   "source": [
    "np.median(get_jsd(softmax(model_44.predict(test_seqs)), test_44_cts))\n",
    "\n"
   ]
  },
  {
   "cell_type": "code",
   "execution_count": 24,
   "metadata": {
    "scrolled": true
   },
   "outputs": [
    {
     "data": {
      "image/png": "[encoded data removed]",
      "text/plain": [
       "<Figure size 1440x144 with 1 Axes>"
      ]
     },
     "metadata": {
      "needs_background": "light"
     },
     "output_type": "display_data"
    }
   ],
   "source": [
    "viz_sequence.plot_weights(model_44.layers[1].get_weights()[0][:,:,0], subticks_frequency=20)\n"
   ]
  },
  {
   "cell_type": "code",
   "execution_count": 25,
   "metadata": {},
   "outputs": [
    {
     "data": {
      "image/png": "[encoded data removed]",
      "text/plain": [
       "<Figure size 1440x144 with 1 Axes>"
      ]
     },
     "metadata": {
      "needs_background": "light"
     },
     "output_type": "display_data"
    }
   ],
   "source": [
    "viz_sequence.plot_weights(model_45.layers[1].get_weights()[0][:,:,0], subticks_frequency=20)\n"
   ]
  },
  {
   "cell_type": "code",
   "execution_count": 26,
   "metadata": {},
   "outputs": [],
   "source": [
    "def model_3conv():\n",
    "    inp = tf.keras.Input((2000,4))\n",
    "    x = tf.keras.layers.Conv1D(50, 100, padding='same')(inp)\n",
    "    x = tf.keras.layers.ReLU()(x)\n",
    "\n",
    "    x = tf.keras.layers.Conv1D(20, 100, padding='same')(x)\n",
    "    x = tf.keras.layers.ReLU()(x)\n",
    "    \n",
    "    x = tf.keras.layers.Conv1D(2, 100, padding='same')(x)\n",
    "    x = tf.keras.layers.Dense(1, activation='relu')(x)\n",
    "    \n",
    "    x = tf.keras.layers.Flatten()(x)\n",
    "\n",
    "    return tf.keras.Model(inputs=inp, outputs=x)"
   ]
  },
  {
   "cell_type": "code",
   "execution_count": 27,
   "metadata": {},
   "outputs": [],
   "source": [
    "model_complex = model_3conv()\n"
   ]
  },
  {
   "cell_type": "code",
   "execution_count": 28,
   "metadata": {},
   "outputs": [],
   "source": [
    "model_complex.compile(\n",
    "    optimizer=\"adam\",\n",
    "    loss=multinomial_nll,\n",
    ")"
   ]
  },
  {
   "cell_type": "code",
   "execution_count": 29,
   "metadata": {},
   "outputs": [
    {
     "name": "stdout",
     "output_type": "stream",
     "text": [
      "Epoch 1/50\n",
      " 2/20 [==>...........................] - ETA: 1s - loss: 847.5337WARNING:tensorflow:Callbacks method `on_train_batch_end` is slow compared to the batch time (batch time: 0.0461s vs `on_train_batch_end` time: 0.1300s). Check your callbacks.\n",
      "20/20 [==============================] - 5s 236ms/step - loss: 699.8802 - val_loss: 590.3759\n",
      "Epoch 2/50\n",
      "20/20 [==============================] - 4s 176ms/step - loss: 628.6638 - val_loss: 582.1918\n",
      "Epoch 3/50\n",
      "20/20 [==============================] - 4s 178ms/step - loss: 621.9203 - val_loss: 576.7919\n",
      "Epoch 4/50\n",
      "20/20 [==============================] - 4s 186ms/step - loss: 617.2752 - val_loss: 573.3440\n",
      "Epoch 5/50\n",
      "20/20 [==============================] - 4s 188ms/step - loss: 613.3380 - val_loss: 569.1788\n",
      "Epoch 6/50\n",
      "20/20 [==============================] - 4s 179ms/step - loss: 608.2840 - val_loss: 563.9327\n",
      "Epoch 7/50\n",
      "20/20 [==============================] - 4s 185ms/step - loss: 602.4833 - val_loss: 558.3552\n",
      "Epoch 8/50\n",
      "20/20 [==============================] - 4s 179ms/step - loss: 596.2225 - val_loss: 552.4106\n",
      "Epoch 9/50\n",
      "20/20 [==============================] - 4s 179ms/step - loss: 590.0873 - val_loss: 547.0124\n",
      "Epoch 10/50\n",
      "20/20 [==============================] - 4s 184ms/step - loss: 584.6840 - val_loss: 542.4330\n",
      "Epoch 11/50\n",
      "20/20 [==============================] - 3s 175ms/step - loss: 580.5909 - val_loss: 539.2037\n",
      "Epoch 12/50\n",
      "20/20 [==============================] - 4s 180ms/step - loss: 577.7838 - val_loss: 537.4561\n",
      "Epoch 13/50\n",
      "20/20 [==============================] - 4s 182ms/step - loss: 575.8740 - val_loss: 536.2602\n",
      "Epoch 14/50\n",
      "20/20 [==============================] - 4s 191ms/step - loss: 574.1131 - val_loss: 534.1959\n",
      "Epoch 15/50\n",
      "20/20 [==============================] - 4s 205ms/step - loss: 572.5865 - val_loss: 533.1589\n",
      "Epoch 16/50\n",
      "20/20 [==============================] - 4s 190ms/step - loss: 571.3942 - val_loss: 532.2418\n",
      "Epoch 17/50\n",
      "20/20 [==============================] - 4s 193ms/step - loss: 570.3666 - val_loss: 531.5467\n",
      "Epoch 18/50\n",
      "20/20 [==============================] - 4s 199ms/step - loss: 569.5775 - val_loss: 530.9144\n",
      "Epoch 19/50\n",
      "20/20 [==============================] - 4s 200ms/step - loss: 568.7049 - val_loss: 530.0983\n",
      "Epoch 20/50\n",
      "20/20 [==============================] - 4s 190ms/step - loss: 567.9966 - val_loss: 529.5081\n",
      "Epoch 21/50\n",
      "20/20 [==============================] - 4s 188ms/step - loss: 567.1898 - val_loss: 528.7726\n",
      "Epoch 22/50\n",
      "20/20 [==============================] - 4s 182ms/step - loss: 566.5180 - val_loss: 528.3766\n",
      "Epoch 23/50\n",
      "20/20 [==============================] - 4s 190ms/step - loss: 566.0186 - val_loss: 527.8570\n",
      "Epoch 24/50\n",
      "20/20 [==============================] - 4s 199ms/step - loss: 565.5995 - val_loss: 527.6171\n",
      "Epoch 25/50\n",
      "20/20 [==============================] - 4s 198ms/step - loss: 565.0488 - val_loss: 526.9961\n",
      "Epoch 26/50\n",
      "20/20 [==============================] - 4s 212ms/step - loss: 564.5446 - val_loss: 526.9800\n",
      "Epoch 27/50\n",
      "20/20 [==============================] - 4s 209ms/step - loss: 564.2776 - val_loss: 526.4859\n",
      "Epoch 28/50\n",
      "20/20 [==============================] - 4s 206ms/step - loss: 564.0356 - val_loss: 526.0942\n",
      "Epoch 29/50\n",
      "20/20 [==============================] - 4s 203ms/step - loss: 563.5088 - val_loss: 525.9843\n",
      "Epoch 30/50\n",
      "20/20 [==============================] - 4s 202ms/step - loss: 563.2827 - val_loss: 526.0486\n",
      "Epoch 31/50\n",
      "20/20 [==============================] - 4s 195ms/step - loss: 563.0613 - val_loss: 525.4665\n",
      "Epoch 32/50\n",
      "20/20 [==============================] - 4s 191ms/step - loss: 562.6570 - val_loss: 525.2135\n",
      "Epoch 33/50\n",
      "20/20 [==============================] - 4s 198ms/step - loss: 562.7783 - val_loss: 525.4108\n",
      "Epoch 34/50\n",
      "20/20 [==============================] - 4s 198ms/step - loss: 562.3932 - val_loss: 524.9503\n",
      "Epoch 35/50\n",
      "20/20 [==============================] - 4s 194ms/step - loss: 562.0459 - val_loss: 524.7363\n",
      "Epoch 36/50\n",
      "20/20 [==============================] - 4s 188ms/step - loss: 561.8910 - val_loss: 524.6655\n",
      "Epoch 37/50\n",
      "20/20 [==============================] - 4s 179ms/step - loss: 561.7248 - val_loss: 524.3361\n",
      "Epoch 38/50\n",
      "20/20 [==============================] - 3s 173ms/step - loss: 561.4034 - val_loss: 524.7054\n",
      "Epoch 39/50\n",
      "20/20 [==============================] - 3s 172ms/step - loss: 561.3651 - val_loss: 524.0691\n",
      "Epoch 40/50\n",
      "20/20 [==============================] - 3s 172ms/step - loss: 561.0312 - val_loss: 523.9831\n",
      "Epoch 41/50\n",
      "20/20 [==============================] - 4s 183ms/step - loss: 560.9471 - val_loss: 523.8558\n",
      "Epoch 42/50\n",
      "20/20 [==============================] - 4s 192ms/step - loss: 560.9254 - val_loss: 523.9232\n",
      "Epoch 43/50\n",
      "20/20 [==============================] - 4s 187ms/step - loss: 560.9295 - val_loss: 523.8851\n",
      "Epoch 44/50\n",
      "20/20 [==============================] - 4s 183ms/step - loss: 560.6018 - val_loss: 523.4241\n",
      "Epoch 45/50\n",
      "20/20 [==============================] - 4s 184ms/step - loss: 560.2332 - val_loss: 523.2324\n",
      "Epoch 46/50\n",
      "20/20 [==============================] - 4s 179ms/step - loss: 560.2576 - val_loss: 523.1581\n",
      "Epoch 47/50\n",
      "20/20 [==============================] - 3s 173ms/step - loss: 560.1700 - val_loss: 523.2125\n",
      "Epoch 48/50\n",
      "20/20 [==============================] - 4s 177ms/step - loss: 559.8844 - val_loss: 522.8502\n",
      "Epoch 49/50\n",
      " 7/20 [=========>....................] - ETA: 2s - loss: 561.6644"
     ]
    },
    {
     "ename": "KeyboardInterrupt",
     "evalue": "",
     "output_type": "error",
     "traceback": [
      "\u001b[0;31m---------------------------------------------------------------------------\u001b[0m",
      "\u001b[0;31mKeyboardInterrupt\u001b[0m                         Traceback (most recent call last)",
      "\u001b[0;32m<ipython-input-29-847a7b807e7d>\u001b[0m in \u001b[0;36m<module>\u001b[0;34m\u001b[0m\n\u001b[1;32m      4\u001b[0m          \u001b[0mepochs\u001b[0m\u001b[0;34m=\u001b[0m\u001b[0;36m50\u001b[0m\u001b[0;34m,\u001b[0m\u001b[0;34m\u001b[0m\u001b[0;34m\u001b[0m\u001b[0m\n\u001b[1;32m      5\u001b[0m          \u001b[0mvalidation_data\u001b[0m\u001b[0;34m=\u001b[0m\u001b[0;34m(\u001b[0m\u001b[0mval_seqs\u001b[0m\u001b[0;34m,\u001b[0m \u001b[0mval_44_cts\u001b[0m\u001b[0;34m)\u001b[0m\u001b[0;34m,\u001b[0m\u001b[0;34m\u001b[0m\u001b[0;34m\u001b[0m\u001b[0m\n\u001b[0;32m----> 6\u001b[0;31m           shuffle=True)\n\u001b[0m",
      "\u001b[0;32m~/anaconda3/lib/python3.7/site-packages/tensorflow/python/keras/engine/training.py\u001b[0m in \u001b[0;36m_method_wrapper\u001b[0;34m(self, *args, **kwargs)\u001b[0m\n\u001b[1;32m    106\u001b[0m   \u001b[0;32mdef\u001b[0m \u001b[0m_method_wrapper\u001b[0m\u001b[0;34m(\u001b[0m\u001b[0mself\u001b[0m\u001b[0;34m,\u001b[0m \u001b[0;34m*\u001b[0m\u001b[0margs\u001b[0m\u001b[0;34m,\u001b[0m \u001b[0;34m**\u001b[0m\u001b[0mkwargs\u001b[0m\u001b[0;34m)\u001b[0m\u001b[0;34m:\u001b[0m\u001b[0;34m\u001b[0m\u001b[0;34m\u001b[0m\u001b[0m\n\u001b[1;32m    107\u001b[0m     \u001b[0;32mif\u001b[0m \u001b[0;32mnot\u001b[0m \u001b[0mself\u001b[0m\u001b[0;34m.\u001b[0m\u001b[0m_in_multi_worker_mode\u001b[0m\u001b[0;34m(\u001b[0m\u001b[0;34m)\u001b[0m\u001b[0;34m:\u001b[0m  \u001b[0;31m# pylint: disable=protected-access\u001b[0m\u001b[0;34m\u001b[0m\u001b[0;34m\u001b[0m\u001b[0m\n\u001b[0;32m--> 108\u001b[0;31m       \u001b[0;32mreturn\u001b[0m \u001b[0mmethod\u001b[0m\u001b[0;34m(\u001b[0m\u001b[0mself\u001b[0m\u001b[0;34m,\u001b[0m \u001b[0;34m*\u001b[0m\u001b[0margs\u001b[0m\u001b[0;34m,\u001b[0m \u001b[0;34m**\u001b[0m\u001b[0mkwargs\u001b[0m\u001b[0;34m)\u001b[0m\u001b[0;34m\u001b[0m\u001b[0;34m\u001b[0m\u001b[0m\n\u001b[0m\u001b[1;32m    109\u001b[0m \u001b[0;34m\u001b[0m\u001b[0m\n\u001b[1;32m    110\u001b[0m     \u001b[0;31m# Running inside `run_distribute_coordinator` already.\u001b[0m\u001b[0;34m\u001b[0m\u001b[0;34m\u001b[0m\u001b[0;34m\u001b[0m\u001b[0m\n",
      "\u001b[0;32m~/anaconda3/lib/python3.7/site-packages/tensorflow/python/keras/engine/training.py\u001b[0m in \u001b[0;36mfit\u001b[0;34m(self, x, y, batch_size, epochs, verbose, callbacks, validation_split, validation_data, shuffle, class_weight, sample_weight, initial_epoch, steps_per_epoch, validation_steps, validation_batch_size, validation_freq, max_queue_size, workers, use_multiprocessing)\u001b[0m\n\u001b[1;32m   1101\u001b[0m               \u001b[0mlogs\u001b[0m \u001b[0;34m=\u001b[0m \u001b[0mtmp_logs\u001b[0m  \u001b[0;31m# No error, now safe to assign to logs.\u001b[0m\u001b[0;34m\u001b[0m\u001b[0;34m\u001b[0m\u001b[0m\n\u001b[1;32m   1102\u001b[0m               \u001b[0mend_step\u001b[0m \u001b[0;34m=\u001b[0m \u001b[0mstep\u001b[0m \u001b[0;34m+\u001b[0m \u001b[0mdata_handler\u001b[0m\u001b[0;34m.\u001b[0m\u001b[0mstep_increment\u001b[0m\u001b[0;34m\u001b[0m\u001b[0;34m\u001b[0m\u001b[0m\n\u001b[0;32m-> 1103\u001b[0;31m               \u001b[0mcallbacks\u001b[0m\u001b[0;34m.\u001b[0m\u001b[0mon_train_batch_end\u001b[0m\u001b[0;34m(\u001b[0m\u001b[0mend_step\u001b[0m\u001b[0;34m,\u001b[0m \u001b[0mlogs\u001b[0m\u001b[0;34m)\u001b[0m\u001b[0;34m\u001b[0m\u001b[0;34m\u001b[0m\u001b[0m\n\u001b[0m\u001b[1;32m   1104\u001b[0m         \u001b[0mepoch_logs\u001b[0m \u001b[0;34m=\u001b[0m \u001b[0mcopy\u001b[0m\u001b[0;34m.\u001b[0m\u001b[0mcopy\u001b[0m\u001b[0;34m(\u001b[0m\u001b[0mlogs\u001b[0m\u001b[0;34m)\u001b[0m\u001b[0;34m\u001b[0m\u001b[0;34m\u001b[0m\u001b[0m\n\u001b[1;32m   1105\u001b[0m \u001b[0;34m\u001b[0m\u001b[0m\n",
      "\u001b[0;32m~/anaconda3/lib/python3.7/site-packages/tensorflow/python/keras/callbacks.py\u001b[0m in \u001b[0;36mon_train_batch_end\u001b[0;34m(self, batch, logs)\u001b[0m\n\u001b[1;32m    438\u001b[0m     \"\"\"\n\u001b[1;32m    439\u001b[0m     \u001b[0;32mif\u001b[0m \u001b[0mself\u001b[0m\u001b[0;34m.\u001b[0m\u001b[0m_should_call_train_batch_hooks\u001b[0m\u001b[0;34m:\u001b[0m\u001b[0;34m\u001b[0m\u001b[0;34m\u001b[0m\u001b[0m\n\u001b[0;32m--> 440\u001b[0;31m       \u001b[0mself\u001b[0m\u001b[0;34m.\u001b[0m\u001b[0m_call_batch_hook\u001b[0m\u001b[0;34m(\u001b[0m\u001b[0mModeKeys\u001b[0m\u001b[0;34m.\u001b[0m\u001b[0mTRAIN\u001b[0m\u001b[0;34m,\u001b[0m \u001b[0;34m'end'\u001b[0m\u001b[0;34m,\u001b[0m \u001b[0mbatch\u001b[0m\u001b[0;34m,\u001b[0m \u001b[0mlogs\u001b[0m\u001b[0;34m=\u001b[0m\u001b[0mlogs\u001b[0m\u001b[0;34m)\u001b[0m\u001b[0;34m\u001b[0m\u001b[0;34m\u001b[0m\u001b[0m\n\u001b[0m\u001b[1;32m    441\u001b[0m \u001b[0;34m\u001b[0m\u001b[0m\n\u001b[1;32m    442\u001b[0m   \u001b[0;32mdef\u001b[0m \u001b[0mon_test_batch_begin\u001b[0m\u001b[0;34m(\u001b[0m\u001b[0mself\u001b[0m\u001b[0;34m,\u001b[0m \u001b[0mbatch\u001b[0m\u001b[0;34m,\u001b[0m \u001b[0mlogs\u001b[0m\u001b[0;34m=\u001b[0m\u001b[0;32mNone\u001b[0m\u001b[0;34m)\u001b[0m\u001b[0;34m:\u001b[0m\u001b[0;34m\u001b[0m\u001b[0;34m\u001b[0m\u001b[0m\n",
      "\u001b[0;32m~/anaconda3/lib/python3.7/site-packages/tensorflow/python/keras/callbacks.py\u001b[0m in \u001b[0;36m_call_batch_hook\u001b[0;34m(self, mode, hook, batch, logs)\u001b[0m\n\u001b[1;32m    287\u001b[0m       \u001b[0mself\u001b[0m\u001b[0;34m.\u001b[0m\u001b[0m_call_batch_begin_hook\u001b[0m\u001b[0;34m(\u001b[0m\u001b[0mmode\u001b[0m\u001b[0;34m,\u001b[0m \u001b[0mbatch\u001b[0m\u001b[0;34m,\u001b[0m \u001b[0mlogs\u001b[0m\u001b[0;34m)\u001b[0m\u001b[0;34m\u001b[0m\u001b[0;34m\u001b[0m\u001b[0m\n\u001b[1;32m    288\u001b[0m     \u001b[0;32melif\u001b[0m \u001b[0mhook\u001b[0m \u001b[0;34m==\u001b[0m \u001b[0;34m'end'\u001b[0m\u001b[0;34m:\u001b[0m\u001b[0;34m\u001b[0m\u001b[0;34m\u001b[0m\u001b[0m\n\u001b[0;32m--> 289\u001b[0;31m       \u001b[0mself\u001b[0m\u001b[0;34m.\u001b[0m\u001b[0m_call_batch_end_hook\u001b[0m\u001b[0;34m(\u001b[0m\u001b[0mmode\u001b[0m\u001b[0;34m,\u001b[0m \u001b[0mbatch\u001b[0m\u001b[0;34m,\u001b[0m \u001b[0mlogs\u001b[0m\u001b[0;34m)\u001b[0m\u001b[0;34m\u001b[0m\u001b[0;34m\u001b[0m\u001b[0m\n\u001b[0m\u001b[1;32m    290\u001b[0m     \u001b[0;32melse\u001b[0m\u001b[0;34m:\u001b[0m\u001b[0;34m\u001b[0m\u001b[0;34m\u001b[0m\u001b[0m\n\u001b[1;32m    291\u001b[0m       \u001b[0;32mraise\u001b[0m \u001b[0mValueError\u001b[0m\u001b[0;34m(\u001b[0m\u001b[0;34m'Unrecognized hook: {}'\u001b[0m\u001b[0;34m.\u001b[0m\u001b[0mformat\u001b[0m\u001b[0;34m(\u001b[0m\u001b[0mhook\u001b[0m\u001b[0;34m)\u001b[0m\u001b[0;34m)\u001b[0m\u001b[0;34m\u001b[0m\u001b[0;34m\u001b[0m\u001b[0m\n",
      "\u001b[0;32m~/anaconda3/lib/python3.7/site-packages/tensorflow/python/keras/callbacks.py\u001b[0m in \u001b[0;36m_call_batch_end_hook\u001b[0;34m(self, mode, batch, logs)\u001b[0m\n\u001b[1;32m    307\u001b[0m       \u001b[0mbatch_time\u001b[0m \u001b[0;34m=\u001b[0m \u001b[0mtime\u001b[0m\u001b[0;34m.\u001b[0m\u001b[0mtime\u001b[0m\u001b[0;34m(\u001b[0m\u001b[0;34m)\u001b[0m \u001b[0;34m-\u001b[0m \u001b[0mself\u001b[0m\u001b[0;34m.\u001b[0m\u001b[0m_batch_start_time\u001b[0m\u001b[0;34m\u001b[0m\u001b[0;34m\u001b[0m\u001b[0m\n\u001b[1;32m    308\u001b[0m \u001b[0;34m\u001b[0m\u001b[0m\n\u001b[0;32m--> 309\u001b[0;31m     \u001b[0mself\u001b[0m\u001b[0;34m.\u001b[0m\u001b[0m_call_batch_hook_helper\u001b[0m\u001b[0;34m(\u001b[0m\u001b[0mhook_name\u001b[0m\u001b[0;34m,\u001b[0m \u001b[0mbatch\u001b[0m\u001b[0;34m,\u001b[0m \u001b[0mlogs\u001b[0m\u001b[0;34m)\u001b[0m\u001b[0;34m\u001b[0m\u001b[0;34m\u001b[0m\u001b[0m\n\u001b[0m\u001b[1;32m    310\u001b[0m \u001b[0;34m\u001b[0m\u001b[0m\n\u001b[1;32m    311\u001b[0m     \u001b[0;32mif\u001b[0m \u001b[0mself\u001b[0m\u001b[0;34m.\u001b[0m\u001b[0m_check_timing\u001b[0m\u001b[0;34m:\u001b[0m\u001b[0;34m\u001b[0m\u001b[0;34m\u001b[0m\u001b[0m\n",
      "\u001b[0;32m~/anaconda3/lib/python3.7/site-packages/tensorflow/python/keras/callbacks.py\u001b[0m in \u001b[0;36m_call_batch_hook_helper\u001b[0;34m(self, hook_name, batch, logs)\u001b[0m\n\u001b[1;32m    340\u001b[0m       \u001b[0mhook\u001b[0m \u001b[0;34m=\u001b[0m \u001b[0mgetattr\u001b[0m\u001b[0;34m(\u001b[0m\u001b[0mcallback\u001b[0m\u001b[0;34m,\u001b[0m \u001b[0mhook_name\u001b[0m\u001b[0;34m)\u001b[0m\u001b[0;34m\u001b[0m\u001b[0;34m\u001b[0m\u001b[0m\n\u001b[1;32m    341\u001b[0m       \u001b[0;32mif\u001b[0m \u001b[0mgetattr\u001b[0m\u001b[0;34m(\u001b[0m\u001b[0mcallback\u001b[0m\u001b[0;34m,\u001b[0m \u001b[0;34m'_supports_tf_logs'\u001b[0m\u001b[0;34m,\u001b[0m \u001b[0;32mFalse\u001b[0m\u001b[0;34m)\u001b[0m\u001b[0;34m:\u001b[0m\u001b[0;34m\u001b[0m\u001b[0;34m\u001b[0m\u001b[0m\n\u001b[0;32m--> 342\u001b[0;31m         \u001b[0mhook\u001b[0m\u001b[0;34m(\u001b[0m\u001b[0mbatch\u001b[0m\u001b[0;34m,\u001b[0m \u001b[0mlogs\u001b[0m\u001b[0;34m)\u001b[0m\u001b[0;34m\u001b[0m\u001b[0;34m\u001b[0m\u001b[0m\n\u001b[0m\u001b[1;32m    343\u001b[0m       \u001b[0;32melse\u001b[0m\u001b[0;34m:\u001b[0m\u001b[0;34m\u001b[0m\u001b[0;34m\u001b[0m\u001b[0m\n\u001b[1;32m    344\u001b[0m         \u001b[0;32mif\u001b[0m \u001b[0mnumpy_logs\u001b[0m \u001b[0;32mis\u001b[0m \u001b[0;32mNone\u001b[0m\u001b[0;34m:\u001b[0m  \u001b[0;31m# Only convert once.\u001b[0m\u001b[0;34m\u001b[0m\u001b[0;34m\u001b[0m\u001b[0m\n",
      "\u001b[0;32m~/anaconda3/lib/python3.7/site-packages/tensorflow/python/keras/callbacks.py\u001b[0m in \u001b[0;36mon_train_batch_end\u001b[0;34m(self, batch, logs)\u001b[0m\n\u001b[1;32m    959\u001b[0m \u001b[0;34m\u001b[0m\u001b[0m\n\u001b[1;32m    960\u001b[0m   \u001b[0;32mdef\u001b[0m \u001b[0mon_train_batch_end\u001b[0m\u001b[0;34m(\u001b[0m\u001b[0mself\u001b[0m\u001b[0;34m,\u001b[0m \u001b[0mbatch\u001b[0m\u001b[0;34m,\u001b[0m \u001b[0mlogs\u001b[0m\u001b[0;34m=\u001b[0m\u001b[0;32mNone\u001b[0m\u001b[0;34m)\u001b[0m\u001b[0;34m:\u001b[0m\u001b[0;34m\u001b[0m\u001b[0;34m\u001b[0m\u001b[0m\n\u001b[0;32m--> 961\u001b[0;31m     \u001b[0mself\u001b[0m\u001b[0;34m.\u001b[0m\u001b[0m_batch_update_progbar\u001b[0m\u001b[0;34m(\u001b[0m\u001b[0mbatch\u001b[0m\u001b[0;34m,\u001b[0m \u001b[0mlogs\u001b[0m\u001b[0;34m)\u001b[0m\u001b[0;34m\u001b[0m\u001b[0;34m\u001b[0m\u001b[0m\n\u001b[0m\u001b[1;32m    962\u001b[0m \u001b[0;34m\u001b[0m\u001b[0m\n\u001b[1;32m    963\u001b[0m   \u001b[0;32mdef\u001b[0m \u001b[0mon_test_batch_end\u001b[0m\u001b[0;34m(\u001b[0m\u001b[0mself\u001b[0m\u001b[0;34m,\u001b[0m \u001b[0mbatch\u001b[0m\u001b[0;34m,\u001b[0m \u001b[0mlogs\u001b[0m\u001b[0;34m=\u001b[0m\u001b[0;32mNone\u001b[0m\u001b[0;34m)\u001b[0m\u001b[0;34m:\u001b[0m\u001b[0;34m\u001b[0m\u001b[0;34m\u001b[0m\u001b[0m\n",
      "\u001b[0;32m~/anaconda3/lib/python3.7/site-packages/tensorflow/python/keras/callbacks.py\u001b[0m in \u001b[0;36m_batch_update_progbar\u001b[0;34m(self, batch, logs)\u001b[0m\n\u001b[1;32m   1014\u001b[0m     \u001b[0;32mif\u001b[0m \u001b[0mself\u001b[0m\u001b[0;34m.\u001b[0m\u001b[0mverbose\u001b[0m \u001b[0;34m==\u001b[0m \u001b[0;36m1\u001b[0m\u001b[0;34m:\u001b[0m\u001b[0;34m\u001b[0m\u001b[0;34m\u001b[0m\u001b[0m\n\u001b[1;32m   1015\u001b[0m       \u001b[0;31m# Only block async when verbose = 1.\u001b[0m\u001b[0;34m\u001b[0m\u001b[0;34m\u001b[0m\u001b[0;34m\u001b[0m\u001b[0m\n\u001b[0;32m-> 1016\u001b[0;31m       \u001b[0mlogs\u001b[0m \u001b[0;34m=\u001b[0m \u001b[0mtf_utils\u001b[0m\u001b[0;34m.\u001b[0m\u001b[0mto_numpy_or_python_type\u001b[0m\u001b[0;34m(\u001b[0m\u001b[0mlogs\u001b[0m\u001b[0;34m)\u001b[0m\u001b[0;34m\u001b[0m\u001b[0;34m\u001b[0m\u001b[0m\n\u001b[0m\u001b[1;32m   1017\u001b[0m       \u001b[0mself\u001b[0m\u001b[0;34m.\u001b[0m\u001b[0mprogbar\u001b[0m\u001b[0;34m.\u001b[0m\u001b[0mupdate\u001b[0m\u001b[0;34m(\u001b[0m\u001b[0mself\u001b[0m\u001b[0;34m.\u001b[0m\u001b[0mseen\u001b[0m\u001b[0;34m,\u001b[0m \u001b[0mlist\u001b[0m\u001b[0;34m(\u001b[0m\u001b[0mlogs\u001b[0m\u001b[0;34m.\u001b[0m\u001b[0mitems\u001b[0m\u001b[0;34m(\u001b[0m\u001b[0;34m)\u001b[0m\u001b[0;34m)\u001b[0m\u001b[0;34m,\u001b[0m \u001b[0mfinalize\u001b[0m\u001b[0;34m=\u001b[0m\u001b[0;32mFalse\u001b[0m\u001b[0;34m)\u001b[0m\u001b[0;34m\u001b[0m\u001b[0;34m\u001b[0m\u001b[0m\n\u001b[1;32m   1018\u001b[0m \u001b[0;34m\u001b[0m\u001b[0m\n",
      "\u001b[0;32m~/anaconda3/lib/python3.7/site-packages/tensorflow/python/keras/utils/tf_utils.py\u001b[0m in \u001b[0;36mto_numpy_or_python_type\u001b[0;34m(tensors)\u001b[0m\n\u001b[1;32m    535\u001b[0m     \u001b[0;32mreturn\u001b[0m \u001b[0mt\u001b[0m  \u001b[0;31m# Don't turn ragged or sparse tensors to NumPy.\u001b[0m\u001b[0;34m\u001b[0m\u001b[0;34m\u001b[0m\u001b[0m\n\u001b[1;32m    536\u001b[0m \u001b[0;34m\u001b[0m\u001b[0m\n\u001b[0;32m--> 537\u001b[0;31m   \u001b[0;32mreturn\u001b[0m \u001b[0mnest\u001b[0m\u001b[0;34m.\u001b[0m\u001b[0mmap_structure\u001b[0m\u001b[0;34m(\u001b[0m\u001b[0m_to_single_numpy_or_python_type\u001b[0m\u001b[0;34m,\u001b[0m \u001b[0mtensors\u001b[0m\u001b[0;34m)\u001b[0m\u001b[0;34m\u001b[0m\u001b[0;34m\u001b[0m\u001b[0m\n\u001b[0m\u001b[1;32m    538\u001b[0m \u001b[0;34m\u001b[0m\u001b[0m\n\u001b[1;32m    539\u001b[0m \u001b[0;34m\u001b[0m\u001b[0m\n",
      "\u001b[0;32m~/anaconda3/lib/python3.7/site-packages/tensorflow/python/util/nest.py\u001b[0m in \u001b[0;36mmap_structure\u001b[0;34m(func, *structure, **kwargs)\u001b[0m\n\u001b[1;32m    633\u001b[0m \u001b[0;34m\u001b[0m\u001b[0m\n\u001b[1;32m    634\u001b[0m   return pack_sequence_as(\n\u001b[0;32m--> 635\u001b[0;31m       \u001b[0mstructure\u001b[0m\u001b[0;34m[\u001b[0m\u001b[0;36m0\u001b[0m\u001b[0;34m]\u001b[0m\u001b[0;34m,\u001b[0m \u001b[0;34m[\u001b[0m\u001b[0mfunc\u001b[0m\u001b[0;34m(\u001b[0m\u001b[0;34m*\u001b[0m\u001b[0mx\u001b[0m\u001b[0;34m)\u001b[0m \u001b[0;32mfor\u001b[0m \u001b[0mx\u001b[0m \u001b[0;32min\u001b[0m \u001b[0mentries\u001b[0m\u001b[0;34m]\u001b[0m\u001b[0;34m,\u001b[0m\u001b[0;34m\u001b[0m\u001b[0;34m\u001b[0m\u001b[0m\n\u001b[0m\u001b[1;32m    636\u001b[0m       expand_composites=expand_composites)\n\u001b[1;32m    637\u001b[0m \u001b[0;34m\u001b[0m\u001b[0m\n",
      "\u001b[0;32m~/anaconda3/lib/python3.7/site-packages/tensorflow/python/util/nest.py\u001b[0m in \u001b[0;36m<listcomp>\u001b[0;34m(.0)\u001b[0m\n\u001b[1;32m    633\u001b[0m \u001b[0;34m\u001b[0m\u001b[0m\n\u001b[1;32m    634\u001b[0m   return pack_sequence_as(\n\u001b[0;32m--> 635\u001b[0;31m       \u001b[0mstructure\u001b[0m\u001b[0;34m[\u001b[0m\u001b[0;36m0\u001b[0m\u001b[0;34m]\u001b[0m\u001b[0;34m,\u001b[0m \u001b[0;34m[\u001b[0m\u001b[0mfunc\u001b[0m\u001b[0;34m(\u001b[0m\u001b[0;34m*\u001b[0m\u001b[0mx\u001b[0m\u001b[0;34m)\u001b[0m \u001b[0;32mfor\u001b[0m \u001b[0mx\u001b[0m \u001b[0;32min\u001b[0m \u001b[0mentries\u001b[0m\u001b[0;34m]\u001b[0m\u001b[0;34m,\u001b[0m\u001b[0;34m\u001b[0m\u001b[0;34m\u001b[0m\u001b[0m\n\u001b[0m\u001b[1;32m    636\u001b[0m       expand_composites=expand_composites)\n\u001b[1;32m    637\u001b[0m \u001b[0;34m\u001b[0m\u001b[0m\n",
      "\u001b[0;32m~/anaconda3/lib/python3.7/site-packages/tensorflow/python/keras/utils/tf_utils.py\u001b[0m in \u001b[0;36m_to_single_numpy_or_python_type\u001b[0;34m(t)\u001b[0m\n\u001b[1;32m    531\u001b[0m   \u001b[0;32mdef\u001b[0m \u001b[0m_to_single_numpy_or_python_type\u001b[0m\u001b[0;34m(\u001b[0m\u001b[0mt\u001b[0m\u001b[0;34m)\u001b[0m\u001b[0;34m:\u001b[0m\u001b[0;34m\u001b[0m\u001b[0;34m\u001b[0m\u001b[0m\n\u001b[1;32m    532\u001b[0m     \u001b[0;32mif\u001b[0m \u001b[0misinstance\u001b[0m\u001b[0;34m(\u001b[0m\u001b[0mt\u001b[0m\u001b[0;34m,\u001b[0m \u001b[0mops\u001b[0m\u001b[0;34m.\u001b[0m\u001b[0mTensor\u001b[0m\u001b[0;34m)\u001b[0m\u001b[0;34m:\u001b[0m\u001b[0;34m\u001b[0m\u001b[0;34m\u001b[0m\u001b[0m\n\u001b[0;32m--> 533\u001b[0;31m       \u001b[0mx\u001b[0m \u001b[0;34m=\u001b[0m \u001b[0mt\u001b[0m\u001b[0;34m.\u001b[0m\u001b[0mnumpy\u001b[0m\u001b[0;34m(\u001b[0m\u001b[0;34m)\u001b[0m\u001b[0;34m\u001b[0m\u001b[0;34m\u001b[0m\u001b[0m\n\u001b[0m\u001b[1;32m    534\u001b[0m       \u001b[0;32mreturn\u001b[0m \u001b[0mx\u001b[0m\u001b[0;34m.\u001b[0m\u001b[0mitem\u001b[0m\u001b[0;34m(\u001b[0m\u001b[0;34m)\u001b[0m \u001b[0;32mif\u001b[0m \u001b[0mnp\u001b[0m\u001b[0;34m.\u001b[0m\u001b[0mndim\u001b[0m\u001b[0;34m(\u001b[0m\u001b[0mx\u001b[0m\u001b[0;34m)\u001b[0m \u001b[0;34m==\u001b[0m \u001b[0;36m0\u001b[0m \u001b[0;32melse\u001b[0m \u001b[0mx\u001b[0m\u001b[0;34m\u001b[0m\u001b[0;34m\u001b[0m\u001b[0m\n\u001b[1;32m    535\u001b[0m     \u001b[0;32mreturn\u001b[0m \u001b[0mt\u001b[0m  \u001b[0;31m# Don't turn ragged or sparse tensors to NumPy.\u001b[0m\u001b[0;34m\u001b[0m\u001b[0;34m\u001b[0m\u001b[0m\n",
      "\u001b[0;32m~/anaconda3/lib/python3.7/site-packages/tensorflow/python/framework/ops.py\u001b[0m in \u001b[0;36mnumpy\u001b[0;34m(self)\u001b[0m\n\u001b[1;32m   1061\u001b[0m     \"\"\"\n\u001b[1;32m   1062\u001b[0m     \u001b[0;31m# TODO(slebedev): Consider avoiding a copy for non-CPU or remote tensors.\u001b[0m\u001b[0;34m\u001b[0m\u001b[0;34m\u001b[0m\u001b[0;34m\u001b[0m\u001b[0m\n\u001b[0;32m-> 1063\u001b[0;31m     \u001b[0mmaybe_arr\u001b[0m \u001b[0;34m=\u001b[0m \u001b[0mself\u001b[0m\u001b[0;34m.\u001b[0m\u001b[0m_numpy\u001b[0m\u001b[0;34m(\u001b[0m\u001b[0;34m)\u001b[0m  \u001b[0;31m# pylint: disable=protected-access\u001b[0m\u001b[0;34m\u001b[0m\u001b[0;34m\u001b[0m\u001b[0m\n\u001b[0m\u001b[1;32m   1064\u001b[0m     \u001b[0;32mreturn\u001b[0m \u001b[0mmaybe_arr\u001b[0m\u001b[0;34m.\u001b[0m\u001b[0mcopy\u001b[0m\u001b[0;34m(\u001b[0m\u001b[0;34m)\u001b[0m \u001b[0;32mif\u001b[0m \u001b[0misinstance\u001b[0m\u001b[0;34m(\u001b[0m\u001b[0mmaybe_arr\u001b[0m\u001b[0;34m,\u001b[0m \u001b[0mnp\u001b[0m\u001b[0;34m.\u001b[0m\u001b[0mndarray\u001b[0m\u001b[0;34m)\u001b[0m \u001b[0;32melse\u001b[0m \u001b[0mmaybe_arr\u001b[0m\u001b[0;34m\u001b[0m\u001b[0;34m\u001b[0m\u001b[0m\n\u001b[1;32m   1065\u001b[0m \u001b[0;34m\u001b[0m\u001b[0m\n",
      "\u001b[0;32m~/anaconda3/lib/python3.7/site-packages/tensorflow/python/framework/ops.py\u001b[0m in \u001b[0;36m_numpy\u001b[0;34m(self)\u001b[0m\n\u001b[1;32m   1027\u001b[0m   \u001b[0;32mdef\u001b[0m \u001b[0m_numpy\u001b[0m\u001b[0;34m(\u001b[0m\u001b[0mself\u001b[0m\u001b[0;34m)\u001b[0m\u001b[0;34m:\u001b[0m\u001b[0;34m\u001b[0m\u001b[0;34m\u001b[0m\u001b[0m\n\u001b[1;32m   1028\u001b[0m     \u001b[0;32mtry\u001b[0m\u001b[0;34m:\u001b[0m\u001b[0;34m\u001b[0m\u001b[0;34m\u001b[0m\u001b[0m\n\u001b[0;32m-> 1029\u001b[0;31m       \u001b[0;32mreturn\u001b[0m \u001b[0mself\u001b[0m\u001b[0;34m.\u001b[0m\u001b[0m_numpy_internal\u001b[0m\u001b[0;34m(\u001b[0m\u001b[0;34m)\u001b[0m\u001b[0;34m\u001b[0m\u001b[0;34m\u001b[0m\u001b[0m\n\u001b[0m\u001b[1;32m   1030\u001b[0m     \u001b[0;32mexcept\u001b[0m \u001b[0mcore\u001b[0m\u001b[0;34m.\u001b[0m\u001b[0m_NotOkStatusException\u001b[0m \u001b[0;32mas\u001b[0m \u001b[0me\u001b[0m\u001b[0;34m:\u001b[0m  \u001b[0;31m# pylint: disable=protected-access\u001b[0m\u001b[0;34m\u001b[0m\u001b[0;34m\u001b[0m\u001b[0m\n\u001b[1;32m   1031\u001b[0m       \u001b[0msix\u001b[0m\u001b[0;34m.\u001b[0m\u001b[0mraise_from\u001b[0m\u001b[0;34m(\u001b[0m\u001b[0mcore\u001b[0m\u001b[0;34m.\u001b[0m\u001b[0m_status_to_exception\u001b[0m\u001b[0;34m(\u001b[0m\u001b[0me\u001b[0m\u001b[0;34m.\u001b[0m\u001b[0mcode\u001b[0m\u001b[0;34m,\u001b[0m \u001b[0me\u001b[0m\u001b[0;34m.\u001b[0m\u001b[0mmessage\u001b[0m\u001b[0;34m)\u001b[0m\u001b[0;34m,\u001b[0m \u001b[0;32mNone\u001b[0m\u001b[0;34m)\u001b[0m  \u001b[0;31m# pylint: disable=protected-access\u001b[0m\u001b[0;34m\u001b[0m\u001b[0;34m\u001b[0m\u001b[0m\n",
      "\u001b[0;31mKeyboardInterrupt\u001b[0m: "
     ]
    }
   ],
   "source": [
    "model_complex.fit(train_seqs,\n",
    "          train_44_cts,\n",
    "         batch_size=1024,\n",
    "         epochs=50,\n",
    "         validation_data=(val_seqs, val_44_cts),\n",
    "          shuffle=True)"
   ]
  },
  {
   "cell_type": "code",
   "execution_count": null,
   "metadata": {},
   "outputs": [],
   "source": [
    "np.median(get_jsd(softmax(model_complex.predict(test_seqs)), test_44_cts))\n"
   ]
  },
  {
   "cell_type": "code",
   "execution_count": null,
   "metadata": {},
   "outputs": [],
   "source": [
    "for i in [1,2,8,11,16]:\n",
    "    viz_sequence.plot_weights(model_complex.layers[1].get_weights()[0][:,:,i], subticks_frequency=20)"
   ]
  },
  {
   "cell_type": "code",
   "execution_count": null,
   "metadata": {},
   "outputs": [],
   "source": []
  }
 ],
 "metadata": {
  "kernelspec": {
   "display_name": "Python 3",
   "language": "python",
   "name": "python3"
  },
  "language_info": {
   "codemirror_mode": {
    "name": "ipython",
    "version": 3
   },
   "file_extension": ".py",
   "mimetype": "text/x-python",
   "name": "python",
   "nbconvert_exporter": "python",
   "pygments_lexer": "ipython3",
   "version": "3.7.6"
  }
 },
 "nbformat": 4,
 "nbformat_minor": 4
}
