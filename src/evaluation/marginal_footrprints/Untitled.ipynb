{
 "cells": [
  {
   "cell_type": "code",
   "execution_count": 1,
   "metadata": {},
   "outputs": [],
   "source": [
    "import pickle as pkl"
   ]
  },
  {
   "cell_type": "code",
   "execution_count": 2,
   "metadata": {},
   "outputs": [],
   "source": [
    "data = pkl.load(open(\"/srv/scratch/anusri/chrombpnet_paper/tobias_scripts/GM12878/actual_tobias_files/GM12878.atac.filt.merged_AtacBias.pickle\", \"rb\"))\n",
    "\n",
    "\n"
   ]
  },
  {
   "cell_type": "code",
   "execution_count": 5,
   "metadata": {},
   "outputs": [
    {
     "name": "stdout",
     "output_type": "stream",
     "text": [
      "<tobias.tools.atacorrect_functions.AtacBias object at 0x7f134c0e5250>\n"
     ]
    }
   ],
   "source": [
    "print(data)\n",
    "import numpy as np\n",
    "tobias_atac_pssm_forward=np.expand_dims(np.transpose(data.bias['forward'].pssm[0:4])[:,[0,2,3,1]],axis=-1)\n",
    "\n",
    "\n"
   ]
  },
  {
   "cell_type": "code",
   "execution_count": 14,
   "metadata": {},
   "outputs": [
    {
     "name": "stdout",
     "output_type": "stream",
     "text": [
      "[[0.24282416 0.24226894 0.26966318 0.24524371]\n",
      " [0.20928797 0.26398114 0.26736289 0.259368  ]\n",
      " [0.17446342 0.28367319 0.26494466 0.27691873]\n",
      " [0.22525632 0.21662879 0.39530636 0.16280852]\n",
      " [0.18287636 0.38674447 0.27413136 0.15624781]\n",
      " [0.29412396 0.21208794 0.27052872 0.22325939]\n",
      " [0.14020627 0.49420271 0.20903911 0.15655192]\n",
      " [0.38920416 0.12461989 0.20613727 0.28003867]\n",
      " [0.13969722 0.27117099 0.52977444 0.05935736]\n",
      " [0.16054587 0.31427484 0.1819562  0.34322309]\n",
      " [0.1774914  0.35536563 0.20405205 0.26309093]\n",
      " [0.10811996 0.43571461 0.12494991 0.33121552]\n",
      " [0.35965768 0.14517232 0.14313966 0.35203033]\n",
      " [0.326043   0.13135149 0.42964352 0.11296199]\n",
      " [0.26714949 0.20456622 0.35838665 0.16989764]\n",
      " [0.32943261 0.20149536 0.31143285 0.15763918]\n",
      " [0.09236194 0.49319822 0.25941491 0.15502494]\n",
      " [0.25191494 0.24409702 0.15920359 0.34478445]\n",
      " [0.17753849 0.22166341 0.44103977 0.15975832]\n",
      " [0.22597862 0.26695645 0.22560547 0.28145946]\n",
      " [0.16268945 0.27752231 0.36668153 0.19310671]\n",
      " [0.17027241 0.38891407 0.2205214  0.22029211]\n",
      " [0.27166751 0.27805923 0.26634731 0.18392595]\n",
      " [0.26481722 0.26761251 0.25664763 0.21092263]\n",
      " [0.25414351 0.26297277 0.23836867 0.24451505]]\n"
     ]
    }
   ],
   "source": [
    "from scipy.special import softmax\n",
    "print(softmax(tobias_atac_pssm_forward.reshape(25,4),axis=1))\n",
    "\n",
    "\n",
    "\n",
    "\n",
    "\n",
    "\n"
   ]
  },
  {
   "cell_type": "code",
   "execution_count": null,
   "metadata": {},
   "outputs": [],
   "source": []
  }
 ],
 "metadata": {
  "kernelspec": {
   "display_name": "Python 3",
   "language": "python",
   "name": "python3"
  },
  "language_info": {
   "codemirror_mode": {
    "name": "ipython",
    "version": 3
   },
   "file_extension": ".py",
   "mimetype": "text/x-python",
   "name": "python",
   "nbconvert_exporter": "python",
   "pygments_lexer": "ipython3",
   "version": "3.7.6"
  }
 },
 "nbformat": 4,
 "nbformat_minor": 4
}
