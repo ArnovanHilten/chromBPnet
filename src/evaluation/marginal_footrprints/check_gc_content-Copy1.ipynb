{
 "cells": [
  {
   "cell_type": "code",
   "execution_count": 1,
   "metadata": {},
   "outputs": [
    {
     "name": "stdout",
     "output_type": "stream",
     "text": [
      "opening:/srv/scratch/anusri/chrombpnet_paper/results/chrombpnet/ATAC/GM12878/data/tiledb/db for reading...\n",
      "success!\n",
      "got indices for used chroms\n",
      "identified input dataset indices:[[]]\n",
      "identified output dataset indices:[[0], [0]]\n",
      "identified upsampling dataset indices:[0]\n",
      "num_threads:24\n",
      "starting getting indices to upsample in range:1674883629-1808681051\n",
      "finished indices to upsample in range:1674883629-1808681051\n",
      "closed upsampling pool\n",
      "made upsampled index data frame\n",
      "shuffling upsampled dataframes prior to start of training\n",
      "finished upsampling\n",
      "created generator\n",
      "opening:/srv/scratch/anusri/chrombpnet_paper/results/chrombpnet/ATAC/GM12878/data/tiledb/db for reading...\n",
      "success!\n",
      "got indices for used chroms\n",
      "identified input dataset indices:[[]]\n",
      "identified output dataset indices:[[0], [0]]\n",
      "identified upsampling dataset indices:[0]\n",
      "num_threads:24\n",
      "starting getting indices to upsample in range:1674883629-1808681051\n",
      "finished indices to upsample in range:1674883629-1808681051\n",
      "closed upsampling pool\n",
      "made upsampled index data frame\n",
      "shuffling upsampled dataframes prior to start of training\n",
      "finished upsampling\n",
      "created generator\n"
     ]
    }
   ],
   "source": [
    "%load_ext autoreload\n",
    "%autoreload 2\n",
    "#import kerasAC \n",
    "from kerasAC.generators.tiledb_generator import *\n",
    "from kerasAC.tiledb_config import *\n",
    "\n",
    "import tiledb \n",
    "gen=TiledbGenerator(batch_size=50,\n",
    "                    ref_fasta=\"/mnt/data/GRCh38_no_alt_analysis_set_GCA_000001405.15.fasta\", # reference sequence file\n",
    "                    tdb_array=\"/srv/scratch/anusri/chrombpnet_paper/results/chrombpnet/ATAC/GM12878/data/tiledb/db\", # database generated\n",
    "                    chroms=['chr10'],\n",
    "                    num_inputs=1,\n",
    "                    num_outputs=2,\n",
    "                    tdb_input_datasets=['seq'],\n",
    "                    tdb_output_datasets=['GM12878', 'GM12878'],\n",
    "                    tdb_input_source_attribute=['seq'],\n",
    "                    tdb_output_source_attribute=['count_bigwig_unstranded_5p', 'count_bigwig_unstranded_5p'],\n",
    "                    tdb_input_flank=['1057'],\n",
    "                    tdb_output_flank=['500', '500'],\n",
    "                    tdb_input_min=['None'], \n",
    "                    tdb_output_min=['None', 'None'],\n",
    "                    tdb_input_max=['None'],\n",
    "                    tdb_output_max=['None', '3.25'],\n",
    "                    tdb_input_aggregation=['None'],\n",
    "                    tdb_input_transformation=['None'],\n",
    "                    tdb_output_aggregation=['None','sum'],\n",
    "                    tdb_output_transformation=['None','log'],\n",
    "                    tdb_partition_attribute_for_upsample='negatives_peak',\n",
    "                    tdb_partition_thresh_for_upsample=2,\n",
    "                    tdb_partition_datasets_for_upsample=['GM12878'],\n",
    "                    upsample_ratio=1.0,\n",
    "                    shuffle_epoch_start=True,\n",
    "                    shuffle_epoch_end=True,\n",
    "                    return_coords=True,\n",
    "                    tdb_config=get_default_config(),\n",
    "                    tdb_ctx=tiledb.Ctx(config=get_default_config()),\n",
    "                    num_threads=24,\n",
    "                    pseudocount=1)\n",
    "\n",
    "\n",
    "gen_2=TiledbGenerator(batch_size=50,\n",
    "                    ref_fasta=\"/mnt/data/GRCh38_no_alt_analysis_set_GCA_000001405.15.fasta\", # reference sequence file\n",
    "                    tdb_array=\"/srv/scratch/anusri/chrombpnet_paper/results/chrombpnet/ATAC/GM12878/data/tiledb/db\", # database generated\n",
    "                    chroms=['chr10'],\n",
    "                    num_inputs=1,\n",
    "                    num_outputs=2,\n",
    "                    tdb_input_datasets=['seq'],\n",
    "                    tdb_output_datasets=['GM12878', 'GM12878'],\n",
    "                    tdb_input_source_attribute=['seq'],\n",
    "                    tdb_output_source_attribute=['count_bigwig_unstranded_5p', 'count_bigwig_unstranded_5p'],\n",
    "                    tdb_input_flank=['1057'],\n",
    "                    tdb_output_flank=['500', '500'],\n",
    "                    tdb_input_min=['None'], \n",
    "                    tdb_output_min=['None', 'None'],\n",
    "                    tdb_input_max=['None'],\n",
    "                    tdb_output_max=['2.3', '11.5'],\n",
    "                    tdb_input_aggregation=['None'],\n",
    "                    tdb_input_transformation=['None'],\n",
    "                    tdb_output_aggregation=['None','sum'],\n",
    "                    tdb_output_transformation=['None','log'],\n",
    "                    tdb_partition_attribute_for_upsample='negatives_peak',\n",
    "                    tdb_partition_thresh_for_upsample=2,\n",
    "                    tdb_partition_datasets_for_upsample=['GM12878'],\n",
    "                    upsample_ratio=1.0,\n",
    "                    shuffle_epoch_start=True,\n",
    "                    shuffle_epoch_end=True,\n",
    "                    return_coords=True,\n",
    "                    tdb_config=get_default_config(),\n",
    "                    tdb_ctx=tiledb.Ctx(config=get_default_config()),\n",
    "                    num_threads=24,\n",
    "                    pseudocount=1)"
   ]
  },
  {
   "cell_type": "code",
   "execution_count": 2,
   "metadata": {},
   "outputs": [
    {
     "name": "stdout",
     "output_type": "stream",
     "text": [
      "opening:/mnt/lab_data3/anusri/chrombpnet_paper/results/chrombpnet/ATAC/UNIVERSAL/data/tiledb/db for reading...\n",
      "success!\n",
      "got indices for used chroms\n",
      "identified input dataset indices:[[]]\n",
      "identified output dataset indices:[[0], [0]]\n",
      "identified upsampling dataset indices:[0]\n",
      "num_threads:24\n",
      "starting getting indices to upsample in range:1674883629-1808681051\n",
      "finished indices to upsample in range:1674883629-1808681051\n",
      "closed upsampling pool\n",
      "made upsampled index data frame\n",
      "shuffling upsampled dataframes prior to start of training\n",
      "finished upsampling\n",
      "created generator\n"
     ]
    }
   ],
   "source": [
    "univ_gen=TiledbGenerator(batch_size=50,\n",
    "                    ref_fasta=\"/mnt/data/GRCh38_no_alt_analysis_set_GCA_000001405.15.fasta\", # reference sequence file\n",
    "                    tdb_array=\"/mnt/lab_data3/anusri/chrombpnet_paper/results/chrombpnet/ATAC/UNIVERSAL/data/tiledb/db\", # database generated\n",
    "                    chroms=['chr10'],\n",
    "                    num_inputs=1,\n",
    "                    num_outputs=2,\n",
    "                    tdb_input_datasets=['seq'],\n",
    "                    tdb_output_datasets=['UNIVERSAL', 'UNIVERSAL'],\n",
    "                    tdb_input_source_attribute=['seq'],\n",
    "                    tdb_output_source_attribute=['count_bigwig_unstranded_5p', 'count_bigwig_unstranded_5p'],\n",
    "                    tdb_input_flank=['1057'],\n",
    "                    tdb_output_flank=['500', '500'],\n",
    "                    tdb_input_min=['None'], \n",
    "                    tdb_output_min=['None', 'None'],\n",
    "                    tdb_input_max=['None'],\n",
    "                    tdb_output_max=['None', '7.0'],\n",
    "                    tdb_input_aggregation=['None'],\n",
    "                    tdb_input_transformation=['None'],\n",
    "                    tdb_output_aggregation=['None','sum'],\n",
    "                    tdb_output_transformation=['None','log'],\n",
    "                    tdb_partition_attribute_for_upsample='negatives_peak',\n",
    "                    tdb_partition_thresh_for_upsample=2,\n",
    "                    tdb_partition_datasets_for_upsample=['UNIVERSAL'],\n",
    "                    upsample_ratio=1.0,\n",
    "                    shuffle_epoch_start=True,\n",
    "                    shuffle_epoch_end=True,\n",
    "                    return_coords=True,\n",
    "                    tdb_config=get_default_config(),\n",
    "                    tdb_ctx=tiledb.Ctx(config=get_default_config()),\n",
    "                    num_threads=24,\n",
    "                    pseudocount=1)"
   ]
  },
  {
   "cell_type": "code",
   "execution_count": 3,
   "metadata": {},
   "outputs": [],
   "source": [
    "(X,y,coords)=gen[0]"
   ]
  },
  {
   "cell_type": "code",
   "execution_count": 4,
   "metadata": {},
   "outputs": [
    {
     "name": "stdout",
     "output_type": "stream",
     "text": [
      "(7, 2114, 4)\n"
     ]
    }
   ],
   "source": [
    "print(X[0].shape)\n",
    "values = np.argmax(X[0], axis=2)"
   ]
  },
  {
   "cell_type": "code",
   "execution_count": 23,
   "metadata": {},
   "outputs": [],
   "source": [
    "gc_content_dist = []\n",
    "for batch_idx in range(0,1000):\n",
    "    (X,y,coords)=gen[batch_idx]\n",
    "    values = np.argmax(X[0], axis=2)\n",
    "    for idx in range(values.shape[0]):\n",
    "        occurrences_c = np.count_nonzero(values[idx] == 1)\n",
    "        occurrences_g = np.count_nonzero(values[idx] == 2)\n",
    "        gc_content = occurrences_c+occurrences_g\n",
    "        frac_gc = gc_content/2114\n",
    "        gc_content_dist.append(frac_gc)\n",
    "        \n",
    "    \n"
   ]
  },
  {
   "cell_type": "code",
   "execution_count": 48,
   "metadata": {},
   "outputs": [],
   "source": [
    "gc_content_dist_2 = []\n",
    "for batch_idx in range(0,1000):\n",
    "    (X,y,coords)=gen_2[batch_idx]\n",
    "    values = np.argmax(X[0], axis=2)\n",
    "    for idx in range(values.shape[0]):\n",
    "        occurrences_c = np.count_nonzero(values[idx] == 1)\n",
    "        occurrences_g = np.count_nonzero(values[idx] == 2)\n",
    "        gc_content = occurrences_c+occurrences_g\n",
    "        frac_gc = gc_content/2114\n",
    "        gc_content_dist_2.append(frac_gc)\n",
    "        "
   ]
  },
  {
   "cell_type": "code",
   "execution_count": 24,
   "metadata": {},
   "outputs": [],
   "source": [
    "gc_content_dist_univ_gen = []\n",
    "for batch_idx in range(0,1000):\n",
    "    (X,y,coords)=univ_gen[batch_idx]\n",
    "    values = np.argmax(X[0], axis=2)\n",
    "    for idx in range(values.shape[0]):\n",
    "        occurrences_c = np.count_nonzero(values[idx] == 1)\n",
    "        occurrences_g = np.count_nonzero(values[idx] == 2)\n",
    "        gc_content = occurrences_c+occurrences_g\n",
    "        frac_gc = gc_content/2114\n",
    "        gc_content_dist_univ_gen.append(frac_gc)\n",
    "        "
   ]
  },
  {
   "cell_type": "code",
   "execution_count": 8,
   "metadata": {},
   "outputs": [],
   "source": [
    "import matplotlib.pyplot as plt"
   ]
  },
  {
   "cell_type": "code",
   "execution_count": 29,
   "metadata": {},
   "outputs": [],
   "source": [
    "import pandas as pd\n",
    "data_peak = pd.read_csv(\"/srv/scratch/anusri/chrombpnet_paper/results/chrombpnet/ATAC/GM12878/negatives_data/bpnet.peaks.test.0.gc.seq\", delimiter=\"\\t\")\n",
    "#print(len(data_peak.iloc[:,3].values))\n",
    "peaks_gc=data_peak.iloc[:,3].values\n",
    "np.random.shuffle(peaks_gc)"
   ]
  },
  {
   "cell_type": "code",
   "execution_count": 14,
   "metadata": {},
   "outputs": [],
   "source": [
    " from statsmodels.distributions.empirical_distribution import ECDF\n"
   ]
  },
  {
   "cell_type": "code",
   "execution_count": 66,
   "metadata": {},
   "outputs": [
    {
     "data": {
      "image/png": "[encoded data removed]",
      "text/plain": [
       "<Figure size 576x432 with 1 Axes>"
      ]
     },
     "metadata": {
      "needs_background": "light"
     },
     "output_type": "display_data"
    }
   ],
   "source": [
    "#bins = np.linspace(0.2, 0.8, 100)\n",
    "from scipy.stats import uniform\n",
    "\n",
    "bins = np.linspace(0, 1, 100)\n",
    "\n",
    "plt.figure(figsize=(8,6))\n",
    "#plt.hist(gc_content_dist, bins=bins, alpha=0.5, label=\"min count cutoff 4.46\")\n",
    "ecdf = ECDF(gc_content_dist_2)\n",
    "plt.plot(ecdf.x,ecdf.y, label=\"bias model with no max cutoff\")\n",
    "ecdf = ECDF(gc_content_dist)\n",
    "plt.plot(ecdf.x,ecdf.y, label=\"bias model with max cutoff as minpeak//2\")\n",
    "ecdf = ECDF(gc_content_dist_univ_gen)\n",
    "plt.plot(ecdf.x,ecdf.y, label=\"universal bias model training regions\")\n",
    "ecdf = ECDF(peaks_gc[0:10000])\n",
    "plt.plot(ecdf.x,ecdf.y, label=\"in peaks\")\n",
    "#ecdf = ECDF(peaks_gc[0:10000])\n",
    "#unf = uniform.rvs(size=1000, loc=0.2, scale=0.6)\n",
    "#ecdf = ECDF(unf)\n",
    "#plt.plot(ecdf.x,ecdf.y, label=\"uniform\")\n",
    "plt.ylabel(\"ECDF\")\n",
    "plt.xlabel(\"GC content\")\n",
    "plt.legend(loc='lower right')\n",
    "plt.show()"
   ]
  },
  {
   "cell_type": "code",
   "execution_count": 69,
   "metadata": {},
   "outputs": [
    {
     "data": {
      "text/plain": [
       "<matplotlib.legend.Legend at 0x7fb4c4ddaa50>"
      ]
     },
     "execution_count": 69,
     "metadata": {},
     "output_type": "execute_result"
    },
    {
     "data": {
      "image/png": "[encoded data removed]",
      "text/plain": [
       "<Figure size 576x432 with 1 Axes>"
      ]
     },
     "metadata": {
      "needs_background": "light"
     },
     "output_type": "display_data"
    }
   ],
   "source": [
    "#plt.figure()\n",
    "plt.figure(figsize=(8,6))\n",
    "\n",
    "plt.hist(gc_content_dist_2, bins=bins, alpha=0.5, label=\"bias model with no max cutoff\", cumulative=False, density=True)\n",
    "plt.hist(gc_content_dist, bins=bins, alpha=0.5, label=\"bias model with max cutoff minpeak//2\", cumulative=False, density=True)\n",
    "plt.hist(gc_content_dist_univ_gen, bins=bins, alpha=0.5, label=\"universal bias model training regions\", cumulative=False,density=True)\n",
    "plt.hist(peaks_gc[0:10000], bins=bins, alpha=0.5, label=\"peaks gc\", cumulative=False, density=True)\n",
    "plt.ylabel(\"Density\")\n",
    "plt.xlabel(\"GC content\")\n",
    "plt.legend(loc='upper right')\n"
   ]
  },
  {
   "cell_type": "code",
   "execution_count": 91,
   "metadata": {},
   "outputs": [
    {
     "name": "stdout",
     "output_type": "stream",
     "text": [
      "173\n"
     ]
    }
   ],
   "source": [
    "print(len(univ_gen))\n",
    "(X,y,coords)=gen[0]"
   ]
  },
  {
   "cell_type": "code",
   "execution_count": 96,
   "metadata": {},
   "outputs": [
    {
     "name": "stdout",
     "output_type": "stream",
     "text": [
      "5068\n"
     ]
    }
   ],
   "source": [
    "print(len(gc_content_dist))"
   ]
  },
  {
   "cell_type": "code",
   "execution_count": 11,
   "metadata": {},
   "outputs": [
    {
     "name": "stdout",
     "output_type": "stream",
     "text": [
      "The autoreload extension is already loaded. To reload it, use:\n",
      "  %reload_ext autoreload\n",
      "opening:/srv/scratch/anusri/chrombpnet_paper/results/chrombpnet/ATAC/K562/data/tiledb/db for reading...\n",
      "success!\n",
      "got indices for used chroms\n",
      "identified input dataset indices:[[]]\n",
      "identified output dataset indices:[[0], [0]]\n"
     ]
    },
    {
     "ename": "ValueError",
     "evalue": "could not convert string to float: ",
     "output_type": "error",
     "traceback": [
      "\u001b[0;31m---------------------------------------------------------------------------\u001b[0m",
      "\u001b[0;31mValueError\u001b[0m                                Traceback (most recent call last)",
      "\u001b[0;32m<ipython-input-11-d6e7dcbacf9c>\u001b[0m in \u001b[0;36m<module>\u001b[0;34m\u001b[0m\n\u001b[1;32m     36\u001b[0m                     \u001b[0mtdb_ctx\u001b[0m\u001b[0;34m=\u001b[0m\u001b[0mtiledb\u001b[0m\u001b[0;34m.\u001b[0m\u001b[0mCtx\u001b[0m\u001b[0;34m(\u001b[0m\u001b[0mconfig\u001b[0m\u001b[0;34m=\u001b[0m\u001b[0mget_default_config\u001b[0m\u001b[0;34m(\u001b[0m\u001b[0;34m)\u001b[0m\u001b[0;34m)\u001b[0m\u001b[0;34m,\u001b[0m\u001b[0;34m\u001b[0m\u001b[0;34m\u001b[0m\u001b[0m\n\u001b[1;32m     37\u001b[0m                     \u001b[0mnum_threads\u001b[0m\u001b[0;34m=\u001b[0m\u001b[0;36m24\u001b[0m\u001b[0;34m,\u001b[0m\u001b[0;34m\u001b[0m\u001b[0;34m\u001b[0m\u001b[0m\n\u001b[0;32m---> 38\u001b[0;31m                     pseudocount=1)\n\u001b[0m",
      "\u001b[0;32m/mnt/lab_data3/anusri/kerasAC/kerasAC/generators/tiledb_generator.py\u001b[0m in \u001b[0;36m__init__\u001b[0;34m(self, ref_fasta, batch_size, tdb_array, tdb_partition_attribute_for_upsample, tdb_partition_thresh_for_upsample, tdb_partition_datasets_for_upsample, tdb_input_source_attribute, tdb_input_flank, upsample_ratio, tdb_output_source_attribute, tdb_output_flank, num_inputs, num_outputs, tdb_input_min, tdb_input_max, tdb_output_min, tdb_output_max, tdb_input_datasets, tdb_output_datasets, tdb_input_aggregation, tdb_input_transformation, tdb_output_aggregation, tdb_output_transformation, tdb_ambig_attribute, chroms, chrom_sizes, shuffle_epoch_start, shuffle_epoch_end, pseudocount, add_revcomp, return_coords, tdb_config, tdb_ctx, num_threads, bed_regions, bed_regions_center, bed_regions_jitter)\u001b[0m\n\u001b[1;32m    191\u001b[0m         \u001b[0mself\u001b[0m\u001b[0;34m.\u001b[0m\u001b[0mtdb_input_max\u001b[0m\u001b[0;34m=\u001b[0m\u001b[0mtransform_data_type_max\u001b[0m\u001b[0;34m(\u001b[0m\u001b[0mtdb_input_max\u001b[0m\u001b[0;34m,\u001b[0m\u001b[0mself\u001b[0m\u001b[0;34m.\u001b[0m\u001b[0mnum_inputs\u001b[0m\u001b[0;34m)\u001b[0m\u001b[0;34m\u001b[0m\u001b[0;34m\u001b[0m\u001b[0m\n\u001b[1;32m    192\u001b[0m         \u001b[0mself\u001b[0m\u001b[0;34m.\u001b[0m\u001b[0mtdb_output_min\u001b[0m\u001b[0;34m=\u001b[0m\u001b[0mtransform_data_type_min\u001b[0m\u001b[0;34m(\u001b[0m\u001b[0mtdb_output_min\u001b[0m\u001b[0;34m,\u001b[0m\u001b[0mself\u001b[0m\u001b[0;34m.\u001b[0m\u001b[0mnum_outputs\u001b[0m\u001b[0;34m)\u001b[0m\u001b[0;34m\u001b[0m\u001b[0;34m\u001b[0m\u001b[0m\n\u001b[0;32m--> 193\u001b[0;31m         \u001b[0mself\u001b[0m\u001b[0;34m.\u001b[0m\u001b[0mtdb_output_max\u001b[0m\u001b[0;34m=\u001b[0m\u001b[0mtransform_data_type_max\u001b[0m\u001b[0;34m(\u001b[0m\u001b[0mtdb_output_max\u001b[0m\u001b[0;34m,\u001b[0m\u001b[0mself\u001b[0m\u001b[0;34m.\u001b[0m\u001b[0mnum_outputs\u001b[0m\u001b[0;34m)\u001b[0m\u001b[0;34m\u001b[0m\u001b[0;34m\u001b[0m\u001b[0m\n\u001b[0m\u001b[1;32m    194\u001b[0m \u001b[0;34m\u001b[0m\u001b[0m\n\u001b[1;32m    195\u001b[0m         \u001b[0;31m#identify upsampled genome indices for model training\u001b[0m\u001b[0;34m\u001b[0m\u001b[0;34m\u001b[0m\u001b[0;34m\u001b[0m\u001b[0m\n",
      "\u001b[0;32m/mnt/lab_data3/anusri/kerasAC/kerasAC/util.py\u001b[0m in \u001b[0;36mtransform_data_type_max\u001b[0;34m(inputs, num_inputs)\u001b[0m\n\u001b[1;32m    215\u001b[0m                     \u001b[0mtransformed\u001b[0m\u001b[0;34m[\u001b[0m\u001b[0mi\u001b[0m\u001b[0;34m]\u001b[0m\u001b[0;34m.\u001b[0m\u001b[0mappend\u001b[0m\u001b[0;34m(\u001b[0m\u001b[0mmath\u001b[0m\u001b[0;34m.\u001b[0m\u001b[0minf\u001b[0m\u001b[0;34m)\u001b[0m\u001b[0;34m\u001b[0m\u001b[0;34m\u001b[0m\u001b[0m\n\u001b[1;32m    216\u001b[0m                 \u001b[0;32melse\u001b[0m\u001b[0;34m:\u001b[0m\u001b[0;34m\u001b[0m\u001b[0;34m\u001b[0m\u001b[0m\n\u001b[0;32m--> 217\u001b[0;31m                     \u001b[0mtransformed\u001b[0m\u001b[0;34m[\u001b[0m\u001b[0mi\u001b[0m\u001b[0;34m]\u001b[0m\u001b[0;34m.\u001b[0m\u001b[0mappend\u001b[0m\u001b[0;34m(\u001b[0m\u001b[0mfloat\u001b[0m\u001b[0;34m(\u001b[0m\u001b[0mj\u001b[0m\u001b[0;34m)\u001b[0m\u001b[0;34m)\u001b[0m\u001b[0;34m\u001b[0m\u001b[0;34m\u001b[0m\u001b[0m\n\u001b[0m\u001b[1;32m    218\u001b[0m     \u001b[0;32mreturn\u001b[0m \u001b[0mtransformed\u001b[0m\u001b[0;34m\u001b[0m\u001b[0;34m\u001b[0m\u001b[0m\n\u001b[1;32m    219\u001b[0m \u001b[0;34m\u001b[0m\u001b[0m\n",
      "\u001b[0;31mValueError\u001b[0m: could not convert string to float: "
     ]
    }
   ],
   "source": [
    "%load_ext autoreload\n",
    "%autoreload 2\n",
    "#import kerasAC \n",
    "from kerasAC.generators.tiledb_generator import *\n",
    "from kerasAC.tiledb_config import *\n",
    "\n",
    "import tiledb \n",
    "gen=TiledbGenerator(batch_size=50,\n",
    "                    ref_fasta=\"/mnt/data/GRCh38_no_alt_analysis_set_GCA_000001405.15.fasta\", # reference sequence file\n",
    "                    tdb_array=\"/srv/scratch/anusri/chrombpnet_paper/results/chrombpnet/ATAC/K562/data/tiledb/db\", # database generated\n",
    "                    chroms=['chr10'],\n",
    "                    num_inputs=1,\n",
    "                    num_outputs=2,\n",
    "                    tdb_input_datasets=['seq'],\n",
    "                    tdb_output_datasets=['K562', 'K562'],\n",
    "                    tdb_input_source_attribute=['seq'],\n",
    "                    tdb_output_source_attribute=['count_bigwig_unstranded_5p', 'count_bigwig_unstranded_5p'],\n",
    "                    tdb_input_flank=['1057'],\n",
    "                    tdb_output_flank=['500', '500'],\n",
    "                    tdb_input_min=['None'], \n",
    "                    tdb_output_min=['None', 'None'],\n",
    "                    tdb_input_max=['None'],\n",
    "                    tdb_output_max=['None', ''],\n",
    "                    tdb_input_aggregation=['None'],\n",
    "                    tdb_input_transformation=['None'],\n",
    "                    tdb_output_aggregation=['None','sum'],\n",
    "                    tdb_output_transformation=['None','log'],\n",
    "                    tdb_partition_attribute_for_upsample='negatives_peak',\n",
    "                    tdb_partition_thresh_for_upsample=2,\n",
    "                    tdb_partition_datasets_for_upsample=['K562'],\n",
    "                    upsample_ratio=1.0,\n",
    "                    shuffle_epoch_start=True,\n",
    "                    shuffle_epoch_end=True,\n",
    "                    return_coords=True,\n",
    "                    tdb_config=get_default_config(),\n",
    "                    tdb_ctx=tiledb.Ctx(config=get_default_config()),\n",
    "                    num_threads=24,\n",
    "                    pseudocount=1)\n"
   ]
  }
 ],
 "metadata": {
  "kernelspec": {
   "display_name": "Python 3",
   "language": "python",
   "name": "python3"
  },
  "language_info": {
   "codemirror_mode": {
    "name": "ipython",
    "version": 3
   },
   "file_extension": ".py",
   "mimetype": "text/x-python",
   "name": "python",
   "nbconvert_exporter": "python",
   "pygments_lexer": "ipython3",
   "version": "3.7.6"
  }
 },
 "nbformat": 4,
 "nbformat_minor": 4
}
