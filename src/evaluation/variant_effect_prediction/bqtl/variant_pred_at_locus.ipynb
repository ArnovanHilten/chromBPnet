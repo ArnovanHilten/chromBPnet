{
 "cells": [
  {
   "cell_type": "code",
   "execution_count": 1,
   "metadata": {
    "ExecuteTime": {
     "end_time": "2020-11-08T00:48:43.556904Z",
     "start_time": "2020-11-08T00:48:33.116078Z"
    }
   },
   "outputs": [
    {
     "name": "stdout",
     "output_type": "stream",
     "text": [
      "WARNING:tensorflow:From /users/anusri/anaconda3/lib/python3.7/site-packages/tensorflow/python/compat/v2_compat.py:96: disable_resource_variables (from tensorflow.python.ops.variable_scope) is deprecated and will be removed in a future version.\n",
      "Instructions for updating:\n",
      "non-resource variables are not supported in the long term\n"
     ]
    },
    {
     "name": "stderr",
     "output_type": "stream",
     "text": [
      "Using TensorFlow backend.\n",
      "/mnt/lab_data3/anusri/kerasAC/kerasAC/vis/plot_letters.py:172: FutureWarning: arrays to stack must be passed as a \"sequence\" type such as list or tuple. Support for non-sequence iterables such as generators is deprecated as of NumPy 1.16 and will raise an error in the future.\n",
      "  min_coords = np.vstack(data.min(0) for data in polygons_data).min(0)\n",
      "/mnt/lab_data3/anusri/kerasAC/kerasAC/vis/plot_letters.py:173: FutureWarning: arrays to stack must be passed as a \"sequence\" type such as list or tuple. Support for non-sequence iterables such as generators is deprecated as of NumPy 1.16 and will raise an error in the future.\n",
      "  max_coords = np.vstack(data.max(0) for data in polygons_data).max(0)\n"
     ]
    }
   ],
   "source": [
    "%load_ext autoreload\n",
    "%reload_ext autoreload\n",
    "\n",
    "%autoreload 2\n",
    "%matplotlib inline\n",
    "import tensorflow\n",
    "from tensorflow.compat.v1.keras.backend import get_session\n",
    "tensorflow.compat.v1.disable_v2_behavior()\n",
    "import math\n",
    "import kerasAC \n",
    "from scipy.special import softmax,expit\n",
    "from kerasAC.interpret.deepshap import * \n",
    "from kerasAC.interpret.profile_shap import * \n",
    "from kerasAC.vis import * \n",
    "from kerasAC.helpers.transform_bpnet_io import * \n",
    "from kerasAC.util import * \n",
    "import pandas as pd\n",
    "\n",
    "## for plotting \n",
    "\n",
    "import matplotlib \n",
    "from matplotlib import pyplot as plt\n",
    "plt.rcParams[\"figure.figsize\"]=10,5\n",
    "plt.rcParams['axes.xmargin'] = 0\n",
    "\n",
    "font = {'family' : 'normal',\n",
    "        'weight' : 'bold',\n",
    "        'size'   : 10}\n",
    "\n",
    "matplotlib.rc('font', **font)\n",
    "\n",
    "import os\n",
    "os.environ[\"CUDA_VISIBLE_DEVICES\"]=\"2\""
   ]
  },
  {
   "cell_type": "code",
   "execution_count": 2,
   "metadata": {
    "ExecuteTime": {
     "end_time": "2020-11-08T00:48:43.619760Z",
     "start_time": "2020-11-08T00:48:43.559883Z"
    }
   },
   "outputs": [],
   "source": [
    "import pysam \n",
    "ref=pysam.FastaFile(\"/mnt/data/GRCh38_no_alt_analysis_set_GCA_000001405.15.fasta\")"
   ]
  },
  {
   "cell_type": "code",
   "execution_count": 3,
   "metadata": {
    "ExecuteTime": {
     "end_time": "2020-11-08T00:48:55.160884Z",
     "start_time": "2020-11-08T00:48:43.625391Z"
    }
   },
   "outputs": [],
   "source": [
    "#load the model! \n",
    "from tensorflow.keras.models import load_model, model_from_json\n",
    "from tensorflow.keras.utils import get_custom_objects\n",
    "from kerasAC.metrics import * \n",
    "from kerasAC.custom_losses import * \n",
    "from keras_genomics.layers.convolutional import RevCompConv1D\n",
    "import tensorflow_probability as tfp\n",
    "\n",
    "custom_objects={\"recall\":recall,\n",
    "                \"sensitivity\":recall,\n",
    "                \"specificity\":specificity,\n",
    "                \"fpr\":fpr,\n",
    "                \"fnr\":fnr,\n",
    "                \"precision\":precision,\n",
    "                \"f1\":f1,\n",
    "                \"ambig_binary_crossentropy\":ambig_binary_crossentropy,\n",
    "                \"ambig_mean_absolute_error\":ambig_mean_absolute_error,\n",
    "                \"ambig_mean_squared_error\":ambig_mean_squared_error,\n",
    "                \"MultichannelMultinomialNLL\":MultichannelMultinomialNLL,\n",
    "                \"MultichannelMultinomialMSE\":MultichannelMultinomialMSE,                \n",
    "                \"RevCompConv1D\": RevCompConv1D}\n",
    "get_custom_objects().update(custom_objects)\n",
    "#load dnase model from architecture and trained weights \n",
    "#import json \n",
    "#dnase_model=model_from_json(open(\"gm12878.dnase.with.bpnet.tobias.bias.0.arch\",'r').read())\n",
    "#dnase_model.load_weights(\"gm12878.dnase.with.bpnet.tobias.bias.0.weights\")\n",
    "#histone_model=load_model(\"patience_6_5K_out_12_gm12878.h3k27ac.seed.2345.cs.25.filters.300.naive.range.4.6.to.11.5.0.hdf5\")\n",
    "#dnase_model=load_model(\"/srv/scratch/anusri/chrombpnet_paper/results/chrombpnet/ATAC/GM12878/4_4_shifted_ATAC_09.06.2021_bias_filters_500/final_model_step3/unplug/model.0.hdf5\")\n",
    "dnase_model=load_model(\"/srv/scratch/anusri/chrombpnet_paper/results/chrombpnet/DNASE/GM12878/4_1_shifted_DNASE_10.04.2021_bias_filters_128/final_model_step3/unplug/model.0.hdf5\")"
   ]
  },
  {
   "cell_type": "code",
   "execution_count": 4,
   "metadata": {
    "ExecuteTime": {
     "end_time": "2020-11-08T00:48:56.692463Z",
     "start_time": "2020-11-08T00:48:55.163833Z"
    }
   },
   "outputs": [],
   "source": [
    "import shap\n",
    "from deeplift.dinuc_shuffle import dinuc_shuffle\n",
    "\n",
    "def combine_mult_and_diffref(mult, orig_inp, bg_data):\n",
    "    to_return = []\n",
    "    for l in [0]:\n",
    "        projected_hypothetical_contribs = np.zeros_like(bg_data[l]).astype(\"float\")\n",
    "        assert len(orig_inp[l].shape)==2\n",
    "        for i in range(orig_inp[l].shape[-1]):\n",
    "            hypothetical_input = np.zeros_like(orig_inp[l]).astype(\"float\")\n",
    "            hypothetical_input[:,i] = 1.0\n",
    "            hypothetical_difference_from_reference = (hypothetical_input[None,:,:]-bg_data[l])\n",
    "            hypothetical_contribs = hypothetical_difference_from_reference*mult[l]\n",
    "            projected_hypothetical_contribs[:,:,i] = np.sum(hypothetical_contribs,axis=-1) \n",
    "        to_return.append(np.mean(projected_hypothetical_contribs,axis=0))\n",
    "    to_return.append(np.zeros_like(orig_inp[1]))\n",
    "    return to_return\n",
    "\n",
    "def shuffle_several_times(s):\n",
    "    numshuffles=20\n",
    "    return [np.array([dinuc_shuffle(s[0]) for i in range(numshuffles)]),\n",
    "            np.array([s[1] for i in range(numshuffles)])]\n"
   ]
  },
  {
   "cell_type": "code",
   "execution_count": 5,
   "metadata": {
    "ExecuteTime": {
     "end_time": "2020-11-08T00:48:57.011018Z",
     "start_time": "2020-11-08T00:48:56.704631Z"
    }
   },
   "outputs": [],
   "source": [
    "#Histone chip \n",
    "#histone_wrapper=([histone_model.input[0],histone_model.input[2]],histone_model.outputs[1][:,0:1])\n",
    "#histone_count_explainer=shap.DeepExplainer(histone_wrapper,\n",
    "#                                     data=create_background_counts_chip,\n",
    "#                                     combine_mult_and_diffref=combine_mult_and_diffref_chip)\n",
    "#histone_prof_explainer=create_explainer(histone_model,ischip=True,task_index=0)\n",
    "\n"
   ]
  },
  {
   "cell_type": "code",
   "execution_count": 6,
   "metadata": {
    "ExecuteTime": {
     "end_time": "2020-11-08T00:48:57.207908Z",
     "start_time": "2020-11-08T00:48:57.012684Z"
    }
   },
   "outputs": [],
   "source": [
    "#DNASE\n",
    "dnase_wrapper=(dnase_model.input,dnase_model.outputs[1][:,0:1])\n",
    "dnase_count_explainer=shap.DeepExplainer(dnase_wrapper,\n",
    "                                        data=create_background_atac,\n",
    "                                        combine_mult_and_diffref=combine_mult_and_diffref_atac)\n",
    "dnase_prof_explainer=create_explainer(dnase_model,ischip=False,task_index=0)\n"
   ]
  },
  {
   "cell_type": "code",
   "execution_count": 7,
   "metadata": {
    "ExecuteTime": {
     "end_time": "2020-11-08T00:48:57.313208Z",
     "start_time": "2020-11-08T00:48:57.210301Z"
    }
   },
   "outputs": [],
   "source": [
    "## source signal tracks \n",
    "import pyBigWig\n",
    "#DNASE \n",
    "#dnase_bw=pyBigWig.open(\"/srv/scratch/anusri/chrombpnet_paper/results/chrombpnet/ATAC/GM12878/data/shifted.sorted.bam.bpnet.unstranded.bw\",'r')\n",
    "dnase_bw=pyBigWig.open(\"/srv/scratch/anusri/chrombpnet_paper/results/chrombpnet/DNASE/GM12878/data/shifted.sorted.bam.bpnet.unstranded.bw\",'r')\n",
    "\n",
    "#SPI1 TF \n",
    "#tf_pos=pyBigWig.open(\"/srv/scratch/annashch/chrombpnet/gm12878_tf_dnase_histone/spi1_tf/pos_strand.bw\")\n",
    "#tf_neg=pyBigWig.open(\"/srv/scratch/annashch/chrombpnet/gm12878_tf_dnase_histone/spi1_tf/neg_strand.bw\")\n",
    "#tf_control_pos=pyBigWig.open(\"/srv/scratch/annashch/chrombpnet/gm12878_tf_dnase_histone/spi1_tf/control_neg_strand.bw\")\n",
    "#tf_control_neg=pyBigWig.open(\"/srv/scratch/annashch/chrombpnet/gm12878_tf_dnase_histone/spi1_tf/control_pos_strand.bw\")\n",
    "\n",
    "#H3K27AC \n",
    "#chip_pos=pyBigWig.open(\"/srv/scratch/annashch/chrombpnet/gm12878_tf_dnase_histone/h3k27ac/K562.merged.ENCSR000APK.gz.bam.bpnet.plus.bw\")\n",
    "#chip_neg=pyBigWig.open(\"/srv/scratch/annashch/chrombpnet/gm12878_tf_dnase_histone/h3k27ac/K562.merged.ENCSR000APK.gz.bam.bpnet.minus.bw\")\n",
    "#chip_control_pos=pyBigWig.open(\"/srv/scratch/annashch/chrombpnet/gm12878_tf_dnase_histone/h3k27ac/K562.merged.control.ENCSR000AKY.gz.bam.bpnet.plus.bw\")\n",
    "#chip_control_neg=pyBigWig.open(\"/srv/scratch/annashch/chrombpnet/gm12878_tf_dnase_histone/h3k27ac/K562.merged.control.ENCSR000AKY.gz.bam.bpnet.minus.bw\")\n"
   ]
  },
  {
   "cell_type": "code",
   "execution_count": 8,
   "metadata": {
    "ExecuteTime": {
     "end_time": "2020-11-08T00:48:57.428007Z",
     "start_time": "2020-11-08T00:48:57.315432Z"
    }
   },
   "outputs": [
    {
     "data": {
      "text/html": [
       "<div>\n",
       "<style scoped>\n",
       "    .dataframe tbody tr th:only-of-type {\n",
       "        vertical-align: middle;\n",
       "    }\n",
       "\n",
       "    .dataframe tbody tr th {\n",
       "        vertical-align: top;\n",
       "    }\n",
       "\n",
       "    .dataframe thead th {\n",
       "        text-align: right;\n",
       "    }\n",
       "</style>\n",
       "<table border=\"1\" class=\"dataframe\">\n",
       "  <thead>\n",
       "    <tr style=\"text-align: right;\">\n",
       "      <th></th>\n",
       "      <th>Chrom</th>\n",
       "      <th>hg19pos0</th>\n",
       "      <th>hg38pos0</th>\n",
       "      <th>Major</th>\n",
       "      <th>Minor</th>\n",
       "      <th>Group</th>\n",
       "      <th>Rsid</th>\n",
       "    </tr>\n",
       "  </thead>\n",
       "  <tbody>\n",
       "    <tr>\n",
       "      <th>0</th>\n",
       "      <td>chr22</td>\n",
       "      <td>44116809</td>\n",
       "      <td>43720929</td>\n",
       "      <td>C</td>\n",
       "      <td>G</td>\n",
       "      <td>StrongbQTL</td>\n",
       "      <td>rs5764238</td>\n",
       "    </tr>\n",
       "  </tbody>\n",
       "</table>\n",
       "</div>"
      ],
      "text/plain": [
       "   Chrom  hg19pos0  hg38pos0 Major Minor       Group       Rsid\n",
       "0  chr22  44116809  43720929     C     G  StrongbQTL  rs5764238"
      ]
     },
     "execution_count": 8,
     "metadata": {},
     "output_type": "execute_result"
    }
   ],
   "source": [
    "#USE HG38 \n",
    "#regions=pd.read_csv(\"bQTL.for.ism.csv\",header=0,sep='\\t')\n",
    "regions=pd.read_csv(\"bQTL.intersection.csv\",header=0,sep='\\t')\n",
    "regions"
   ]
  },
  {
   "cell_type": "code",
   "execution_count": 9,
   "metadata": {
    "ExecuteTime": {
     "end_time": "2020-11-08T00:48:57.486543Z",
     "start_time": "2020-11-08T00:48:57.430747Z"
    }
   },
   "outputs": [],
   "source": [
    "def get_preds(model,inputs):\n",
    "    preds=model.predict(inputs)\n",
    "    prof=np.squeeze(preds[0])\n",
    "    probs=softmax(prof,axis=0)\n",
    "    count=np.squeeze(preds[1])  \n",
    "    print(count)\n",
    "    print(np.exp(count))\n",
    "    count_track=probs*np.exp(count) \n",
    "    return prof,count,probs,count_track"
   ]
  },
  {
   "cell_type": "code",
   "execution_count": 10,
   "metadata": {
    "ExecuteTime": {
     "end_time": "2020-11-08T00:48:57.553885Z",
     "start_time": "2020-11-08T00:48:57.488662Z"
    }
   },
   "outputs": [],
   "source": [
    "def analyze_dnase(ref,\n",
    "            chrom,\n",
    "            summit,\n",
    "            ref_allele,\n",
    "            alt_allele,\n",
    "            rsid,\n",
    "            model,\n",
    "            count_explainer,\n",
    "            prof_explainer,\n",
    "            flank=1057,\n",
    "            output_bp=1000,\n",
    "            bigwig_unstranded=None):\n",
    "    #get the reference and alternate one-hot-encoded sequences \n",
    "    seq=ref.fetch(chrom,summit-flank,summit+flank)\n",
    "    \n",
    "    ref_seq=seq[0:flank]+ref_allele+seq[flank+1::]\n",
    "    assert len(ref_seq)==2*flank\n",
    "    ref_onehot=one_hot_encode([ref_seq])\n",
    "    \n",
    "    alt_seq=seq[0:flank]+alt_allele+seq[flank+1::]\n",
    "    assert len(alt_seq)==2*flank\n",
    "    alt_onehot=one_hot_encode([alt_seq])\n",
    "    \n",
    "    #get the bigwig labels \n",
    "    labels_unstranded=np.nan_to_num(bigwig_unstranded.values(chrom,summit-flank,summit+flank))\n",
    "    model_input_ref=ref_onehot\n",
    "    model_input_alt=alt_onehot\n",
    "    #get predictions for reference & alternate allele \n",
    "    prof_ref,count_ref,probs_ref,count_track_ref=get_preds(model,model_input_ref)\n",
    "    prof_alt,count_alt,probs_alt,count_track_alt=get_preds(model,model_input_alt)\n",
    "\n",
    "        \n",
    "    #get the log odds blast radius track \n",
    "    blast_radius_track=np.log(probs_ref)-np.log(probs_alt)\n",
    "    blast_radius_count_track=np.log2(count_track_ref)-np.log2(count_track_alt)\n",
    "    #get deepSHAP scores for ref & alt alleles     \n",
    "    profile_explanations_ref=prof_explainer(ref_onehot,None)*ref_onehot\n",
    "    count_explanations_ref=np.squeeze(count_explainer.shap_values(ref_onehot)[0])*ref_onehot \n",
    "\n",
    "    profile_explanations_alt=prof_explainer(alt_onehot,None)*alt_onehot\n",
    "    count_explanations_alt=np.squeeze(count_explainer.shap_values(alt_onehot)[0])*alt_onehot  \n",
    "    \n",
    "    #look at dimensions of size 1000 \n",
    "    offset=int((2*flank-output_bp)/2)\n",
    "    labels_unstranded=labels_unstranded[offset:offset+output_bp]\n",
    "    profile_explanations_ref=np.squeeze(profile_explanations_ref)[offset:offset+output_bp,:]\n",
    "    profile_explanations_alt=np.squeeze(profile_explanations_alt)[offset:offset+output_bp,:]\n",
    "    count_explanations_ref=np.squeeze(count_explanations_ref)[offset:offset+output_bp,:]\n",
    "    count_explanations_alt=np.squeeze(count_explanations_alt)[offset:offset+output_bp,:]\n",
    "    \n",
    "    \n",
    "    return labels_unstranded,count_track_ref,count_track_alt,blast_radius_track, blast_radius_count_track, profile_explanations_ref,count_explanations_ref, profile_explanations_alt, count_explanations_alt"
   ]
  },
  {
   "cell_type": "code",
   "execution_count": null,
   "metadata": {
    "ExecuteTime": {
     "end_time": "2020-11-08T00:48:57.626804Z",
     "start_time": "2020-11-08T00:48:57.555690Z"
    }
   },
   "outputs": [],
   "source": []
  },
  {
   "cell_type": "code",
   "execution_count": 11,
   "metadata": {
    "ExecuteTime": {
     "end_time": "2020-11-08T00:48:57.707183Z",
     "start_time": "2020-11-08T00:48:57.628797Z"
    }
   },
   "outputs": [],
   "source": [
    "def rolling_window(a, window):\n",
    "    shape = a.shape[:-1] + (a.shape[-1] - window + 1, window)\n",
    "    strides = a.strides + (a.strides[-1],)\n",
    "    return np.lib.stride_tricks.as_strided(a, shape=shape, strides=strides)\n",
    "\n",
    "def smooth_profiles(profiles, smoothing_window):\n",
    "    assert len(profiles.shape)==3\n",
    "    leftpadlen = int((smoothing_window-1)/2)\n",
    "    rightpadlen =\\\n",
    "        (smoothing_window-1)-int((smoothing_window-1)/2)\n",
    "    padded_profiles = np.pad(\n",
    "        array=profiles,\n",
    "        pad_width=((0,0),(leftpadlen, rightpadlen), (0,0)),\n",
    "        mode='edge')\n",
    "    smoothed_profiles = np.mean(rolling_window(\n",
    "                        a=padded_profiles.transpose(0,2,1),\n",
    "                        window=smoothing_window), axis=-1).transpose((0,2,1))\n",
    "    return smoothed_profiles\n",
    "\n",
    "def get_preds_tf(model,inputs):\n",
    "    preds=model.predict(inputs)\n",
    "    prof=np.squeeze(preds[1])\n",
    "    probs=softmax(prof,axis=0)\n",
    "    count=np.squeeze(preds[0])  \n",
    "    count_track=probs*np.exp(count)\n",
    "    return prof,count,probs,count_track\n",
    "\n"
   ]
  },
  {
   "cell_type": "code",
   "execution_count": 12,
   "metadata": {
    "ExecuteTime": {
     "end_time": "2020-11-08T00:48:57.853048Z",
     "start_time": "2020-11-08T00:48:57.712270Z"
    }
   },
   "outputs": [],
   "source": [
    "from scipy.special import softmax \n",
    "def make_plot(dnase_labels_unstranded,\n",
    "              dnase_count_track_ref,\n",
    "              dnase_count_track_alt,\n",
    "              dnase_blast_radius_track,\n",
    "              dnase_blat_radius_counts_track,\n",
    "              dnase_profile_explanations_ref, \n",
    "              dnase_count_explanations_ref, \n",
    "              dnase_profile_explanations_alt, \n",
    "              dnase_count_explanations_alt,\n",
    "              title,\n",
    "              xmin=0,\n",
    "              xmax=1000): \n",
    "    plt.rcParams[\"figure.figsize\"]=45,35\n",
    "    f,axes=plt.subplots(8, 1,gridspec_kw={\n",
    "                           'width_ratios': [1],\n",
    "                           'height_ratios': [1, 2, 1,1, 1, 1, 1,1]})\n",
    "    #labels count track \n",
    "    axes[0].plot(dnase_labels_unstranded)  \n",
    "    axes[0].set_title(\"DNASE labels\",fontsize=20)\n",
    "\n",
    "\n",
    "    #ref vs alt preds \n",
    "    axes[1].plot(dnase_count_track_ref,linewidth=0.25,label='ref',color='b')\n",
    "    axes[1].plot(dnase_count_track_alt,linewidth=0.25,label='alt',color='r')    \n",
    "    axes[1].set_title(\"DNASE Predicted Count Track (Ref vs Alt)\",fontsize=20)\n",
    "    axes[1].legend()\n",
    "\n",
    "    #log2 counts per base ref - log2 counts per base alt \n",
    "    axes[2].plot(dnase_blast_radius_counts_track)\n",
    "    axes[2].set_title(\"DNASE Counts Blast Radius log2(base counts(ref))-log2(base counts(alt))\",fontsize=20)\n",
    "\n",
    "    \n",
    "    # Blast radius \n",
    "    axes[3].plot(dnase_blast_radius_track)\n",
    "    axes[3].set_title(\"DNASE Blast Radius log(prob(ref))-log(prob(alt))\",fontsize=20)\n",
    "\n",
    "    #DeepSHAP Profile Ref \n",
    "    axes[4]=plot_bases_on_ax(dnase_profile_explanations_ref[400:600],axes[4],show_ticks=False)\n",
    "\n",
    "    \n",
    "    #DeepSHAP Profile Alt \n",
    "    axes[5]=plot_bases_on_ax(dnase_profile_explanations_alt[400:600],axes[5],show_ticks=False)\n",
    "    axes[5].set_title(\"DNASE Alt Prof SHAP\",fontsize=20)\n",
    " \n",
    "        \n",
    "    #DeepSHAP Count Ref\n",
    "    axes[6]=plot_bases_on_ax(dnase_count_explanations_ref[400:600],axes[6],show_ticks=False)\n",
    "    axes[6].set_title(\"DNASE Ref Count SHAP\",fontsize=20)\n",
    "\n",
    "    #DeepSHAP Count Alt \n",
    "    axes[7]=plot_bases_on_ax(dnase_count_explanations_alt[400:600],axes[7],show_ticks=False)\n",
    "    axes[7].set_title(\"DNASE Alt Count SHAP\",fontsize=20)\n",
    "  \n",
    "\n",
    "    #set ylim for deepSHAP \n",
    "    dnase_profile_shap_min=min([np.min(dnase_profile_explanations_ref),\n",
    "           np.min(dnase_profile_explanations_alt)])\n",
    "    dnase_count_shap_min=min([np.min(dnase_count_explanations_ref),\n",
    "           np.min(dnase_count_explanations_alt)])\n",
    "\n",
    "    dnase_profile_shap_max=max([np.max(dnase_profile_explanations_ref),\n",
    "           np.max(dnase_profile_explanations_alt)])\n",
    "    dnase_count_shap_max=max([np.max(dnase_count_explanations_ref),\n",
    "           np.max(dnase_count_explanations_alt)])\n",
    "    \n",
    "    axes[4].set_ylim(dnase_profile_shap_min,dnase_profile_shap_max)\n",
    "    axes[5].set_ylim(dnase_profile_shap_min,dnase_profile_shap_max)\n",
    "    axes[6].set_ylim(dnase_count_shap_min,dnase_count_shap_max)\n",
    "    axes[7].set_ylim(dnase_count_shap_min,dnase_count_shap_max)\n",
    "\n",
    "\n",
    "    plt.suptitle(title,fontsize=20)\n",
    "    plt.tight_layout(rect=[0, 0.03, 1, 0.95])\n",
    "    plt.savefig(title.replace('/',':')+'.pdf',format='pdf',dpi=300)\n",
    "    plt.show()\n",
    " "
   ]
  },
  {
   "cell_type": "code",
   "execution_count": 13,
   "metadata": {
    "ExecuteTime": {
     "end_time": "2020-11-08T01:07:34.783922Z",
     "start_time": "2020-11-08T00:48:57.855165Z"
    }
   },
   "outputs": [
    {
     "name": "stdout",
     "output_type": "stream",
     "text": [
      "0\n",
      "WARNING:tensorflow:From /users/anusri/anaconda3/lib/python3.7/site-packages/tensorflow/python/keras/engine/training_v1.py:2070: Model.state_updates (from tensorflow.python.keras.engine.training) is deprecated and will be removed in a future version.\n",
      "Instructions for updating:\n",
      "This property should not be used in TensorFlow 2.0, as updates are applied automatically.\n",
      "3.8320441\n",
      "46.15679\n",
      "4.260966\n",
      "70.8784\n"
     ]
    },
    {
     "name": "stderr",
     "output_type": "stream",
     "text": [
      "findfont: Font family ['normal'] not found. Falling back to DejaVu Sans.\n",
      "findfont: Font family ['normal'] not found. Falling back to DejaVu Sans.\n"
     ]
    }
   ],
   "source": [
    "import pdb\n",
    "for index,row in regions.iterrows(): \n",
    "    chrom=row['Chrom']\n",
    "    summit=row['hg38pos0']\n",
    "    ref_allele=row['Major']\n",
    "    alt_allele=row['Minor']\n",
    "    rsid=row['Rsid']\n",
    "    print(index)\n",
    "    \n",
    "    #DNASE \n",
    "    dnase_labels_unstranded,dnase_count_track_ref,dnase_count_track_alt,dnase_blast_radius_track, dnase_blast_radius_counts_track,dnase_profile_explanations_ref, dnase_count_explanations_ref, dnase_profile_explanations_alt, dnase_count_explanations_alt=analyze_dnase(ref=ref,\n",
    "            chrom=chrom,\n",
    "            summit=summit,\n",
    "            ref_allele=ref_allele,\n",
    "            alt_allele=alt_allele,\n",
    "            rsid=rsid,\n",
    "            bigwig_unstranded=dnase_bw,\n",
    "            model=dnase_model,\n",
    "            count_explainer=dnase_count_explainer,\n",
    "            prof_explainer=dnase_prof_explainer,\n",
    "            flank=1057)\n",
    "  \n",
    "    make_plot(dnase_labels_unstranded,\n",
    "              dnase_count_track_ref,\n",
    "              dnase_count_track_alt,\n",
    "              dnase_blast_radius_track,\n",
    "              dnase_blast_radius_counts_track,\n",
    "              dnase_profile_explanations_ref, \n",
    "              dnase_count_explanations_ref, \n",
    "              dnase_profile_explanations_alt, \n",
    "              dnase_count_explanations_alt,\n",
    "              rsid+\":\"+chrom+\":\"+str(summit)+\":ref=\"+ref_allele+\":alt=\"+alt_allele)"
   ]
  },
  {
   "cell_type": "code",
   "execution_count": 14,
   "metadata": {
    "scrolled": true
   },
   "outputs": [
    {
     "name": "stderr",
     "output_type": "stream",
     "text": [
      "findfont: Font family ['normal'] not found. Falling back to DejaVu Sans.\n"
     ]
    },
    {
     "data": {
      "image/png": "[encoded data removed]",
      "text/plain": [
       "<Figure size 720x216 with 1 Axes>"
      ]
     },
     "metadata": {
      "needs_background": "light"
     },
     "output_type": "display_data"
    }
   ],
   "source": [
    "%matplotlib inline\n",
    "font = {'family' : 'normal',\n",
    "        'weight' : 'bold',\n",
    "        'size'   : 15}\n",
    "\n",
    "matplotlib.rc('font', **font)\n",
    "plt.rcParams[\"figure.figsize\"] = (10,3)\n",
    "\n",
    "plt.figure()\n",
    "plt.plot(dnase_count_track_ref, label=\"ref allele\")\n",
    "plt.ylim(0,0.9)\n",
    "plt.yticks([0.2,0.4,0.6,0.8])\n",
    "plt.xticks([0,500,1000])\n",
    "plt.legend()\n",
    "\n",
    "plt.show()\n",
    "\n"
   ]
  },
  {
   "cell_type": "code",
   "execution_count": 15,
   "metadata": {},
   "outputs": [
    {
     "data": {
      "image/png": "[encoded data removed]",
      "text/plain": [
       "<Figure size 720x216 with 1 Axes>"
      ]
     },
     "metadata": {
      "needs_background": "light"
     },
     "output_type": "display_data"
    }
   ],
   "source": [
    "%matplotlib inline\n",
    "font = {'family' : 'normal',\n",
    "        'weight' : 'bold',\n",
    "        'size'   : 15}\n",
    "\n",
    "matplotlib.rc('font', **font)\n",
    "plt.rcParams[\"figure.figsize\"] = (10,3)\n",
    "\n",
    "\n",
    "plt.figure()\n",
    "plt.plot(dnase_count_track_alt, color=\"r\", label=\"alt allele\")\n",
    "plt.ylim(0,0.9)\n",
    "plt.yticks([0.2,0.4,0.6,0.8])\n",
    "plt.xticks([0,500,1000])\n",
    "plt.legend()\n",
    "\n",
    "plt.show()"
   ]
  },
  {
   "cell_type": "code",
   "execution_count": 18,
   "metadata": {},
   "outputs": [
    {
     "data": {
      "image/png": "[encoded data removed]",
      "text/plain": [
       "<Figure size 864x576 with 1 Axes>"
      ]
     },
     "metadata": {
      "needs_background": "light"
     },
     "output_type": "display_data"
    }
   ],
   "source": [
    "plt.rcParams[\"figure.figsize\"] = (12,8)\n",
    "\n",
    "plt.figure()\n",
    "plt.plot(dnase_count_track_ref, color=\"b\", label=\"ref allele\", alpha=0.5)\n",
    "plt.plot(dnase_count_track_alt, color=\"r\", label=\"alt allele\", alpha=0.5)\n",
    "plt.ylim(0,0.9)\n",
    "plt.yticks([0.2,0.4,0.6,0.8])\n",
    "plt.xticks([0,200,400,600,800])\n",
    "plt.title(\"DNASE Predicted Count Track (Ref vs Alt)\")\n",
    "plt.legend()\n",
    "\n",
    "plt.show()"
   ]
  },
  {
   "cell_type": "code",
   "execution_count": 25,
   "metadata": {
    "scrolled": false
   },
   "outputs": [
    {
     "data": {
      "text/plain": [
       "([<matplotlib.axis.YTick at 0x7f82e184c050>,\n",
       "  <matplotlib.axis.YTick at 0x7f834828bb50>,\n",
       "  <matplotlib.axis.YTick at 0x7f82e184c7d0>,\n",
       "  <matplotlib.axis.YTick at 0x7f824863e0d0>],\n",
       " [Text(0, 0, ''), Text(0, 0, ''), Text(0, 0, ''), Text(0, 0, '')])"
      ]
     },
     "execution_count": 25,
     "metadata": {},
     "output_type": "execute_result"
    },
    {
     "data": {
      "image/png": "[encoded data removed]",
      "text/plain": [
       "<Figure size 720x216 with 1 Axes>"
      ]
     },
     "metadata": {
      "needs_background": "light"
     },
     "output_type": "display_data"
    }
   ],
   "source": [
    "f,axes=plt.subplots(1, 1,sharey=False)\n",
    " \n",
    "plt.rcParams[\"figure.figsize\"] = (10,3)\n",
    "plot_bases_on_ax(dnase_count_explanations_ref[400:600],axes,show_ticks=False)\n",
    "#axes[0].set_title(\"DNASE Ref Prof SHAP\",fontsize=20)\n",
    "#plot_bases_on_ax(dnase_profile_explanations_alt[425:575],axes[1],show_ticks=False)\n",
    "#axes[1].set_title(\"DNASE Ref  Prof SHAP\",fontsize=20)\n",
    "axes.set_ylim(0,0.08)\n",
    "axes.set_title(\"DNASE Ref Count SHAP\")\n",
    "#axes[1].set_ylim(0,0.025)\n",
    "plt.yticks([0.0,0.03, 0.06,0.08])\n",
    "#f.subplots_adjust(wspace=0.1, hspace=0.2)\n",
    "\n"
   ]
  }
 ],
 "metadata": {
  "kernelspec": {
   "display_name": "Python 3",
   "language": "python",
   "name": "python3"
  },
  "language_info": {
   "codemirror_mode": {
    "name": "ipython",
    "version": 3
   },
   "file_extension": ".py",
   "mimetype": "text/x-python",
   "name": "python",
   "nbconvert_exporter": "python",
   "pygments_lexer": "ipython3",
   "version": "3.7.6"
  }
 },
 "nbformat": 4,
 "nbformat_minor": 4
}
