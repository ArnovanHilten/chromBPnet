{
 "cells": [
  {
   "cell_type": "markdown",
   "metadata": {},
   "source": [
    "### Get uncorrected bigwigs"
   ]
  },
  {
   "cell_type": "code",
   "execution_count": 1,
   "metadata": {},
   "outputs": [
    {
     "name": "stdout",
     "output_type": "stream",
     "text": [
      "WARNING:tensorflow:From /users/anusri/anaconda3/lib/python3.7/site-packages/tensorflow/python/compat/v2_compat.py:96: disable_resource_variables (from tensorflow.python.ops.variable_scope) is deprecated and will be removed in a future version.\n",
      "Instructions for updating:\n",
      "non-resource variables are not supported in the long term\n"
     ]
    },
    {
     "name": "stderr",
     "output_type": "stream",
     "text": [
      "Using TensorFlow backend.\n"
     ]
    }
   ],
   "source": [
    "import pyBigWig\n",
    "import pandas as pd\n",
    "import numpy as np\n",
    "from load_model import *\n",
    "import os\n",
    "import pyfaidx\n",
    "import one_hot\n",
    "os.environ[\"CUDA_VISIBLE_DEVICES\"]=\"0\"\n",
    "\n",
    "#uncorrected_bigwig = \"shifted_4_4.sorted.bam.bpnet.unstranded.bw\"\n",
    "#uncorretced_bw = pyBigWig.open(uncorrected_bigwig)\n",
    "\n",
    "#spi1_bed = \"/srv/scratch/anusri/chrombpnet_paper/GM12878/tf_bed/SPI1_task0_peaks.bed\"\n",
    "#spi1_peaks = pd.read_csv(spi1_bed, delimiter=\"\\t\").sample(frac=0.001)\n",
    "\n",
    "reference_genome_path=\"/mnt/data/GRCh38_no_alt_analysis_set_GCA_000001405.15.fasta\"\n",
    "reader = pyfaidx.Fasta(reference_genome_path)\n",
    "\n",
    "gc_matched_negs = \"/srv/scratch/anusri/chrombpnet_paper/GM12878/negatives_data/bpnet.inputs.all.negatives.bed\"\n",
    "neg_bed=pd.read_csv(gc_matched_negs,delimiter=\"\\t\", names=[\"chr\", \"start\", \"end\", \"name\", \"score\", \"strand\", \"pval\", \"qval\", \"qval2\", \"summit\"])\n",
    "neg_bed.head()\n",
    "\n",
    "peak_bed_file = \"/oak/stanford/groups/akundaje/projects/atlas/atac/caper_out/5846e593-a935-4bd9-9294-422a05f9f9b8/call-reproducibility_idr/glob-1b1244d5baf1a7d98d4b7b76d79e43bf/idr.optimal_peak.narrowPeak.gz\"\n",
    "peak_bed=pd.read_csv(peak_bed_file,delimiter=\"\\t\", names=[\"chr\", \"start\", \"end\", \"name\", \"score\", \"strand\", \"pval\", \"qval\", \"qval2\", \"summit\"])\n",
    "\n",
    "#print(spi1_peaks.shape)\n",
    "#print(spi1_peaks.head())\n",
    "#path=\"/srv/scratch/anusri/chrombpnet_paper/GM12878/ATAC_07.22.2021/bias_fit_on_signal_step2/\"\n",
    "#path=\"/srv/scratch/anusri/chrombpnet_paper/GM12878/ATAC_07.22.2021/final_model_step3_new/\"\n",
    "\n",
    "#path=\"/srv/scratch/anusri/chrombpnet_paper/GM12878/ATAC_07.22.2021/final_model_step3_new/unplug/\"\n",
    "#path=\"/srv/scratch/anusri/chrombpnet_paper/tobias_scripts/GM12878/tobias_ATAC_08.03.2021/final_model/unplug/\"\n",
    "path=\"/srv/scratch/anusri/chrombpnet_paper/hint_atac_scripts/GM12878/hintatac_ATAC_07.27.2021/model/\"\n",
    "\n",
    "try:\n",
    "    model=load_model_wrapper(model_hdf5=path+\"model.0.hdf5\")\n",
    "except:\n",
    "    model=load_model_wrapper(json_string=path+\"model.0.arch\", weights=path+\"model.0.weights\")\n",
    "output_file=\"hintatac_tn5_motif2.pkl\""
   ]
  },
  {
   "cell_type": "code",
   "execution_count": 2,
   "metadata": {},
   "outputs": [],
   "source": [
    "test_nonpeaks = neg_bed[(neg_bed[\"chr\"]==\"chr1\")]\n",
    "#test_inpeaks = peak_bed[(peak_bed[\"chr\"]==\"chr1\")]\n",
    "\n"
   ]
  },
  {
   "cell_type": "code",
   "execution_count": 3,
   "metadata": {},
   "outputs": [],
   "source": [
    "def get_seq(genome, peaks_df, width=2114):\n",
    "    vals = []\n",
    "    for i, r in peaks_df.iterrows():\n",
    "        vals.append(str(genome[r['chr']][(r['start']+r['summit'] - width//2):(r['start'] + r['summit'] + width//2)]))\n",
    "        \n",
    "    return one_hot.dna_to_one_hot(vals)\n",
    "\n",
    "\n",
    "def softmax(x, temp=1):\n",
    "    norm_x = x - np.mean(x,axis=1, keepdims=True)\n",
    "    return np.exp(temp*norm_x)/np.sum(np.exp(temp*norm_x), axis=1, keepdims=True)"
   ]
  },
  {
   "cell_type": "code",
   "execution_count": 4,
   "metadata": {},
   "outputs": [],
   "source": [
    "test_nonpeaks_seqs = get_seq(reader, test_nonpeaks)\n",
    "\n"
   ]
  },
  {
   "cell_type": "code",
   "execution_count": 5,
   "metadata": {},
   "outputs": [],
   "source": [
    "#def profiles_predictions(seqs, model_peaks_corrected):\n",
    "#    random.shuffle(seqs)\n",
    "#    \n",
    "#    w_mot_seqs = seqs.copy()[0:100]\n",
    "#    \n",
    "#    predictions = []\n",
    "#    \n",
    "#    for i in range(0,100,20):\n",
    "#        unplug_bias_pred = softmax(model_peaks_corrected.predict([w_mot_seqs[i:i+20]], \n",
    "#                                                                       verbose=True)[0])\n",
    "#        predictions.extend(unplug_bias_pred)\n",
    "#    \n",
    "#    return predictions\n",
    "\n",
    "#print(corrected_model.inputs)\n",
    "\n",
    "#predictions = profiles_predictions(test_inpeaks_seqs, corrected_model)\n",
    "\n",
    "#predictions = np.array(predictions).reshape(100,1000)\n",
    "\n",
    "#import matplotlib.pyplot as plt\n",
    "#plt.plot(predictions[0,:])\n",
    "\n"
   ]
  },
  {
   "cell_type": "code",
   "execution_count": 6,
   "metadata": {},
   "outputs": [],
   "source": [
    "import random\n",
    "random.seed(1)\n",
    "\n",
    "num=17851\n",
    "#num=100\n",
    "    \n",
    "def profiles_for_motif(seqs, motif, model_peaks_corrected):\n",
    "    random.shuffle(seqs)\n",
    "  \n",
    "    w_mot_seqs = seqs.copy()[0:num]\n",
    "    w_mot_seqs[:, 1057:1057+len(motif)] = one_hot.dna_to_one_hot([motif])\n",
    "    \n",
    "    predictions = []\n",
    "    \n",
    "    for i in range(0,num,100):\n",
    "        unplug_bias_pred = softmax(model_peaks_corrected.predict([w_mot_seqs[i:i+100]], \n",
    "                                                                       verbose=True)[0])\n",
    "        predictions.extend(unplug_bias_pred)\n",
    "    \n",
    "    return predictions"
   ]
  },
  {
   "cell_type": "code",
   "execution_count": 7,
   "metadata": {},
   "outputs": [],
   "source": [
    "def plot_tracks(pred_unplug_bias, start=500-100+5, end=500+100+5):\n",
    "    plt.rcParams[\"figure.figsize\"] = (6,4)\n",
    "    width = end - start\n",
    "    plt.plot(range(width), pred_unplug_bias[:, start:end].mean(0))\n",
    "    plt.ylim(0,0.01)\n",
    "    plt.legend()\n",
    "    plt.show()"
   ]
  },
  {
   "cell_type": "code",
   "execution_count": 8,
   "metadata": {},
   "outputs": [
    {
     "name": "stdout",
     "output_type": "stream",
     "text": [
      "WARNING:tensorflow:From /users/anusri/anaconda3/lib/python3.7/site-packages/tensorflow/python/keras/engine/training_v1.py:2070: Model.state_updates (from tensorflow.python.keras.engine.training) is deprecated and will be removed in a future version.\n",
      "Instructions for updating:\n",
      "This property should not be used in TensorFlow 2.0, as updates are applied automatically.\n"
     ]
    }
   ],
   "source": [
    "pred_unplug_bias = profiles_for_motif(test_nonpeaks_seqs, \"GCAAGGGAAATTCCCCAGG\", model)\n",
    "#CAGTACAGAGCTG\n",
    "#pred_unplug_bias = profiles_for_motif(test_nonpeaks_seqs, \"GCNCNGNNCNGNNCNGnGC\", model)\n",
    "\n"
   ]
  },
  {
   "cell_type": "code",
   "execution_count": 9,
   "metadata": {},
   "outputs": [
    {
     "name": "stderr",
     "output_type": "stream",
     "text": [
      "No handles with labels found to put in legend.\n"
     ]
    },
    {
     "data": {
      "image/png": "[encoded data removed]",
      "text/plain": [
       "<Figure size 432x288 with 1 Axes>"
      ]
     },
     "metadata": {
      "needs_background": "light"
     },
     "output_type": "display_data"
    }
   ],
   "source": [
    "import matplotlib.pyplot as plt\n",
    "plot_tracks(np.array(pred_unplug_bias).reshape(num,1000))\n",
    "\n",
    "\n",
    "\n",
    "\n",
    "\n"
   ]
  },
  {
   "cell_type": "code",
   "execution_count": 10,
   "metadata": {},
   "outputs": [],
   "source": [
    "import pickle as pkl\n",
    "\n",
    "#pkl.dump(pred_unplug_bias, open(output_file, \"wb\"))\n",
    "\n",
    "\n",
    "\n"
   ]
  }
 ],
 "metadata": {
  "kernelspec": {
   "display_name": "Python 3",
   "language": "python",
   "name": "python3"
  },
  "language_info": {
   "codemirror_mode": {
    "name": "ipython",
    "version": 3
   },
   "file_extension": ".py",
   "mimetype": "text/x-python",
   "name": "python",
   "nbconvert_exporter": "python",
   "pygments_lexer": "ipython3",
   "version": "3.7.6"
  }
 },
 "nbformat": 4,
 "nbformat_minor": 4
}
