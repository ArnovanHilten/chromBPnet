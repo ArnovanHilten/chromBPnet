{
 "cells": [
  {
   "cell_type": "code",
   "execution_count": 5,
   "metadata": {},
   "outputs": [],
   "source": [
    "import pyBigWig\n",
    "import pandas as pd\n",
    "import numpy as np\n",
    "from load_model import *\n",
    "import os\n",
    "import pyfaidx\n",
    "import one_hot\n",
    "os.environ[\"CUDA_VISIBLE_DEVICES\"]=\"3\"\n",
    "\n",
    "\n",
    "#path=\"/srv/scratch/anusri/chrombpnet_paper/GM12878/naked_bias_4_4_shifted_ATAC_07.29.2021/bias_fit_on_signal_step2/\"\n",
    "path=\"/srv/scratch/anusri/chrombpnet_paper/H1/ATAC_07.22.2021/gm12878_bias_fit_on_signal_step2/\"\n",
    "\n",
    "try:\n",
    "    model=load_model_wrapper(model_hdf5=path+\"model.0.hdf5\")\n",
    "except:\n",
    "    model=load_model_wrapper(json_string=path+\"model.0.arch\", weights=path+\"model.0.weights\")\n",
    "output_file=\"hintatac_tn5_motif2.pkl\"\n",
    "\n",
    "\n",
    "\n",
    "\n",
    "\n",
    "\n"
   ]
  },
  {
   "cell_type": "code",
   "execution_count": 6,
   "metadata": {},
   "outputs": [
    {
     "data": {
      "text/html": [
       "[<matplotlib.lines.Line2D object at 0x7fb94c443310>]"
      ],
      "text/plain": [
       "[<matplotlib.lines.Line2D at 0x7fb94c443310>]"
      ]
     },
     "execution_count": 6,
     "metadata": {},
     "output_type": "execute_result"
    },
    {
     "data": {
      "image/png": "[encoded data removed]",
      "text/plain": [
       "<Figure size 432x288 with 1 Axes>"
      ]
     },
     "metadata": {
      "needs_background": "light"
     },
     "output_type": "display_data"
    }
   ],
   "source": [
    "import matplotlib.pyplot as plt\n",
    "\n",
    "weights = np.array(model.layers[-2].get_weights())[0]\n",
    "plt.plot(weights[:,0,0])\n",
    "\n",
    "\n",
    "\n",
    "\n"
   ]
  }
 ],
 "metadata": {
  "kernelspec": {
   "display_name": "Python 3",
   "language": "python",
   "name": "python3"
  },
  "language_info": {
   "codemirror_mode": {
    "name": "ipython",
    "version": 3
   },
   "file_extension": ".py",
   "mimetype": "text/x-python",
   "name": "python",
   "nbconvert_exporter": "python",
   "pygments_lexer": "ipython3",
   "version": "3.7.6"
  }
 },
 "nbformat": 4,
 "nbformat_minor": 4
}
