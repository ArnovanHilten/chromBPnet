{
 "cells": [
  {
   "cell_type": "markdown",
   "metadata": {},
   "source": [
    "## Imports"
   ]
  },
  {
   "cell_type": "code",
   "execution_count": 1,
   "metadata": {},
   "outputs": [],
   "source": [
    "import os\n",
    "import h5py\n",
    "import modisco\n",
    "import numpy as np\n",
    "from modisco.visualization import viz_sequence\n",
    "from matplotlib import pyplot as plt"
   ]
  },
  {
   "cell_type": "markdown",
   "metadata": {},
   "source": [
    "## Addresses"
   ]
  },
  {
   "cell_type": "code",
   "execution_count": 2,
   "metadata": {},
   "outputs": [],
   "source": [
    "setting=\"BIAS\"\n",
    "input_dir = '/oak/stanford/groups/akundaje/projects/chrombpnet_paper/importance_scores/'+setting\n",
    "modisco_dir = '/oak/stanford/groups/akundaje/projects/chrombpnet_paper/modisco/'+setting\n",
    "logo_dir = '/oak/stanford/groups/akundaje/projects/chrombpnet_paper/modisco_logos/'+setting\n",
    "dataset = 'IMR90'"
   ]
  },
  {
   "cell_type": "markdown",
   "metadata": {},
   "source": [
    "## Definitions"
   ]
  },
  {
   "cell_type": "code",
   "execution_count": 3,
   "metadata": {},
   "outputs": [],
   "source": [
    "def _plot_weights(array,\n",
    "                  path,\n",
    "                  figsize=(10,3),\n",
    "                 **kwargs):\n",
    "    fig = plt.figure(figsize=figsize)\n",
    "    ax = fig.add_subplot(111) \n",
    "    viz_sequence.plot_weights_given_ax(ax=ax, array=array,**kwargs)\n",
    "    plt.savefig(path)\n",
    "    plt.close()"
   ]
  },
  {
   "cell_type": "markdown",
   "metadata": {},
   "source": [
    "## Get Logos"
   ]
  },
  {
   "cell_type": "code",
   "execution_count": 4,
   "metadata": {},
   "outputs": [
    {
     "name": "stdout",
     "output_type": "stream",
     "text": [
      "ATAC_07.22.2021\n",
      "20K.fold0.deepSHAP\n",
      "count_shap\n",
      "/oak/stanford/groups/akundaje/projects/chrombpnet_paper/modisco/BIAS/IMR90/ATAC_07.22.2021/20K.fold0.deepSHAP.count_shap.hdf5\n",
      "profile_shap\n",
      "/oak/stanford/groups/akundaje/projects/chrombpnet_paper/modisco/BIAS/IMR90/ATAC_07.22.2021/20K.fold0.deepSHAP.profile_shap.hdf5\n"
     ]
    }
   ],
   "source": [
    "background = np.array([0.25, 0.25, 0.25, 0.25])\n",
    "\n",
    "if not os.path.isdir(logo_dir + '/' + dataset):\n",
    "    os.mkdir(logo_dir + '/' + dataset)\n",
    "\n",
    "for mode in ['ATAC_07.22.2021']:\n",
    "    print(mode)\n",
    "    if not os.path.isdir(logo_dir + '/' + dataset + '/' + mode):\n",
    "        os.mkdir(logo_dir + '/' + dataset + '/' + mode)\n",
    "    for infile in os.listdir(input_dir + '/' + dataset + '/' + mode):\n",
    "        print(infile)\n",
    "        for score_type in ['count_shap', 'profile_shap']:\n",
    "            print(score_type)\n",
    "            if os.path.isfile(modisco_dir + '/' + dataset + '/' + mode + '/' + infile + '.' + score_type + '.hdf5'):\n",
    "                modisco_file = modisco_dir + '/' + dataset + '/' + mode + '/' + infile + '.' + score_type + '.hdf5'\n",
    "                print(modisco_file)\n",
    "                hdf5_results = h5py.File(modisco_file,'r')\n",
    "                for metacluster_name in hdf5_results[\"metacluster_idx_to_submetacluster_results\"]:\n",
    "                    metacluster = hdf5_results[\"metacluster_idx_to_submetacluster_results\"][metacluster_name]\n",
    "                    if metacluster['activity_pattern'][0] == 1:\n",
    "                        all_pattern_names = [x.decode(\"utf-8\") for x in list(metacluster[\"seqlets_to_patterns_result\"][\"patterns\"][\"all_pattern_names\"][:])]\n",
    "                        for pattern_name in all_pattern_names:\n",
    "                            cwm_fwd = np.array(metacluster['seqlets_to_patterns_result']['patterns'][pattern_name]['task0_contrib_scores']['fwd'])\n",
    "                            cwm_rev = np.array(metacluster['seqlets_to_patterns_result']['patterns'][pattern_name]['task0_contrib_scores']['rev'])\n",
    "\n",
    "                            score_fwd = np.sum(np.abs(cwm_fwd), axis=1)\n",
    "                            score_rev = np.sum(np.abs(cwm_rev), axis=1)\n",
    "\n",
    "                            trim_thresh_fwd = np.max(score_fwd) * 0.3\n",
    "                            trim_thresh_rev = np.max(score_rev) * 0.3\n",
    "\n",
    "                            pass_inds_fwd = np.where(score_fwd >= trim_thresh_fwd)[0]\n",
    "                            pass_inds_rev = np.where(score_rev >= trim_thresh_rev)[0]\n",
    "\n",
    "                            start_fwd, end_fwd = max(np.min(pass_inds_fwd) - 4, 0), min(np.max(pass_inds_fwd) + 4 + 1, len(score_fwd) + 1)\n",
    "                            start_rev, end_rev = max(np.min(pass_inds_rev) - 4, 0), min(np.max(pass_inds_rev) + 4 + 1, len(score_rev) + 1)\n",
    "\n",
    "                            trimmed_cwm_fwd = cwm_fwd[start_fwd:end_fwd]\n",
    "                            trimmed_cwm_rev = cwm_rev[start_rev:end_rev]\n",
    "\n",
    "                            _plot_weights(trimmed_cwm_fwd,\n",
    "                                         path=logo_dir + '/' + dataset + '/' + mode + '/' + infile + '.' + score_type + '.' + pattern_name + '.cwm.fwd.png')\n",
    "                            _plot_weights(trimmed_cwm_rev,\n",
    "                                         path=logo_dir + '/' + dataset + '/' + mode + '/' + infile + '.' + score_type + '.' + pattern_name + '.cwm.rev.png')"
   ]
  },
  {
   "cell_type": "code",
   "execution_count": null,
   "metadata": {},
   "outputs": [],
   "source": []
  }
 ],
 "metadata": {
  "kernelspec": {
   "display_name": "Python 3",
   "language": "python",
   "name": "python3"
  },
  "language_info": {
   "codemirror_mode": {
    "name": "ipython",
    "version": 3
   },
   "file_extension": ".py",
   "mimetype": "text/x-python",
   "name": "python",
   "nbconvert_exporter": "python",
   "pygments_lexer": "ipython3",
   "version": "3.7.6"
  }
 },
 "nbformat": 4,
 "nbformat_minor": 5
}
