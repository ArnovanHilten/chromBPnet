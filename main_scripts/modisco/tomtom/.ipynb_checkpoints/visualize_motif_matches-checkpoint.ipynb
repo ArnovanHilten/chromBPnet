{
 "cells": [
  {
   "cell_type": "markdown",
   "metadata": {},
   "source": [
    "## Imports"
   ]
  },
  {
   "cell_type": "code",
   "execution_count": 1,
   "metadata": {},
   "outputs": [],
   "source": [
    "import os\n",
    "import math\n",
    "import h5py\n",
    "import modisco\n",
    "import pandas as pd\n",
    "import numpy as np\n",
    "from IPython.core.display import HTML\n",
    "from modisco.visualization import viz_sequence\n",
    "from matplotlib import pyplot as plt\n",
    "from plotnine import *\n",
    "\n",
    "pd.options.display.max_colwidth = 500"
   ]
  },
  {
   "cell_type": "markdown",
   "metadata": {},
   "source": [
    "## Addresses"
   ]
  },
  {
   "cell_type": "code",
   "execution_count": 2,
   "metadata": {},
   "outputs": [],
   "source": [
    "setting=\"SIGNAL\"\n",
    "input_dir = '/oak/stanford/groups/akundaje/projects/chrombpnet_paper/importance_scores/'+setting\n",
    "modisco_dir = '/oak/stanford/groups/akundaje/projects/chrombpnet_paper/modisco/'+setting\n",
    "tomtom_dir = '/oak/stanford/groups/akundaje/projects/chrombpnet_paper/tomtom/'+setting\n",
    "viz_dir = '/oak/stanford/groups/akundaje/projects/chrombpnet_paper/visualize_tomtom/'+setting\n",
    "logo_link = 'http://mitra.stanford.edu/kundaje/anusri/chrombpnet_paper/modisco_logos/'+setting\n",
    "logo_dir_vier = '/oak/stanford/groups/akundaje/projects/chromatin-atlas/vierstra_logos/'\n",
    "logo_link_vier = 'http://mitra.stanford.edu/kundaje/anusri/chrombpnet_paper/vierstra_logos/'\n",
    "\n",
    "dataset='H1'"
   ]
  },
  {
   "cell_type": "markdown",
   "metadata": {},
   "source": [
    "## Definitions"
   ]
  },
  {
   "cell_type": "code",
   "execution_count": 3,
   "metadata": {},
   "outputs": [],
   "source": [
    "def path_to_image_html(path):\n",
    "    return '<img src=\"'+ path + '\" width=\"240\" >'\n",
    "\n",
    "def _plot_weights(array,\n",
    "                  path,\n",
    "                  figsize=(10,3),\n",
    "                 **kwargs):\n",
    "    fig = plt.figure(figsize=figsize)\n",
    "    ax = fig.add_subplot(111) \n",
    "    viz_sequence.plot_weights_given_ax(ax=ax, array=array,**kwargs)\n",
    "    plt.savefig(path)\n",
    "    plt.close()\n",
    "\n",
    "background = np.array([0.25, 0.25, 0.25, 0.25])\n",
    "    \n",
    "def make_logo(match):\n",
    "    if match + '.png' in os.listdir(logo_dir_vier):\n",
    "        pass\n",
    "    elif match + '.pfm' in os.listdir('/oak/stanford/groups/akundaje/soumyak/motifs/pfms'):\n",
    "        ppm = np.loadtxt('/oak/stanford/groups/akundaje/soumyak/motifs/pfms/' + match + '.pfm', delimiter='\\t')\n",
    "        ppm = np.transpose(ppm)\n",
    "        _plot_weights(viz_sequence.ic_scale(ppm, background=background),\n",
    "                        path=logo_dir_vier + '/' + match + '.png')\n",
    "        \n",
    "def motif_dist(m1, cluster, tf, pattern):\n",
    "    \n",
    "    corrs = []\n",
    "    \n",
    "    m1 = np.loadtxt('/oak/stanford/groups/akundaje/soumyak/motifs/pfms/' + m1 + '.pfm', delimiter='\\t')\n",
    "    m1 = np.transpose(m1)\n",
    "    m1_shape = m1.shape\n",
    "    \n",
    "    for x in ['fwd', 'rev']:\n",
    "    \n",
    "        m2 = np.genfromtxt(modisco_dir + '/' + cluster + '/' + tf + '/pattern_' + str(pattern) + '.' + x + '.ppm', delimiter='\\t')\n",
    "    \n",
    "        m2_shape = m2.shape\n",
    "        if m1_shape[0] > m2_shape[0]:\n",
    "            diff = m1_shape[0] - m2_shape[0]\n",
    "            for i in range(diff+1):\n",
    "                new_m1 = m1[i:i+m2_shape[0]]\n",
    "                dist = np.corrcoef(new_m1.ravel(), m2.ravel())[0,1]\n",
    "                corrs.append(dist)\n",
    "        else:\n",
    "            diff = m2_shape[0] - m1_shape[0]\n",
    "            for i in range(diff+1):\n",
    "                new_m2 = m2[i:i+m1_shape[0]]\n",
    "                dist = np.corrcoef(new_m2.ravel(), m1.ravel())[0,1]\n",
    "                corrs.append(dist)\n",
    "                \n",
    "    max_corr = max(corrs)\n",
    "    return max_corr"
   ]
  },
  {
   "cell_type": "markdown",
   "metadata": {},
   "source": [
    "## Load Tomtom Results"
   ]
  },
  {
   "cell_type": "code",
   "execution_count": 4,
   "metadata": {},
   "outputs": [
    {
     "name": "stdout",
     "output_type": "stream",
     "text": [
      "ATAC_07.22.2021\n",
      "20K.fold0.deepSHAP\n",
      "count_shap\n",
      "/oak/stanford/groups/akundaje/projects/chrombpnet_paper/tomtom/SIGNAL/H1/ATAC_07.22.2021/20K.fold0.deepSHAP.count_shap.tsv\n",
      "profile_shap\n",
      "/oak/stanford/groups/akundaje/projects/chrombpnet_paper/tomtom/SIGNAL/H1/ATAC_07.22.2021/20K.fold0.deepSHAP.profile_shap.tsv\n"
     ]
    }
   ],
   "source": [
    "if not os.path.isdir(viz_dir + '/' + dataset):\n",
    "    os.mkdir(viz_dir + '/' + dataset)\n",
    "\n",
    "for mode in ['ATAC_07.22.2021']:\n",
    "    print(mode)\n",
    "    if not os.path.isdir(viz_dir + '/' + dataset + '/' + mode):\n",
    "        os.mkdir(viz_dir + '/' + dataset + '/' + mode)\n",
    "    for infile in os.listdir(input_dir + '/' + dataset + '/' + mode):\n",
    "        print(infile)\n",
    "        for score_type in ['count_shap', 'profile_shap']:\n",
    "            print(score_type)\n",
    "            print(tomtom_dir + '/' + dataset + '/' + mode + '/' + infile + '.' + score_type + '.tsv')\n",
    "            if os.path.isfile(tomtom_dir + '/' + dataset + '/' + mode + '/' + infile + '.' + score_type + '.tsv'):\n",
    "                tomtom_file = tomtom_dir + '/' + dataset + '/' + mode + '/' + infile + '.' + score_type + '.tsv'\n",
    "                print(tomtom_file)\n",
    "                \n",
    "                tomtom_df = pd.read_csv(tomtom_file, sep='\\t')\n",
    "                tomtom_df['modisco_cwm_fwd'] = [logo_link + '/' + dataset + '/' + mode + '/' + infile + '.' + score_type + '.pattern_' + str(i) + '.cwm.fwd.png'\n",
    "                                                                  for i in range(len(tomtom_df))\n",
    "                                                                 ]\n",
    "                tomtom_df['modisco_cwm_rev'] = [logo_link + '/' + dataset + '/' + mode + '/' + infile + '.' + score_type + '.pattern_' + str(i) + '.cwm.rev.png'\n",
    "                                                                  for i in range(len(tomtom_df))\n",
    "                                                                 ]\n",
    "\n",
    "                logo_dict = {x: [] for x in range(1,11)}\n",
    "\n",
    "                for index, row in tomtom_df.iterrows():\n",
    "                    for i in range(1,11):\n",
    "                        if not pd.isnull(row['match_' + str(i)]):\n",
    "                            make_logo(row['match_' + str(i)])\n",
    "                            logo_dict[i].append(logo_link_vier + '/' + row['match_' + str(i)] + '.png')\n",
    "                        else:\n",
    "                            logo_dict[i].append('NA')\n",
    "\n",
    "                for i in range(1,11):\n",
    "                    tomtom_df['match' + str(i) + '_logo'] = logo_dict[i]\n",
    "\n",
    "                tomtom_df.columns = ['pattern', 'num_seqlets',\n",
    "                                        'match0', 'qval0', 'match1', 'qval1',\n",
    "                                        'match2', 'qval2', 'match3', 'qval3',\n",
    "                                        'match4', 'qval4', 'match5', 'qval5',\n",
    "                                        'match6', 'qval6', 'match7', 'qval7',\n",
    "                                        'match8', 'qval8', 'match9', 'qval9',\n",
    "                                        'modisco_cwm_fwd', 'modisco_cwm_rev',\n",
    "                                        'match0_logo', 'match1_logo', 'match2_logo', 'match3_logo',\n",
    "                                        'match4_logo', 'match5_logo', 'match6_logo', 'match7_logo',\n",
    "                                        'match8_logo', 'match9_logo']\n",
    "\n",
    "                tomtom_df = tomtom_df[['pattern',\n",
    "                                         'num_seqlets', 'modisco_cwm_fwd', 'modisco_cwm_rev',\n",
    "                                         'match0', 'qval0', 'match0_logo', 'match1', 'qval1', 'match1_logo',\n",
    "                                         'match2', 'qval2', 'match2_logo', 'match3', 'qval3', 'match3_logo',\n",
    "                                         'match4', 'qval4', 'match4_logo', 'match5', 'qval5', 'match5_logo',\n",
    "                                         'match6', 'qval6', 'match6_logo', 'match7', 'qval7', 'match7_logo',\n",
    "                                         'match8', 'qval8', 'match8_logo', 'match9', 'qval9', 'match9_logo',\n",
    "                                        ]]\n",
    "                \n",
    "                tomtom_df.to_html(open(viz_dir + '/' + dataset + '/' + mode + '/' + infile + '.' + score_type + '.motifs.html', 'w'),\n",
    "                          escape=False, formatters=dict(modisco_cwm_fwd=path_to_image_html,\n",
    "                                                        modisco_cwm_rev=path_to_image_html,\n",
    "                                                        match0_logo=path_to_image_html,\n",
    "                                                        match1_logo=path_to_image_html,\n",
    "                                                        match2_logo=path_to_image_html,\n",
    "                                                        match3_logo=path_to_image_html,\n",
    "                                                        match4_logo=path_to_image_html,\n",
    "                                                        match5_logo=path_to_image_html,\n",
    "                                                        match6_logo=path_to_image_html,\n",
    "                                                        match7_logo=path_to_image_html,\n",
    "                                                        match8_logo=path_to_image_html,\n",
    "                                                        match9_logo=path_to_image_html\n",
    "                                                        ), index=False)\n",
    "        "
   ]
  },
  {
   "cell_type": "markdown",
   "metadata": {},
   "source": [
    "## QC"
   ]
  },
  {
   "cell_type": "code",
   "execution_count": 5,
   "metadata": {},
   "outputs": [
    {
     "ename": "NameError",
     "evalue": "name 'tomtom_df' is not defined",
     "output_type": "error",
     "traceback": [
      "\u001b[0;31m---------------------------------------------------------------------------\u001b[0m",
      "\u001b[0;31mNameError\u001b[0m                                 Traceback (most recent call last)",
      "\u001b[0;32m<ipython-input-5-480eec3de90a>\u001b[0m in \u001b[0;36m<module>\u001b[0;34m\u001b[0m\n\u001b[0;32m----> 1\u001b[0;31m \u001b[0mtomtom_df\u001b[0m\u001b[0;34m.\u001b[0m\u001b[0mhead\u001b[0m\u001b[0;34m(\u001b[0m\u001b[0;34m)\u001b[0m\u001b[0;34m\u001b[0m\u001b[0;34m\u001b[0m\u001b[0m\n\u001b[0m",
      "\u001b[0;31mNameError\u001b[0m: name 'tomtom_df' is not defined"
     ]
    }
   ],
   "source": [
    "tomtom_df.head()"
   ]
  },
  {
   "cell_type": "code",
   "execution_count": null,
   "metadata": {},
   "outputs": [],
   "source": []
  }
 ],
 "metadata": {
  "kernelspec": {
   "display_name": "Python 3",
   "language": "python",
   "name": "python3"
  },
  "language_info": {
   "codemirror_mode": {
    "name": "ipython",
    "version": 3
   },
   "file_extension": ".py",
   "mimetype": "text/x-python",
   "name": "python",
   "nbconvert_exporter": "python",
   "pygments_lexer": "ipython3",
   "version": "3.7.6"
  }
 },
 "nbformat": 4,
 "nbformat_minor": 5
}
